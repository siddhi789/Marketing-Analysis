{
 "cells": [
  {
   "cell_type": "markdown",
   "id": "9ffbc0b3",
   "metadata": {},
   "source": [
    "# Task 1.3 (Statistical Analysis using Python)"
   ]
  },
  {
   "cell_type": "markdown",
   "id": "006bb612",
   "metadata": {},
   "source": [
    "## Batch C Group 1\n",
    "### Anjum Shagufta Azad"
   ]
  },
  {
   "cell_type": "markdown",
   "id": "bbfd9d60",
   "metadata": {},
   "source": [
    "## Q1 :Descriptive statistics for both numerical and categorical and draw few insights from them."
   ]
  },
  {
   "cell_type": "code",
   "execution_count": null,
   "id": "3ecf9fa4",
   "metadata": {},
   "outputs": [],
   "source": [
    "#import linear algebra and data manipulation libraries\n",
    "import numpy as np\n",
    "import pandas as pd\n",
    "\n",
    "#import standard visualization\n",
    "import matplotlib.pyplot as plt\n",
    "import seaborn as sns\n",
    "\n",
    "#import statistical analysis libraries\n",
    "import scipy.stats as stats\n",
    "import math"
   ]
  },
  {
   "cell_type": "code",
   "execution_count": null,
   "id": "7a2900f5",
   "metadata": {},
   "outputs": [],
   "source": [
    "df1 = pd.read_csv(\"C:\\\\Users\\\\shazad\\\\Downloads\\\\Capstone Project1_Marketing Data\\\\Capstone Project1_Marketing Data\\\\Marketing_Campaign_P1\\\\City_Master.csv\")"
   ]
  },
  {
   "cell_type": "code",
   "execution_count": null,
   "id": "15367601",
   "metadata": {
    "scrolled": true
   },
   "outputs": [],
   "source": [
    "df1.head()"
   ]
  },
  {
   "cell_type": "code",
   "execution_count": null,
   "id": "a5a76c21",
   "metadata": {},
   "outputs": [],
   "source": [
    "df2 = pd.read_csv(\"C:\\\\Users\\\\shazad\\\\Downloads\\\\Capstone Project1_Marketing Data\\\\Capstone Project1_Marketing Data\\\\Marketing_Campaign_P1\\\\Customer_and_bank details_p1.csv\")\n",
    "df3 = pd.read_csv(\"C:\\\\Users\\\\shazad\\\\Downloads\\\\Capstone Project1_Marketing Data\\\\Capstone Project1_Marketing Data\\\\Marketing_Campaign_P1\\\\Customer_campaign_details_p1.csv\")\n",
    "df4= pd.read_csv(\"C:\\\\Users\\\\shazad\\\\Downloads\\\\Capstone Project1_Marketing Data\\\\Capstone Project1_Marketing Data\\\\Marketing_Campaign_P1\\\\Customer_Postal_code_details.csv\")\n",
    "df5 = pd.read_csv(\"C:\\\\Users\\\\shazad\\\\Downloads\\\\Capstone Project1_Marketing Data\\\\Capstone Project1_Marketing Data\\\\Marketing_Campaign_P1\\\\Customer_Response_data_p1.csv\")\n",
    "df6 = pd.read_csv(\"C:\\\\Users\\\\shazad\\\\Downloads\\\\Capstone Project1_Marketing Data\\\\Capstone Project1_Marketing Data\\\\Marketing_Campaign_P1\\\\Customer_social_economic_data_p1.csv\")\n",
    "df7 = pd.read_csv(\"C:\\\\Users\\\\shazad\\\\Downloads\\\\Capstone Project1_Marketing Data\\\\Capstone Project1_Marketing Data\\\\Marketing_Campaign_P1\\\\Region_code_master.csv\")\n",
    "df8 = pd.read_csv(\"C:\\\\Users\\\\shazad\\\\Downloads\\\\Capstone Project1_Marketing Data\\\\Capstone Project1_Marketing Data\\\\Marketing_Campaign_P1\\\\State_Master.csv\")"
   ]
  },
  {
   "cell_type": "code",
   "execution_count": null,
   "id": "878b412c",
   "metadata": {},
   "outputs": [],
   "source": [
    "merged = pd.merge(df1, df2)\n",
    "merge1 = pd.merge(df2,df3)\n",
    "merge2 = pd.merge(merge1, df5)\n",
    "merge3 = pd.merge(merge2, df6)"
   ]
  },
  {
   "cell_type": "markdown",
   "id": "7fd72993",
   "metadata": {},
   "source": [
    "#### Merge files: Customer & Bank Details,Customer-Campaign-Details, Customer_Social_Economic_Data, Response Data"
   ]
  },
  {
   "cell_type": "code",
   "execution_count": 16,
   "id": "d5919acd",
   "metadata": {},
   "outputs": [
    {
     "data": {
      "text/html": [
       "<div>\n",
       "<style scoped>\n",
       "    .dataframe tbody tr th:only-of-type {\n",
       "        vertical-align: middle;\n",
       "    }\n",
       "\n",
       "    .dataframe tbody tr th {\n",
       "        vertical-align: top;\n",
       "    }\n",
       "\n",
       "    .dataframe thead th {\n",
       "        text-align: right;\n",
       "    }\n",
       "</style>\n",
       "<table border=\"1\" class=\"dataframe\">\n",
       "  <thead>\n",
       "    <tr style=\"text-align: right;\">\n",
       "      <th></th>\n",
       "      <th>Customer_id</th>\n",
       "      <th>age</th>\n",
       "      <th>job</th>\n",
       "      <th>marital</th>\n",
       "      <th>education</th>\n",
       "      <th>default</th>\n",
       "      <th>housing</th>\n",
       "      <th>loan</th>\n",
       "      <th>Region_Code</th>\n",
       "      <th>State_Code</th>\n",
       "      <th>...</th>\n",
       "      <th>campaign</th>\n",
       "      <th>pdays</th>\n",
       "      <th>previous</th>\n",
       "      <th>poutcome</th>\n",
       "      <th>y</th>\n",
       "      <th>emp.var.rate</th>\n",
       "      <th>cons.price.idx</th>\n",
       "      <th>cons.conf.idx</th>\n",
       "      <th>euribor3m</th>\n",
       "      <th>nr.employed</th>\n",
       "    </tr>\n",
       "  </thead>\n",
       "  <tbody>\n",
       "    <tr>\n",
       "      <th>0</th>\n",
       "      <td>1</td>\n",
       "      <td>56</td>\n",
       "      <td>services</td>\n",
       "      <td>married</td>\n",
       "      <td>high.school</td>\n",
       "      <td>no</td>\n",
       "      <td>no</td>\n",
       "      <td>yes</td>\n",
       "      <td>3</td>\n",
       "      <td>S1</td>\n",
       "      <td>...</td>\n",
       "      <td>1</td>\n",
       "      <td>999</td>\n",
       "      <td>0</td>\n",
       "      <td>nonexistent</td>\n",
       "      <td>no</td>\n",
       "      <td>1.1</td>\n",
       "      <td>93.994</td>\n",
       "      <td>-36.4</td>\n",
       "      <td>4.857</td>\n",
       "      <td>5191.0</td>\n",
       "    </tr>\n",
       "    <tr>\n",
       "      <th>1</th>\n",
       "      <td>2</td>\n",
       "      <td>45</td>\n",
       "      <td>services</td>\n",
       "      <td>married</td>\n",
       "      <td>basic.9y</td>\n",
       "      <td>unknown</td>\n",
       "      <td>no</td>\n",
       "      <td>no</td>\n",
       "      <td>3</td>\n",
       "      <td>S1</td>\n",
       "      <td>...</td>\n",
       "      <td>1</td>\n",
       "      <td>999</td>\n",
       "      <td>0</td>\n",
       "      <td>nonexistent</td>\n",
       "      <td>no</td>\n",
       "      <td>1.1</td>\n",
       "      <td>93.994</td>\n",
       "      <td>-36.4</td>\n",
       "      <td>4.857</td>\n",
       "      <td>5191.0</td>\n",
       "    </tr>\n",
       "    <tr>\n",
       "      <th>2</th>\n",
       "      <td>3</td>\n",
       "      <td>59</td>\n",
       "      <td>admin.</td>\n",
       "      <td>married</td>\n",
       "      <td>professional.course</td>\n",
       "      <td>no</td>\n",
       "      <td>no</td>\n",
       "      <td>no</td>\n",
       "      <td>4</td>\n",
       "      <td>S2</td>\n",
       "      <td>...</td>\n",
       "      <td>1</td>\n",
       "      <td>999</td>\n",
       "      <td>0</td>\n",
       "      <td>nonexistent</td>\n",
       "      <td>no</td>\n",
       "      <td>1.1</td>\n",
       "      <td>93.994</td>\n",
       "      <td>-36.4</td>\n",
       "      <td>4.857</td>\n",
       "      <td>5191.0</td>\n",
       "    </tr>\n",
       "    <tr>\n",
       "      <th>3</th>\n",
       "      <td>4</td>\n",
       "      <td>41</td>\n",
       "      <td>blue-collar</td>\n",
       "      <td>married</td>\n",
       "      <td>unknown</td>\n",
       "      <td>unknown</td>\n",
       "      <td>no</td>\n",
       "      <td>no</td>\n",
       "      <td>3</td>\n",
       "      <td>S3</td>\n",
       "      <td>...</td>\n",
       "      <td>1</td>\n",
       "      <td>999</td>\n",
       "      <td>0</td>\n",
       "      <td>nonexistent</td>\n",
       "      <td>no</td>\n",
       "      <td>1.1</td>\n",
       "      <td>93.994</td>\n",
       "      <td>-36.4</td>\n",
       "      <td>4.857</td>\n",
       "      <td>5191.0</td>\n",
       "    </tr>\n",
       "    <tr>\n",
       "      <th>4</th>\n",
       "      <td>5</td>\n",
       "      <td>24</td>\n",
       "      <td>technician</td>\n",
       "      <td>single</td>\n",
       "      <td>professional.course</td>\n",
       "      <td>no</td>\n",
       "      <td>yes</td>\n",
       "      <td>no</td>\n",
       "      <td>3</td>\n",
       "      <td>S3</td>\n",
       "      <td>...</td>\n",
       "      <td>1</td>\n",
       "      <td>999</td>\n",
       "      <td>0</td>\n",
       "      <td>nonexistent</td>\n",
       "      <td>no</td>\n",
       "      <td>1.1</td>\n",
       "      <td>93.994</td>\n",
       "      <td>-36.4</td>\n",
       "      <td>4.857</td>\n",
       "      <td>5191.0</td>\n",
       "    </tr>\n",
       "    <tr>\n",
       "      <th>...</th>\n",
       "      <td>...</td>\n",
       "      <td>...</td>\n",
       "      <td>...</td>\n",
       "      <td>...</td>\n",
       "      <td>...</td>\n",
       "      <td>...</td>\n",
       "      <td>...</td>\n",
       "      <td>...</td>\n",
       "      <td>...</td>\n",
       "      <td>...</td>\n",
       "      <td>...</td>\n",
       "      <td>...</td>\n",
       "      <td>...</td>\n",
       "      <td>...</td>\n",
       "      <td>...</td>\n",
       "      <td>...</td>\n",
       "      <td>...</td>\n",
       "      <td>...</td>\n",
       "      <td>...</td>\n",
       "      <td>...</td>\n",
       "      <td>...</td>\n",
       "    </tr>\n",
       "    <tr>\n",
       "      <th>37079</th>\n",
       "      <td>37080</td>\n",
       "      <td>73</td>\n",
       "      <td>retired</td>\n",
       "      <td>married</td>\n",
       "      <td>professional.course</td>\n",
       "      <td>no</td>\n",
       "      <td>yes</td>\n",
       "      <td>no</td>\n",
       "      <td>2</td>\n",
       "      <td>S16</td>\n",
       "      <td>...</td>\n",
       "      <td>1</td>\n",
       "      <td>999</td>\n",
       "      <td>0</td>\n",
       "      <td>nonexistent</td>\n",
       "      <td>yes</td>\n",
       "      <td>-1.1</td>\n",
       "      <td>94.767</td>\n",
       "      <td>-50.8</td>\n",
       "      <td>1.028</td>\n",
       "      <td>4963.6</td>\n",
       "    </tr>\n",
       "    <tr>\n",
       "      <th>37080</th>\n",
       "      <td>37081</td>\n",
       "      <td>46</td>\n",
       "      <td>blue-collar</td>\n",
       "      <td>married</td>\n",
       "      <td>professional.course</td>\n",
       "      <td>no</td>\n",
       "      <td>no</td>\n",
       "      <td>no</td>\n",
       "      <td>2</td>\n",
       "      <td>S16</td>\n",
       "      <td>...</td>\n",
       "      <td>1</td>\n",
       "      <td>999</td>\n",
       "      <td>0</td>\n",
       "      <td>nonexistent</td>\n",
       "      <td>no</td>\n",
       "      <td>-1.1</td>\n",
       "      <td>94.767</td>\n",
       "      <td>-50.8</td>\n",
       "      <td>1.028</td>\n",
       "      <td>4963.6</td>\n",
       "    </tr>\n",
       "    <tr>\n",
       "      <th>37081</th>\n",
       "      <td>37082</td>\n",
       "      <td>56</td>\n",
       "      <td>retired</td>\n",
       "      <td>married</td>\n",
       "      <td>university.degree</td>\n",
       "      <td>no</td>\n",
       "      <td>yes</td>\n",
       "      <td>no</td>\n",
       "      <td>2</td>\n",
       "      <td>S16</td>\n",
       "      <td>...</td>\n",
       "      <td>2</td>\n",
       "      <td>999</td>\n",
       "      <td>0</td>\n",
       "      <td>nonexistent</td>\n",
       "      <td>no</td>\n",
       "      <td>-1.1</td>\n",
       "      <td>94.767</td>\n",
       "      <td>-50.8</td>\n",
       "      <td>1.028</td>\n",
       "      <td>4963.6</td>\n",
       "    </tr>\n",
       "    <tr>\n",
       "      <th>37082</th>\n",
       "      <td>37083</td>\n",
       "      <td>44</td>\n",
       "      <td>technician</td>\n",
       "      <td>married</td>\n",
       "      <td>professional.course</td>\n",
       "      <td>no</td>\n",
       "      <td>no</td>\n",
       "      <td>no</td>\n",
       "      <td>4</td>\n",
       "      <td>S17</td>\n",
       "      <td>...</td>\n",
       "      <td>1</td>\n",
       "      <td>999</td>\n",
       "      <td>0</td>\n",
       "      <td>nonexistent</td>\n",
       "      <td>yes</td>\n",
       "      <td>-1.1</td>\n",
       "      <td>94.767</td>\n",
       "      <td>-50.8</td>\n",
       "      <td>1.028</td>\n",
       "      <td>4963.6</td>\n",
       "    </tr>\n",
       "    <tr>\n",
       "      <th>37083</th>\n",
       "      <td>37084</td>\n",
       "      <td>74</td>\n",
       "      <td>retired</td>\n",
       "      <td>married</td>\n",
       "      <td>professional.course</td>\n",
       "      <td>no</td>\n",
       "      <td>yes</td>\n",
       "      <td>no</td>\n",
       "      <td>1</td>\n",
       "      <td>S6</td>\n",
       "      <td>...</td>\n",
       "      <td>3</td>\n",
       "      <td>999</td>\n",
       "      <td>1</td>\n",
       "      <td>failure</td>\n",
       "      <td>no</td>\n",
       "      <td>-1.1</td>\n",
       "      <td>94.767</td>\n",
       "      <td>-50.8</td>\n",
       "      <td>1.028</td>\n",
       "      <td>4963.6</td>\n",
       "    </tr>\n",
       "  </tbody>\n",
       "</table>\n",
       "<p>37084 rows × 25 columns</p>\n",
       "</div>"
      ],
      "text/plain": [
       "       Customer_id  age          job  marital            education  default  \\\n",
       "0                1   56     services  married          high.school       no   \n",
       "1                2   45     services  married             basic.9y  unknown   \n",
       "2                3   59       admin.  married  professional.course       no   \n",
       "3                4   41  blue-collar  married              unknown  unknown   \n",
       "4                5   24   technician   single  professional.course       no   \n",
       "...            ...  ...          ...      ...                  ...      ...   \n",
       "37079        37080   73      retired  married  professional.course       no   \n",
       "37080        37081   46  blue-collar  married  professional.course       no   \n",
       "37081        37082   56      retired  married    university.degree       no   \n",
       "37082        37083   44   technician  married  professional.course       no   \n",
       "37083        37084   74      retired  married  professional.course       no   \n",
       "\n",
       "      housing loan Region_Code State_Code  ... campaign pdays previous  \\\n",
       "0          no  yes           3         S1  ...        1   999        0   \n",
       "1          no   no           3         S1  ...        1   999        0   \n",
       "2          no   no           4         S2  ...        1   999        0   \n",
       "3          no   no           3         S3  ...        1   999        0   \n",
       "4         yes   no           3         S3  ...        1   999        0   \n",
       "...       ...  ...         ...        ...  ...      ...   ...      ...   \n",
       "37079     yes   no           2        S16  ...        1   999        0   \n",
       "37080      no   no           2        S16  ...        1   999        0   \n",
       "37081     yes   no           2        S16  ...        2   999        0   \n",
       "37082      no   no           4        S17  ...        1   999        0   \n",
       "37083     yes   no           1         S6  ...        3   999        1   \n",
       "\n",
       "          poutcome    y  emp.var.rate  cons.price.idx  cons.conf.idx  \\\n",
       "0      nonexistent   no           1.1          93.994          -36.4   \n",
       "1      nonexistent   no           1.1          93.994          -36.4   \n",
       "2      nonexistent   no           1.1          93.994          -36.4   \n",
       "3      nonexistent   no           1.1          93.994          -36.4   \n",
       "4      nonexistent   no           1.1          93.994          -36.4   \n",
       "...            ...  ...           ...             ...            ...   \n",
       "37079  nonexistent  yes          -1.1          94.767          -50.8   \n",
       "37080  nonexistent   no          -1.1          94.767          -50.8   \n",
       "37081  nonexistent   no          -1.1          94.767          -50.8   \n",
       "37082  nonexistent  yes          -1.1          94.767          -50.8   \n",
       "37083      failure   no          -1.1          94.767          -50.8   \n",
       "\n",
       "      euribor3m nr.employed  \n",
       "0         4.857      5191.0  \n",
       "1         4.857      5191.0  \n",
       "2         4.857      5191.0  \n",
       "3         4.857      5191.0  \n",
       "4         4.857      5191.0  \n",
       "...         ...         ...  \n",
       "37079     1.028      4963.6  \n",
       "37080     1.028      4963.6  \n",
       "37081     1.028      4963.6  \n",
       "37082     1.028      4963.6  \n",
       "37083     1.028      4963.6  \n",
       "\n",
       "[37084 rows x 25 columns]"
      ]
     },
     "execution_count": 16,
     "metadata": {},
     "output_type": "execute_result"
    }
   ],
   "source": [
    "merge3"
   ]
  },
  {
   "cell_type": "code",
   "execution_count": 17,
   "id": "71031963",
   "metadata": {},
   "outputs": [
    {
     "data": {
      "text/plain": [
       "(37084, 25)"
      ]
     },
     "execution_count": 17,
     "metadata": {},
     "output_type": "execute_result"
    }
   ],
   "source": [
    "merge3.shape\n"
   ]
  },
  {
   "cell_type": "code",
   "execution_count": 18,
   "id": "ff37df96",
   "metadata": {},
   "outputs": [
    {
     "name": "stdout",
     "output_type": "stream",
     "text": [
      "<class 'pandas.core.frame.DataFrame'>\n",
      "Int64Index: 37084 entries, 0 to 37083\n",
      "Data columns (total 25 columns):\n",
      " #   Column          Non-Null Count  Dtype  \n",
      "---  ------          --------------  -----  \n",
      " 0   Customer_id     37084 non-null  int64  \n",
      " 1   age             37084 non-null  int64  \n",
      " 2   job             37084 non-null  object \n",
      " 3   marital         37084 non-null  object \n",
      " 4   education       37084 non-null  object \n",
      " 5   default         37084 non-null  object \n",
      " 6   housing         37084 non-null  object \n",
      " 7   loan            37084 non-null  object \n",
      " 8   Region_Code     37084 non-null  object \n",
      " 9   State_Code      37084 non-null  object \n",
      " 10  City_Code       37084 non-null  object \n",
      " 11  contact         37084 non-null  object \n",
      " 12  month           37084 non-null  object \n",
      " 13  day_of_week     37084 non-null  object \n",
      " 14  duration        37084 non-null  int64  \n",
      " 15  campaign        37084 non-null  int64  \n",
      " 16  pdays           37084 non-null  int64  \n",
      " 17  previous        37084 non-null  int64  \n",
      " 18  poutcome        37084 non-null  object \n",
      " 19  y               37084 non-null  object \n",
      " 20  emp.var.rate    37084 non-null  float64\n",
      " 21  cons.price.idx  37084 non-null  float64\n",
      " 22  cons.conf.idx   37084 non-null  float64\n",
      " 23  euribor3m       37084 non-null  float64\n",
      " 24  nr.employed     37084 non-null  float64\n",
      "dtypes: float64(5), int64(6), object(14)\n",
      "memory usage: 7.4+ MB\n"
     ]
    }
   ],
   "source": [
    " merge3.info()"
   ]
  },
  {
   "cell_type": "markdown",
   "id": "5619c751",
   "metadata": {},
   "source": [
    "### Find percentage of missing values for each column"
   ]
  },
  {
   "cell_type": "code",
   "execution_count": 19,
   "id": "ccb8bf44",
   "metadata": {},
   "outputs": [
    {
     "data": {
      "text/plain": [
       "0.0"
      ]
     },
     "execution_count": 19,
     "metadata": {},
     "output_type": "execute_result"
    }
   ],
   "source": [
    "\n",
    "missing_values = merge3.isnull().mean()*100\n",
    "\n",
    "missing_values.sum()"
   ]
  },
  {
   "cell_type": "code",
   "execution_count": 20,
   "id": "68ad6a29",
   "metadata": {},
   "outputs": [
    {
     "data": {
      "text/plain": [
       "admin.           9420\n",
       "blue-collar      8314\n",
       "technician       6096\n",
       "services         3547\n",
       "management       2637\n",
       "retired          1541\n",
       "entrepreneur     1309\n",
       "self-employed    1276\n",
       "housemaid         946\n",
       "unemployed        925\n",
       "student           767\n",
       "unknown           306\n",
       "Name: job, dtype: int64"
      ]
     },
     "execution_count": 20,
     "metadata": {},
     "output_type": "execute_result"
    }
   ],
   "source": [
    "merge3['job'].value_counts()"
   ]
  },
  {
   "cell_type": "markdown",
   "id": "741fb05a",
   "metadata": {},
   "source": [
    "### According to the data most of the population is in admin profession and the least population is in student."
   ]
  },
  {
   "cell_type": "code",
   "execution_count": 21,
   "id": "5c590f55",
   "metadata": {},
   "outputs": [
    {
     "data": {
      "text/plain": [
       "married     22479\n",
       "single      10407\n",
       "divorced     4126\n",
       "unknown        72\n",
       "Name: marital, dtype: int64"
      ]
     },
     "execution_count": 21,
     "metadata": {},
     "output_type": "execute_result"
    }
   ],
   "source": [
    "merge3['marital'].value_counts()"
   ]
  },
  {
   "cell_type": "markdown",
   "id": "fa3eca76",
   "metadata": {},
   "source": [
    "### Most of the population is married and least are the divorced."
   ]
  },
  {
   "cell_type": "code",
   "execution_count": 22,
   "id": "6ec45eec",
   "metadata": {},
   "outputs": [
    {
     "data": {
      "text/plain": [
       "university.degree      10971\n",
       "high.school             8542\n",
       "basic.9y                5421\n",
       "professional.course     4746\n",
       "basic.4y                3765\n",
       "basic.6y                2074\n",
       "unknown                 1549\n",
       "illiterate                16\n",
       "Name: education, dtype: int64"
      ]
     },
     "execution_count": 22,
     "metadata": {},
     "output_type": "execute_result"
    }
   ],
   "source": [
    "merge3['education'].value_counts()"
   ]
  },
  {
   "cell_type": "markdown",
   "id": "47acf7df",
   "metadata": {},
   "source": [
    "### Most of the population has university degree i.e. 10971 and the illiterate in the population are 16 only."
   ]
  },
  {
   "cell_type": "code",
   "execution_count": 23,
   "id": "454ca07e",
   "metadata": {},
   "outputs": [
    {
     "data": {
      "text/plain": [
       "yes        19433\n",
       "no         16769\n",
       "unknown      882\n",
       "Name: housing, dtype: int64"
      ]
     },
     "execution_count": 23,
     "metadata": {},
     "output_type": "execute_result"
    }
   ],
   "source": [
    "merge3['housing'].value_counts()\n"
   ]
  },
  {
   "cell_type": "markdown",
   "id": "59e648db",
   "metadata": {},
   "source": [
    "### 19433 customers have housing loan."
   ]
  },
  {
   "cell_type": "code",
   "execution_count": 24,
   "id": "2060481c",
   "metadata": {},
   "outputs": [
    {
     "data": {
      "text/plain": [
       "no         30561\n",
       "yes         5641\n",
       "unknown      882\n",
       "Name: loan, dtype: int64"
      ]
     },
     "execution_count": 24,
     "metadata": {},
     "output_type": "execute_result"
    }
   ],
   "source": [
    "merge3['loan'].value_counts()"
   ]
  },
  {
   "cell_type": "markdown",
   "id": "c37abe91",
   "metadata": {},
   "source": [
    "### From the data we can infer that personal loan is availed by less no. of customers."
   ]
  },
  {
   "cell_type": "code",
   "execution_count": 25,
   "id": "46b0bfa8",
   "metadata": {},
   "outputs": [
    {
     "data": {
      "text/plain": [
       "cellular     23522\n",
       "telephone    13562\n",
       "Name: contact, dtype: int64"
      ]
     },
     "execution_count": 25,
     "metadata": {},
     "output_type": "execute_result"
    }
   ],
   "source": [
    "merge3['contact'].value_counts()"
   ]
  },
  {
   "cell_type": "markdown",
   "id": "7b3c38ba",
   "metadata": {},
   "source": [
    "### According to the data we can infer that most of the customers are contacted through cell phone rather than telephone. It means that marketting campaign can be well advertised through cellular phone rather than telephone."
   ]
  },
  {
   "cell_type": "code",
   "execution_count": 26,
   "id": "15501c67",
   "metadata": {},
   "outputs": [
    {
     "data": {
      "text/plain": [
       "may    12420\n",
       "jul     6430\n",
       "aug     5562\n",
       "jun     4786\n",
       "nov     3705\n",
       "apr     2388\n",
       "oct      630\n",
       "sep      510\n",
       "mar      487\n",
       "dec      166\n",
       "Name: month, dtype: int64"
      ]
     },
     "execution_count": 26,
     "metadata": {},
     "output_type": "execute_result"
    }
   ],
   "source": [
    "merge3['month'].value_counts()"
   ]
  },
  {
   "cell_type": "markdown",
   "id": "6edf1f3c",
   "metadata": {},
   "source": [
    "### In the month of May, frequency of the bank marketting campaign was high and in the December month least marketting campaign was done."
   ]
  },
  {
   "cell_type": "code",
   "execution_count": 27,
   "id": "6d9ce85a",
   "metadata": {},
   "outputs": [
    {
     "data": {
      "text/plain": [
       "thu    7778\n",
       "mon    7671\n",
       "wed    7341\n",
       "tue    7262\n",
       "fri    7032\n",
       "Name: day_of_week, dtype: int64"
      ]
     },
     "execution_count": 27,
     "metadata": {},
     "output_type": "execute_result"
    }
   ],
   "source": [
    "merge3['day_of_week'].value_counts()"
   ]
  },
  {
   "cell_type": "markdown",
   "id": "3b4d5242",
   "metadata": {},
   "source": [
    "### Most of the marketting campaign was done on thursday, 7778 and less no. of marketting campaign was done on friday i.e 7032."
   ]
  },
  {
   "cell_type": "markdown",
   "id": "5231d8c6",
   "metadata": {},
   "source": [
    "## Mean\n"
   ]
  },
  {
   "cell_type": "code",
   "execution_count": 55,
   "id": "56e27c36",
   "metadata": {},
   "outputs": [
    {
     "data": {
      "text/plain": [
       "age                 40.042714\n",
       "duration           258.237946\n",
       "campaign             2.569545\n",
       "previous             0.172986\n",
       "emp.var.rate         0.082669\n",
       "cons.price.idx      93.576076\n",
       "cons.conf.idx      -40.505183\n",
       "euribor3m            3.621668\n",
       "nr.employed       5167.058664\n",
       "dtype: float64"
      ]
     },
     "execution_count": 55,
     "metadata": {},
     "output_type": "execute_result"
    }
   ],
   "source": [
    "merge3[['age', 'duration', 'campaign', 'previous', 'emp.var.rate', 'cons.price.idx', 'cons.conf.idx', 'euribor3m', 'nr.employed' ]].mean()"
   ]
  },
  {
   "cell_type": "markdown",
   "id": "1632f158",
   "metadata": {},
   "source": [
    "  "
   ]
  },
  {
   "cell_type": "markdown",
   "id": "66a36b5a",
   "metadata": {},
   "source": [
    "## Standard Deviation \n"
   ]
  },
  {
   "cell_type": "code",
   "execution_count": 56,
   "id": "c21be630",
   "metadata": {},
   "outputs": [
    {
     "data": {
      "text/plain": [
       "age                10.432965\n",
       "duration          258.730909\n",
       "campaign            2.770611\n",
       "previous            0.495681\n",
       "emp.var.rate        1.568997\n",
       "cons.price.idx      0.578493\n",
       "cons.conf.idx       4.622045\n",
       "euribor3m           1.733972\n",
       "nr.employed        72.196605\n",
       "dtype: float64"
      ]
     },
     "execution_count": 56,
     "metadata": {},
     "output_type": "execute_result"
    }
   ],
   "source": [
    "merge3[['age', 'duration', 'campaign', 'previous', 'emp.var.rate', 'cons.price.idx', 'cons.conf.idx', 'euribor3m', 'nr.employed' ]].std()"
   ]
  },
  {
   "cell_type": "markdown",
   "id": "f9eade2f",
   "metadata": {},
   "source": [
    "## Variance\n"
   ]
  },
  {
   "cell_type": "code",
   "execution_count": 57,
   "id": "d320c59a",
   "metadata": {},
   "outputs": [
    {
     "data": {
      "text/plain": [
       "age                 108.846758\n",
       "duration          66941.683369\n",
       "campaign              7.676284\n",
       "previous              0.245700\n",
       "emp.var.rate          2.461752\n",
       "cons.price.idx        0.334654\n",
       "cons.conf.idx        21.363301\n",
       "euribor3m             3.006659\n",
       "nr.employed        5212.349718\n",
       "dtype: float64"
      ]
     },
     "execution_count": 57,
     "metadata": {},
     "output_type": "execute_result"
    }
   ],
   "source": [
    "merge3[['age', 'duration', 'campaign', 'previous', 'emp.var.rate', 'cons.price.idx', 'cons.conf.idx', 'euribor3m', 'nr.employed' ]].var()"
   ]
  },
  {
   "cell_type": "markdown",
   "id": "9e04daab",
   "metadata": {},
   "source": [
    "## Quantile\n"
   ]
  },
  {
   "cell_type": "code",
   "execution_count": 58,
   "id": "00b06781",
   "metadata": {},
   "outputs": [
    {
     "name": "stdout",
     "output_type": "stream",
     "text": [
      "age                 32.000\n",
      "duration           102.000\n",
      "campaign             1.000\n",
      "previous             0.000\n",
      "emp.var.rate        -1.800\n",
      "cons.price.idx      93.075\n",
      "cons.conf.idx      -42.700\n",
      "euribor3m            1.344\n",
      "nr.employed       5099.100\n",
      "Name: 0.25, dtype: float64\n"
     ]
    }
   ],
   "source": [
    "quantile1 = merge3[['age', 'duration', 'campaign', 'previous', 'emp.var.rate', 'cons.price.idx', 'cons.conf.idx', 'euribor3m', 'nr.employed' ]].quantile(q = 0.25)\n",
    "print(quantile1)"
   ]
  },
  {
   "cell_type": "code",
   "execution_count": 59,
   "id": "fd3d441d",
   "metadata": {
    "scrolled": true
   },
   "outputs": [
    {
     "name": "stdout",
     "output_type": "stream",
     "text": [
      "age                 38.000\n",
      "duration           180.000\n",
      "campaign             2.000\n",
      "previous             0.000\n",
      "emp.var.rate         1.100\n",
      "cons.price.idx      93.749\n",
      "cons.conf.idx      -41.800\n",
      "euribor3m            4.857\n",
      "nr.employed       5191.000\n",
      "Name: 0.5, dtype: float64\n"
     ]
    }
   ],
   "source": [
    "quantile2 = merge3[['age', 'duration', 'campaign', 'previous', 'emp.var.rate', 'cons.price.idx', 'cons.conf.idx', 'euribor3m', 'nr.employed' ]].quantile(q = 0.50)\n",
    "print(quantile2)"
   ]
  },
  {
   "cell_type": "code",
   "execution_count": 60,
   "id": "91fbeee8",
   "metadata": {},
   "outputs": [
    {
     "name": "stdout",
     "output_type": "stream",
     "text": [
      "age                 47.000\n",
      "duration           319.250\n",
      "campaign             3.000\n",
      "previous             0.000\n",
      "emp.var.rate         1.400\n",
      "cons.price.idx      93.994\n",
      "cons.conf.idx      -36.400\n",
      "euribor3m            4.961\n",
      "nr.employed       5228.100\n",
      "Name: 0.75, dtype: float64\n"
     ]
    }
   ],
   "source": [
    "quantile3 = merge3[['age', 'duration', 'campaign', 'previous', 'emp.var.rate', 'cons.price.idx', 'cons.conf.idx', 'euribor3m', 'nr.employed' ]].quantile(q = 0.75)\n",
    "print(quantile3)"
   ]
  },
  {
   "cell_type": "markdown",
   "id": "af834fd6",
   "metadata": {},
   "source": [
    "## Skewness\n"
   ]
  },
  {
   "cell_type": "code",
   "execution_count": 61,
   "id": "7f06b530",
   "metadata": {},
   "outputs": [
    {
     "data": {
      "text/plain": [
       "age               0.791149\n",
       "duration          3.227855\n",
       "campaign          4.743603\n",
       "previous          3.857052\n",
       "emp.var.rate     -0.722887\n",
       "cons.price.idx   -0.229499\n",
       "cons.conf.idx     0.297522\n",
       "euribor3m        -0.709765\n",
       "nr.employed      -1.044873\n",
       "dtype: float64"
      ]
     },
     "execution_count": 61,
     "metadata": {},
     "output_type": "execute_result"
    }
   ],
   "source": [
    "merge3[['age', 'duration', 'campaign', 'previous', 'emp.var.rate', 'cons.price.idx', 'cons.conf.idx', 'euribor3m', 'nr.employed' ]].skew()"
   ]
  },
  {
   "cell_type": "markdown",
   "id": "138e315b",
   "metadata": {},
   "source": [
    "#### Age is moderately skewed  that indicate asymmetry in the distribution. \n",
    "#### Duration, Campaign and previous are also highly skewed..\n",
    "#### Employment variance rate, Consumer price index, euribor 3 month rate are negatively skewed indicating asymmetry in the distribution.\n",
    "\n"
   ]
  },
  {
   "cell_type": "markdown",
   "id": "2810b704",
   "metadata": {},
   "source": [
    "## Kurtosis"
   ]
  },
  {
   "cell_type": "code",
   "execution_count": 62,
   "id": "dff8dfaa",
   "metadata": {},
   "outputs": [
    {
     "data": {
      "text/plain": [
       "age                0.819752\n",
       "duration          19.931726\n",
       "campaign          36.838540\n",
       "previous          20.494177\n",
       "emp.var.rate      -1.064707\n",
       "cons.price.idx    -0.829896\n",
       "cons.conf.idx     -0.370663\n",
       "euribor3m         -1.405760\n",
       "nr.employed       -0.000882\n",
       "dtype: float64"
      ]
     },
     "execution_count": 62,
     "metadata": {},
     "output_type": "execute_result"
    }
   ],
   "source": [
    "merge3[['age', 'duration', 'campaign', 'previous', 'emp.var.rate', 'cons.price.idx', 'cons.conf.idx', 'euribor3m', 'nr.employed' ]].kurtosis()"
   ]
  },
  {
   "cell_type": "markdown",
   "id": "e2267303",
   "metadata": {},
   "source": [
    "#### Kurtosis of (duration, campaign, pdays, previous) > 3; \n",
    "#### Therefore, it is Leptokurtic.\n",
    "\n",
    "#### Kurtosis for (emp.var.rate, cons.price.id, nr.employed,cons.conf.idx, euribor3m) < 3;\n",
    "#### Therefore, it is Platykurtic.\n"
   ]
  },
  {
   "cell_type": "markdown",
   "id": "299f2460",
   "metadata": {},
   "source": [
    "# Analysis of the response data with other attributes:"
   ]
  },
  {
   "cell_type": "code",
   "execution_count": 37,
   "id": "e0220a32",
   "metadata": {
    "scrolled": false
   },
   "outputs": [
    {
     "name": "stdout",
     "output_type": "stream",
     "text": [
      "check 1:  loan     y  \n",
      "no       no     27062\n",
      "         yes     3499\n",
      "unknown  no       791\n",
      "         yes       91\n",
      "yes      no      5023\n",
      "         yes      618\n",
      "dtype: int64\n",
      "\n",
      "\n",
      "check 2:  job            y  \n",
      "admin.         no     8174\n",
      "               yes    1246\n",
      "blue-collar    no     7738\n",
      "               yes     576\n",
      "entrepreneur   no     1198\n",
      "               yes     111\n",
      "housemaid      no      853\n",
      "               yes      93\n",
      "management     no     2345\n",
      "               yes     292\n",
      "retired        no     1146\n",
      "               yes     395\n",
      "self-employed  no     1145\n",
      "               yes     131\n",
      "services       no     3249\n",
      "               yes     298\n",
      "student        no      527\n",
      "               yes     240\n",
      "technician     no     5439\n",
      "               yes     657\n",
      "unemployed     no      791\n",
      "               yes     134\n",
      "unknown        no      271\n",
      "               yes      35\n",
      "dtype: int64\n",
      "\n",
      "\n",
      "check 3:  marital   y  \n",
      "divorced  no      3699\n",
      "          yes      427\n",
      "married   no     20187\n",
      "          yes     2292\n",
      "single    no      8930\n",
      "          yes     1477\n",
      "unknown   no        60\n",
      "          yes       12\n",
      "dtype: int64\n",
      "\n",
      "\n",
      "check 4:  education            y  \n",
      "basic.4y             no     3374\n",
      "                     yes     391\n",
      "basic.6y             no     1903\n",
      "                     yes     171\n",
      "basic.9y             no     5001\n",
      "                     yes     420\n",
      "high.school          no     7597\n",
      "                     yes     945\n",
      "illiterate           no       14\n",
      "                     yes       2\n",
      "professional.course  no     4205\n",
      "                     yes     541\n",
      "university.degree    no     9464\n",
      "                     yes    1507\n",
      "unknown              no     1318\n",
      "                     yes     231\n",
      "dtype: int64\n",
      "\n",
      "\n",
      "check 5:  poutcome     y  \n",
      "failure      no      3274\n",
      "             yes      548\n",
      "nonexistent  no     29178\n",
      "             yes     2845\n",
      "success      no       424\n",
      "             yes      815\n",
      "dtype: int64\n",
      "\n",
      "\n",
      "check 6:  month  y  \n",
      "apr    no      1892\n",
      "       yes      496\n",
      "aug    no      4973\n",
      "       yes      589\n",
      "dec    no        84\n",
      "       yes       82\n",
      "jul    no      5839\n",
      "       yes      591\n",
      "jun    no      4278\n",
      "       yes      508\n",
      "mar    no       241\n",
      "       yes      246\n",
      "may    no     11607\n",
      "       yes      813\n",
      "nov    no      3328\n",
      "       yes      377\n",
      "oct    no       351\n",
      "       yes      279\n",
      "sep    no       283\n",
      "       yes      227\n",
      "dtype: int64\n",
      "\n",
      "\n",
      "check 7:  y    default\n",
      "no   no         25576\n",
      "     unknown     7298\n",
      "     yes            2\n",
      "yes  no          3806\n",
      "     unknown      402\n",
      "dtype: int64\n"
     ]
    }
   ],
   "source": [
    "# lets get some more understanding of data and relationships\n",
    "print('check 1: ', merge3.groupby(['loan','y']).size())\n",
    "print('\\n\\ncheck 2: ', merge3.groupby(['job','y']).size())\n",
    "print('\\n\\ncheck 3: ', merge3.groupby(['marital','y']).size())\n",
    "print('\\n\\ncheck 4: ', merge3.groupby(['education','y']).size())\n",
    "print('\\n\\ncheck 5: ', merge3.groupby(['poutcome','y']).size())\n",
    "print('\\n\\ncheck 6: ', merge3.groupby(['month','y']).size())\n",
    "print('\\n\\ncheck 7: ', merge3.groupby(['y', 'default']).size())\n",
    "\n"
   ]
  },
  {
   "cell_type": "markdown",
   "id": "16dd0c5a",
   "metadata": {},
   "source": [
    "##### In the above analysis we used groupby() to see the relationship between response column and other attribiutes.\n",
    "##### 27062 customers didn't have personal loan and they didnt subsribed for term deposit.\n",
    "##### 3499 of the customer doesn't have personal loan but they subscribed for term deposit.\n",
    "##### 5023 customers have personal loan but they didn't subscribed for term deposit.\n",
    "##### 618 customers have personal loan and they subscribed term deposit.\n",
    "##### According to the above data, customers who subscribed for the term deposit are mostly from administration:1246 and the least subscribed are unemployed: 134.\n",
    "##### Married customer are affecting the term deposit alot. Married customer who availed the term deposit are 2292 and non availed married customers are: 20187\n",
    "##### May is the only month where there are high rate of customers who subscribed for the term deosit: 813\n",
    "\n",
    "\n",
    "\n",
    "\n",
    "\n"
   ]
  },
  {
   "cell_type": "markdown",
   "id": "00e32faf",
   "metadata": {},
   "source": [
    "## Statistical Analysis on numeric columns\n"
   ]
  },
  {
   "cell_type": "markdown",
   "id": "8c8c23b0",
   "metadata": {},
   "source": [
    "#### In the dataset we have both categorical and numerical columns. Let's look at the values of numeric columns first."
   ]
  },
  {
   "cell_type": "code",
   "execution_count": 47,
   "id": "47a8b971",
   "metadata": {},
   "outputs": [
    {
     "data": {
      "text/html": [
       "<div>\n",
       "<style scoped>\n",
       "    .dataframe tbody tr th:only-of-type {\n",
       "        vertical-align: middle;\n",
       "    }\n",
       "\n",
       "    .dataframe tbody tr th {\n",
       "        vertical-align: top;\n",
       "    }\n",
       "\n",
       "    .dataframe thead th {\n",
       "        text-align: right;\n",
       "    }\n",
       "</style>\n",
       "<table border=\"1\" class=\"dataframe\">\n",
       "  <thead>\n",
       "    <tr style=\"text-align: right;\">\n",
       "      <th></th>\n",
       "      <th>pdays</th>\n",
       "      <th>campaign</th>\n",
       "      <th>previous</th>\n",
       "    </tr>\n",
       "  </thead>\n",
       "  <tbody>\n",
       "    <tr>\n",
       "      <th>count</th>\n",
       "      <td>37084.000000</td>\n",
       "      <td>37084.000000</td>\n",
       "      <td>37084.000000</td>\n",
       "    </tr>\n",
       "    <tr>\n",
       "      <th>mean</th>\n",
       "      <td>962.530849</td>\n",
       "      <td>2.569545</td>\n",
       "      <td>0.172986</td>\n",
       "    </tr>\n",
       "    <tr>\n",
       "      <th>std</th>\n",
       "      <td>186.773063</td>\n",
       "      <td>2.770611</td>\n",
       "      <td>0.495681</td>\n",
       "    </tr>\n",
       "    <tr>\n",
       "      <th>min</th>\n",
       "      <td>0.000000</td>\n",
       "      <td>1.000000</td>\n",
       "      <td>0.000000</td>\n",
       "    </tr>\n",
       "    <tr>\n",
       "      <th>25%</th>\n",
       "      <td>999.000000</td>\n",
       "      <td>1.000000</td>\n",
       "      <td>0.000000</td>\n",
       "    </tr>\n",
       "    <tr>\n",
       "      <th>50%</th>\n",
       "      <td>999.000000</td>\n",
       "      <td>2.000000</td>\n",
       "      <td>0.000000</td>\n",
       "    </tr>\n",
       "    <tr>\n",
       "      <th>75%</th>\n",
       "      <td>999.000000</td>\n",
       "      <td>3.000000</td>\n",
       "      <td>0.000000</td>\n",
       "    </tr>\n",
       "    <tr>\n",
       "      <th>max</th>\n",
       "      <td>999.000000</td>\n",
       "      <td>56.000000</td>\n",
       "      <td>7.000000</td>\n",
       "    </tr>\n",
       "  </tbody>\n",
       "</table>\n",
       "</div>"
      ],
      "text/plain": [
       "              pdays      campaign      previous\n",
       "count  37084.000000  37084.000000  37084.000000\n",
       "mean     962.530849      2.569545      0.172986\n",
       "std      186.773063      2.770611      0.495681\n",
       "min        0.000000      1.000000      0.000000\n",
       "25%      999.000000      1.000000      0.000000\n",
       "50%      999.000000      2.000000      0.000000\n",
       "75%      999.000000      3.000000      0.000000\n",
       "max      999.000000     56.000000      7.000000"
      ]
     },
     "execution_count": 47,
     "metadata": {},
     "output_type": "execute_result"
    }
   ],
   "source": [
    "merge3[['pdays', 'campaign', 'previous']].describe()\n"
   ]
  },
  {
   "cell_type": "markdown",
   "id": "a6ac97fc",
   "metadata": {},
   "source": [
    "##### According to the above observation we infer that minimum no. of days that passed by after client was last contacted from     previous campaign is 0.\n",
    "##### The minimum no. of contacts performed during the campaign and for this the client last contacted was only 1.\n",
    "##### Maximum times the no.of contacts performed during the campaign and for this the client last contacted was 56.\n",
    "##### The no. of minimum contacts performed before the campaign and for this client was contacted is 0.\n",
    "##### The no. of maximum contacts performed before the campaign and for this client was contacted is 7.\n"
   ]
  },
  {
   "cell_type": "markdown",
   "id": "e0a867c2",
   "metadata": {},
   "source": [
    "# Analysis of the response column\n"
   ]
  },
  {
   "cell_type": "markdown",
   "id": "15e744d5",
   "metadata": {},
   "source": [
    "##### It is very important to look at the response column, which holds the information, which we are going to predict. In our case we should look at 'y' column and compare its values to other columns. First of all we should look at the number of 'yes' and 'no' values in the response column 'y'\n"
   ]
  },
  {
   "cell_type": "markdown",
   "id": "ee9a1b6f",
   "metadata": {},
   "source": [
    "##### Now let's look how numerical columns affect term deposit subscription.\n",
    "\n"
   ]
  },
  {
   "cell_type": "code",
   "execution_count": 48,
   "id": "56f4c643",
   "metadata": {},
   "outputs": [
    {
     "data": {
      "text/html": [
       "<div>\n",
       "<style scoped>\n",
       "    .dataframe tbody tr th:only-of-type {\n",
       "        vertical-align: middle;\n",
       "    }\n",
       "\n",
       "    .dataframe tbody tr th {\n",
       "        vertical-align: top;\n",
       "    }\n",
       "\n",
       "    .dataframe thead th {\n",
       "        text-align: right;\n",
       "    }\n",
       "</style>\n",
       "<table border=\"1\" class=\"dataframe\">\n",
       "  <thead>\n",
       "    <tr style=\"text-align: right;\">\n",
       "      <th></th>\n",
       "      <th>age_yes</th>\n",
       "      <th>age_no</th>\n",
       "    </tr>\n",
       "  </thead>\n",
       "  <tbody>\n",
       "    <tr>\n",
       "      <th>count</th>\n",
       "      <td>4208.000000</td>\n",
       "      <td>32876.00000</td>\n",
       "    </tr>\n",
       "    <tr>\n",
       "      <th>mean</th>\n",
       "      <td>40.962928</td>\n",
       "      <td>39.92493</td>\n",
       "    </tr>\n",
       "    <tr>\n",
       "      <th>std</th>\n",
       "      <td>13.865754</td>\n",
       "      <td>9.90220</td>\n",
       "    </tr>\n",
       "    <tr>\n",
       "      <th>min</th>\n",
       "      <td>17.000000</td>\n",
       "      <td>17.00000</td>\n",
       "    </tr>\n",
       "    <tr>\n",
       "      <th>25%</th>\n",
       "      <td>31.000000</td>\n",
       "      <td>32.00000</td>\n",
       "    </tr>\n",
       "    <tr>\n",
       "      <th>50%</th>\n",
       "      <td>37.000000</td>\n",
       "      <td>38.00000</td>\n",
       "    </tr>\n",
       "    <tr>\n",
       "      <th>75%</th>\n",
       "      <td>50.000000</td>\n",
       "      <td>47.00000</td>\n",
       "    </tr>\n",
       "    <tr>\n",
       "      <th>max</th>\n",
       "      <td>98.000000</td>\n",
       "      <td>95.00000</td>\n",
       "    </tr>\n",
       "  </tbody>\n",
       "</table>\n",
       "</div>"
      ],
      "text/plain": [
       "           age_yes       age_no\n",
       "count  4208.000000  32876.00000\n",
       "mean     40.962928     39.92493\n",
       "std      13.865754      9.90220\n",
       "min      17.000000     17.00000\n",
       "25%      31.000000     32.00000\n",
       "50%      37.000000     38.00000\n",
       "75%      50.000000     47.00000\n",
       "max      98.000000     95.00000"
      ]
     },
     "execution_count": 48,
     "metadata": {},
     "output_type": "execute_result"
    }
   ],
   "source": [
    "#age and target column y\n",
    "\n",
    "a_df = pd.DataFrame()\n",
    "a_df['age_yes'] = (merge3[merge3['y'] == 'yes'][['y','age']].describe())['age']\n",
    "a_df['age_no'] = (merge3[merge3['y'] == 'no'][['y','age']].describe())['age']\n",
    "\n",
    "a_df"
   ]
  },
  {
   "cell_type": "markdown",
   "id": "c5cdc57a",
   "metadata": {},
   "source": [
    "##### The minimum age of the customer who availed the term deposit is of 17 years.\n",
    "##### The average age of the customer's who availed the term deposit/bank scheme is of 40.96 yeras.\n",
    "##### The maximum age of the customer who availed the term deposit is of 98 years.\n",
    "##### The maximum age of the customer who didn't availed the term deposit is of 95 years.\n",
    "##### The average age of the customer's who didn't availed the term deposit/bank scheme is of 39.92 yeras.\n",
    "\n"
   ]
  },
  {
   "cell_type": "code",
   "execution_count": 54,
   "id": "d51007b7",
   "metadata": {},
   "outputs": [
    {
     "data": {
      "text/html": [
       "<div>\n",
       "<style scoped>\n",
       "    .dataframe tbody tr th:only-of-type {\n",
       "        vertical-align: middle;\n",
       "    }\n",
       "\n",
       "    .dataframe tbody tr th {\n",
       "        vertical-align: top;\n",
       "    }\n",
       "\n",
       "    .dataframe thead th {\n",
       "        text-align: right;\n",
       "    }\n",
       "</style>\n",
       "<table border=\"1\" class=\"dataframe\">\n",
       "  <thead>\n",
       "    <tr style=\"text-align: right;\">\n",
       "      <th></th>\n",
       "      <th>campaign_yes</th>\n",
       "      <th>campaign_no</th>\n",
       "    </tr>\n",
       "  </thead>\n",
       "  <tbody>\n",
       "    <tr>\n",
       "      <th>count</th>\n",
       "      <td>4208.000000</td>\n",
       "      <td>32876.000000</td>\n",
       "    </tr>\n",
       "    <tr>\n",
       "      <th>mean</th>\n",
       "      <td>2.048004</td>\n",
       "      <td>2.636300</td>\n",
       "    </tr>\n",
       "    <tr>\n",
       "      <th>std</th>\n",
       "      <td>1.661395</td>\n",
       "      <td>2.875126</td>\n",
       "    </tr>\n",
       "    <tr>\n",
       "      <th>min</th>\n",
       "      <td>1.000000</td>\n",
       "      <td>1.000000</td>\n",
       "    </tr>\n",
       "    <tr>\n",
       "      <th>25%</th>\n",
       "      <td>1.000000</td>\n",
       "      <td>1.000000</td>\n",
       "    </tr>\n",
       "    <tr>\n",
       "      <th>50%</th>\n",
       "      <td>2.000000</td>\n",
       "      <td>2.000000</td>\n",
       "    </tr>\n",
       "    <tr>\n",
       "      <th>75%</th>\n",
       "      <td>2.000000</td>\n",
       "      <td>3.000000</td>\n",
       "    </tr>\n",
       "    <tr>\n",
       "      <th>max</th>\n",
       "      <td>23.000000</td>\n",
       "      <td>56.000000</td>\n",
       "    </tr>\n",
       "  </tbody>\n",
       "</table>\n",
       "</div>"
      ],
      "text/plain": [
       "       campaign_yes   campaign_no\n",
       "count   4208.000000  32876.000000\n",
       "mean       2.048004      2.636300\n",
       "std        1.661395      2.875126\n",
       "min        1.000000      1.000000\n",
       "25%        1.000000      1.000000\n",
       "50%        2.000000      2.000000\n",
       "75%        2.000000      3.000000\n",
       "max       23.000000     56.000000"
      ]
     },
     "execution_count": 54,
     "metadata": {},
     "output_type": "execute_result"
    }
   ],
   "source": [
    "#number of contacts performed during this campaign ('campaign') and target column y\n",
    "c_df = pd.DataFrame()\n",
    "c_df['campaign_yes'] = (merge3[merge3['y'] == 'yes'][['y','campaign']].describe())['campaign']\n",
    "c_df['campaign_no'] = (merge3[merge3['y'] == 'no'][['y','campaign']].describe())['campaign']\n",
    "\n",
    "c_df"
   ]
  },
  {
   "cell_type": "markdown",
   "id": "7f29feb0",
   "metadata": {},
   "source": [
    "####  Average no. of contacts performed during the campaign who agreed to the term deposit are 2.04 and the one who didn't agreed to the term deposit/bank marketting campagin are 2.64\n",
    "#### Minimum no. of contacts performed during the campaign who agreed to the term deposit is 1 and who didn't agreed ia also 1.\n",
    "#### Maximum no. of contacts performed during the campaign who agreed to the term deposit are 23 and the minimum no. of contacts performed during the campaign who agreed to the term deposit are 5\n"
   ]
  },
  {
   "cell_type": "code",
   "execution_count": 53,
   "id": "9d2aa8ee",
   "metadata": {},
   "outputs": [
    {
     "data": {
      "text/html": [
       "<div>\n",
       "<style scoped>\n",
       "    .dataframe tbody tr th:only-of-type {\n",
       "        vertical-align: middle;\n",
       "    }\n",
       "\n",
       "    .dataframe tbody tr th {\n",
       "        vertical-align: top;\n",
       "    }\n",
       "\n",
       "    .dataframe thead th {\n",
       "        text-align: right;\n",
       "    }\n",
       "</style>\n",
       "<table border=\"1\" class=\"dataframe\">\n",
       "  <thead>\n",
       "    <tr style=\"text-align: right;\">\n",
       "      <th></th>\n",
       "      <th>previous_yes</th>\n",
       "      <th>previous_no</th>\n",
       "    </tr>\n",
       "  </thead>\n",
       "  <tbody>\n",
       "    <tr>\n",
       "      <th>count</th>\n",
       "      <td>4208.000000</td>\n",
       "      <td>32876.000000</td>\n",
       "    </tr>\n",
       "    <tr>\n",
       "      <th>mean</th>\n",
       "      <td>0.493584</td>\n",
       "      <td>0.131950</td>\n",
       "    </tr>\n",
       "    <tr>\n",
       "      <th>std</th>\n",
       "      <td>0.861150</td>\n",
       "      <td>0.409158</td>\n",
       "    </tr>\n",
       "    <tr>\n",
       "      <th>min</th>\n",
       "      <td>0.000000</td>\n",
       "      <td>0.000000</td>\n",
       "    </tr>\n",
       "    <tr>\n",
       "      <th>25%</th>\n",
       "      <td>0.000000</td>\n",
       "      <td>0.000000</td>\n",
       "    </tr>\n",
       "    <tr>\n",
       "      <th>50%</th>\n",
       "      <td>0.000000</td>\n",
       "      <td>0.000000</td>\n",
       "    </tr>\n",
       "    <tr>\n",
       "      <th>75%</th>\n",
       "      <td>1.000000</td>\n",
       "      <td>0.000000</td>\n",
       "    </tr>\n",
       "    <tr>\n",
       "      <th>max</th>\n",
       "      <td>6.000000</td>\n",
       "      <td>7.000000</td>\n",
       "    </tr>\n",
       "  </tbody>\n",
       "</table>\n",
       "</div>"
      ],
      "text/plain": [
       "       previous_yes   previous_no\n",
       "count   4208.000000  32876.000000\n",
       "mean       0.493584      0.131950\n",
       "std        0.861150      0.409158\n",
       "min        0.000000      0.000000\n",
       "25%        0.000000      0.000000\n",
       "50%        0.000000      0.000000\n",
       "75%        1.000000      0.000000\n",
       "max        6.000000      7.000000"
      ]
     },
     "execution_count": 53,
     "metadata": {},
     "output_type": "execute_result"
    }
   ],
   "source": [
    "#number of contacts performed during previous campaign ('previous') and target column y\n",
    "p_df = pd.DataFrame()\n",
    "p_df['previous_yes'] = (merge3[merge3['y'] == 'yes'][['y','previous']].describe())['previous']\n",
    "p_df['previous_no'] = (merge3[merge3['y'] == 'no'][['y','previous']].describe())['previous']\n",
    "\n",
    "p_df"
   ]
  },
  {
   "cell_type": "markdown",
   "id": "8c0b22c1",
   "metadata": {},
   "source": [
    "#### Average no. of contacts performed before the campaign is 0.49 who agreed for the term deposit and the one who didn't agreed are 0.13.\n",
    "#### Minimum no. of contacts performed before the campaign is 0 who agreed for the term deposit and the one who didn't agreed were also 0.\n",
    "####  Maximum no. of contacts performed before the campaign are 6 who agreed for the term deposit and the one who didn't agreed are 7"
   ]
  },
  {
   "cell_type": "code",
   "execution_count": null,
   "id": "919d33b3",
   "metadata": {},
   "outputs": [],
   "source": []
  },
  {
   "cell_type": "markdown",
   "id": "4b84faff",
   "metadata": {},
   "source": [
    "#  Task 1.3 Statistical Analysis using Python\n",
    "###  Q2: Performing relevant hypothesis testing"
   ]
  },
  {
   "cell_type": "markdown",
   "id": "6feef8ce",
   "metadata": {},
   "source": [
    "### a)_To check whether mode of Contact has any correlation with the response of the customer using the Chi Square Test._\n",
    "#### Null Hypothesis: Response of the customer does not depend on contact\n",
    "#### Alternate Hypothesis: Response of the customer depends on contact"
   ]
  },
  {
   "cell_type": "code",
   "execution_count": 7,
   "id": "ba87b76c",
   "metadata": {},
   "outputs": [],
   "source": [
    "import pandas as pd\n",
    "import numpy as np\n",
    "from pandas import Series, DataFrame\n",
    "import scipy.stats as st"
   ]
  },
  {
   "cell_type": "code",
   "execution_count": 8,
   "id": "fb65092d",
   "metadata": {},
   "outputs": [],
   "source": [
    "#Loading the customer data csv files\"\n",
    "\n",
    "df5=pd.read_csv(\"C:/Users/anwpatnaik/Downloads/Capstone Project1_Marketing Data/Capstone Project1_Marketing Data/Marketing_Campaign_P1/Customer_campaign_details_p1.csv\")\n",
    "df6=pd.read_csv(\"C:/Users/anwpatnaik/Downloads/Capstone Project1_Marketing Data/Capstone Project1_Marketing Data/Marketing_Campaign_P1/Customer_response_data_p1.csv\")\n",
    "df7=pd.read_csv(\"C:/Users/anwpatnaik/Downloads/Capstone Project1_Marketing Data/Capstone Project1_Marketing Data/Marketing_Campaign_P1/Customer_social_economic_data_p1.csv\")\n",
    "Customer_and_bank_details = pd.read_csv(\"C:/Users/anwpatnaik/Downloads/Capstone Project1_Marketing Data/Capstone Project1_Marketing Data/Marketing_Campaign_P1/Customer_and_bank details_p1.csv\")"
   ]
  },
  {
   "cell_type": "code",
   "execution_count": 9,
   "id": "6f99b6ed",
   "metadata": {},
   "outputs": [],
   "source": [
    "#Computing cross tabulation of 2 columns- Response and Contact\n",
    "\n",
    "chi=pd.crosstab(df6.y,df5.contact)"
   ]
  },
  {
   "cell_type": "code",
   "execution_count": 10,
   "id": "fb9be2b6",
   "metadata": {},
   "outputs": [
    {
     "data": {
      "text/html": [
       "<div>\n",
       "<style scoped>\n",
       "    .dataframe tbody tr th:only-of-type {\n",
       "        vertical-align: middle;\n",
       "    }\n",
       "\n",
       "    .dataframe tbody tr th {\n",
       "        vertical-align: top;\n",
       "    }\n",
       "\n",
       "    .dataframe thead th {\n",
       "        text-align: right;\n",
       "    }\n",
       "</style>\n",
       "<table border=\"1\" class=\"dataframe\">\n",
       "  <thead>\n",
       "    <tr style=\"text-align: right;\">\n",
       "      <th>contact</th>\n",
       "      <th>cellular</th>\n",
       "      <th>telephone</th>\n",
       "    </tr>\n",
       "    <tr>\n",
       "      <th>y</th>\n",
       "      <th></th>\n",
       "      <th></th>\n",
       "    </tr>\n",
       "  </thead>\n",
       "  <tbody>\n",
       "    <tr>\n",
       "      <th>no</th>\n",
       "      <td>20030</td>\n",
       "      <td>12846</td>\n",
       "    </tr>\n",
       "    <tr>\n",
       "      <th>yes</th>\n",
       "      <td>3492</td>\n",
       "      <td>716</td>\n",
       "    </tr>\n",
       "  </tbody>\n",
       "</table>\n",
       "</div>"
      ],
      "text/plain": [
       "contact  cellular  telephone\n",
       "y                           \n",
       "no          20030      12846\n",
       "yes          3492        716"
      ]
     },
     "execution_count": 10,
     "metadata": {},
     "output_type": "execute_result"
    }
   ],
   "source": [
    "chi"
   ]
  },
  {
   "cell_type": "code",
   "execution_count": 11,
   "id": "caf55b95",
   "metadata": {},
   "outputs": [],
   "source": [
    "#Allocating the values of dataframe Chi into an array\n",
    "\n",
    "chi2= np.array([chi.iloc[0][:2].values, chi.iloc[1][:2].values])"
   ]
  },
  {
   "cell_type": "code",
   "execution_count": 12,
   "id": "53fa3b30",
   "metadata": {},
   "outputs": [
    {
     "data": {
      "text/plain": [
       "array([[20030, 12846],\n",
       "       [ 3492,   716]], dtype=int64)"
      ]
     },
     "execution_count": 12,
     "metadata": {},
     "output_type": "execute_result"
    }
   ],
   "source": [
    "chi2"
   ]
  },
  {
   "cell_type": "code",
   "execution_count": 13,
   "id": "c86db1eb",
   "metadata": {},
   "outputs": [
    {
     "data": {
      "text/plain": [
       "(781.5964619543073, 5.412272241321877e-172)"
      ]
     },
     "execution_count": 13,
     "metadata": {},
     "output_type": "execute_result"
    }
   ],
   "source": [
    "st.chi2_contingency(chi2)[0:2]"
   ]
  },
  {
   "cell_type": "markdown",
   "id": "6f93c7f8",
   "metadata": {},
   "source": [
    "#### As  P Value is very less(Null), we are accepting the Alternate Hypothesis.\n",
    "#### Which means that the Reponse of the customer depends on the mode of Contact(Cellular/Telephone)"
   ]
  },
  {
   "cell_type": "code",
   "execution_count": null,
   "id": "96168f88",
   "metadata": {},
   "outputs": [],
   "source": []
  },
  {
   "cell_type": "markdown",
   "id": "7dd1a0e3",
   "metadata": {},
   "source": [
    "### b) _To check whether Loan has any correlation with the response of the customer using the Chi Square Test._\n",
    "#### Null Hypothesis: Response of the customer does not depend on Loan\n",
    "#### Alternate Hypothesis: Response of the customer depends on Loan"
   ]
  },
  {
   "cell_type": "code",
   "execution_count": 15,
   "id": "a9b30cc8",
   "metadata": {},
   "outputs": [],
   "source": [
    "#Computing cross tabulation of 2 columns- Response and loan\n",
    "   \n",
    "chi3=pd.crosstab(Customer_and_bank_details[\"loan\"],df6.y)"
   ]
  },
  {
   "cell_type": "code",
   "execution_count": 16,
   "id": "07ca9a0b",
   "metadata": {},
   "outputs": [
    {
     "data": {
      "text/html": [
       "<div>\n",
       "<style scoped>\n",
       "    .dataframe tbody tr th:only-of-type {\n",
       "        vertical-align: middle;\n",
       "    }\n",
       "\n",
       "    .dataframe tbody tr th {\n",
       "        vertical-align: top;\n",
       "    }\n",
       "\n",
       "    .dataframe thead th {\n",
       "        text-align: right;\n",
       "    }\n",
       "</style>\n",
       "<table border=\"1\" class=\"dataframe\">\n",
       "  <thead>\n",
       "    <tr style=\"text-align: right;\">\n",
       "      <th>y</th>\n",
       "      <th>no</th>\n",
       "      <th>yes</th>\n",
       "    </tr>\n",
       "    <tr>\n",
       "      <th>loan</th>\n",
       "      <th></th>\n",
       "      <th></th>\n",
       "    </tr>\n",
       "  </thead>\n",
       "  <tbody>\n",
       "    <tr>\n",
       "      <th>no</th>\n",
       "      <td>27062</td>\n",
       "      <td>3499</td>\n",
       "    </tr>\n",
       "    <tr>\n",
       "      <th>unknown</th>\n",
       "      <td>791</td>\n",
       "      <td>91</td>\n",
       "    </tr>\n",
       "    <tr>\n",
       "      <th>yes</th>\n",
       "      <td>5023</td>\n",
       "      <td>618</td>\n",
       "    </tr>\n",
       "  </tbody>\n",
       "</table>\n",
       "</div>"
      ],
      "text/plain": [
       "y           no   yes\n",
       "loan                \n",
       "no       27062  3499\n",
       "unknown    791    91\n",
       "yes       5023   618"
      ]
     },
     "execution_count": 16,
     "metadata": {},
     "output_type": "execute_result"
    }
   ],
   "source": [
    "chi3"
   ]
  },
  {
   "cell_type": "code",
   "execution_count": 17,
   "id": "66c3d871",
   "metadata": {},
   "outputs": [],
   "source": [
    "#Allocating the values of dataframe Chi3 into an array\n",
    "\n",
    "chi2= np.array([chi3.iloc[0][:2].values, chi3.iloc[1][:2].values,chi3.iloc[2][:2].values])"
   ]
  },
  {
   "cell_type": "code",
   "execution_count": 18,
   "id": "47a20d33",
   "metadata": {},
   "outputs": [
    {
     "data": {
      "text/plain": [
       "array([[27062,  3499],\n",
       "       [  791,    91],\n",
       "       [ 5023,   618]], dtype=int64)"
      ]
     },
     "execution_count": 18,
     "metadata": {},
     "output_type": "execute_result"
    }
   ],
   "source": [
    "chi2"
   ]
  },
  {
   "cell_type": "code",
   "execution_count": 19,
   "id": "4249f894",
   "metadata": {},
   "outputs": [
    {
     "data": {
      "text/plain": [
       "(2.1063167111252143, 0.34883426478989643, 2)"
      ]
     },
     "execution_count": 19,
     "metadata": {},
     "output_type": "execute_result"
    }
   ],
   "source": [
    "st.chi2_contingency(chi2)[0:3]"
   ]
  },
  {
   "cell_type": "markdown",
   "id": "baeb2870",
   "metadata": {},
   "source": [
    "#### As P Value is higher than Alpha(0.05), hence accepting the Null Hypothesis\n",
    "#### Which means that the response of the customer does not depend on Loan"
   ]
  },
  {
   "cell_type": "code",
   "execution_count": null,
   "id": "a13f1fb2",
   "metadata": {},
   "outputs": [],
   "source": []
  },
  {
   "cell_type": "markdown",
   "id": "b979f317",
   "metadata": {},
   "source": [
    "### c) _To check whether the age is dependent on job or not using ANOVA Test_\n",
    "  \n",
    "#### Null Hypothesis: Mean age is independent of Job.\n",
    "#### Alternate Hypothesis: Mean age is dependent on Job."
   ]
  },
  {
   "cell_type": "code",
   "execution_count": 20,
   "id": "b7e00c57",
   "metadata": {},
   "outputs": [],
   "source": [
    "services = Customer_and_bank_details[Customer_and_bank_details['job'] == 'services']['age']\n",
    "admin = Customer_and_bank_details[Customer_and_bank_details['job'] == 'admin.']['age']\n",
    "blue_Collar = Customer_and_bank_details[Customer_and_bank_details['job'] == 'blue-collar']['age']\n",
    "technician = Customer_and_bank_details[Customer_and_bank_details['job'] == 'technician']['age']\n",
    "housemaid = Customer_and_bank_details[Customer_and_bank_details['job'] == 'housemaid']['age']\n",
    "retired = Customer_and_bank_details[Customer_and_bank_details['job'] == 'retired']['age']\n",
    "management = Customer_and_bank_details[Customer_and_bank_details['job'] == 'management']['age']\n",
    "self_employed = Customer_and_bank_details[Customer_and_bank_details['job'] == 'self-employed']['age']\n",
    "student = Customer_and_bank_details[Customer_and_bank_details['job'] == 'student']['age']\n",
    "   "
   ]
  },
  {
   "cell_type": "code",
   "execution_count": 21,
   "id": "39f23bd1",
   "metadata": {},
   "outputs": [
    {
     "data": {
      "text/plain": [
       "Jarque_beraResult(statistic=176.91423648001214, pvalue=0.0)"
      ]
     },
     "execution_count": 21,
     "metadata": {},
     "output_type": "execute_result"
    }
   ],
   "source": [
    "st.jarque_bera(services)"
   ]
  },
  {
   "cell_type": "markdown",
   "id": "eb9455d0",
   "metadata": {},
   "source": [
    "#### As p value is obtained using JB Test is less than 0.05 hence\n",
    "\n",
    "#### Reject the null hypothesis\n",
    "\n",
    "#### Hence sample does not follow Normal Distribution thus we can't apply parametric test"
   ]
  }
 ],
 "metadata": {
  "kernelspec": {
   "display_name": "Python 3 (ipykernel)",
   "language": "python",
   "name": "python3"
  },
  "language_info": {
   "codemirror_mode": {
    "name": "ipython",
    "version": 3
   },
   "file_extension": ".py",
   "mimetype": "text/x-python",
   "name": "python",
   "nbconvert_exporter": "python",
   "pygments_lexer": "ipython3",
   "version": "3.9.7"
  }
 },
 "nbformat": 4,
 "nbformat_minor": 5
}
