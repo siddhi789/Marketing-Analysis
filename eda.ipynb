{
 "cells": [
  {
   "cell_type": "markdown",
   "id": "8c6129bb",
   "metadata": {},
   "source": [
    "# TASK 2.2 (Exploratory Data Analysis)\n",
    "## Marketing for Financial Services"
   ]
  },
  {
   "cell_type": "markdown",
   "id": "942bd411",
   "metadata": {},
   "source": [
    "## Batch C Group 1\n",
    "### Sidhi Agarwal"
   ]
  },
  {
   "cell_type": "code",
   "execution_count": 1,
   "id": "4caeee69",
   "metadata": {},
   "outputs": [],
   "source": [
    "import pandas as pd\n",
    "import numpy as np\n",
    "import seaborn as sns\n",
    "import matplotlib.pyplot as plt\n",
    "import warnings\n",
    "warnings.filterwarnings(\"ignore\")"
   ]
  },
  {
   "cell_type": "code",
   "execution_count": 2,
   "id": "745ab36a",
   "metadata": {},
   "outputs": [
    {
     "data": {
      "text/html": [
       "<div>\n",
       "<style scoped>\n",
       "    .dataframe tbody tr th:only-of-type {\n",
       "        vertical-align: middle;\n",
       "    }\n",
       "\n",
       "    .dataframe tbody tr th {\n",
       "        vertical-align: top;\n",
       "    }\n",
       "\n",
       "    .dataframe thead th {\n",
       "        text-align: right;\n",
       "    }\n",
       "</style>\n",
       "<table border=\"1\" class=\"dataframe\">\n",
       "  <thead>\n",
       "    <tr style=\"text-align: right;\">\n",
       "      <th></th>\n",
       "      <th>Customer_id</th>\n",
       "      <th>age</th>\n",
       "      <th>job</th>\n",
       "      <th>marital</th>\n",
       "      <th>education</th>\n",
       "      <th>default</th>\n",
       "      <th>housing</th>\n",
       "      <th>loan</th>\n",
       "      <th>Region_Code</th>\n",
       "      <th>State_Code</th>\n",
       "      <th>City_Code</th>\n",
       "    </tr>\n",
       "  </thead>\n",
       "  <tbody>\n",
       "    <tr>\n",
       "      <th>0</th>\n",
       "      <td>1</td>\n",
       "      <td>56</td>\n",
       "      <td>services</td>\n",
       "      <td>married</td>\n",
       "      <td>high.school</td>\n",
       "      <td>no</td>\n",
       "      <td>no</td>\n",
       "      <td>yes</td>\n",
       "      <td>3</td>\n",
       "      <td>S1</td>\n",
       "      <td>C1</td>\n",
       "    </tr>\n",
       "    <tr>\n",
       "      <th>1</th>\n",
       "      <td>2</td>\n",
       "      <td>45</td>\n",
       "      <td>services</td>\n",
       "      <td>married</td>\n",
       "      <td>basic.9y</td>\n",
       "      <td>unknown</td>\n",
       "      <td>no</td>\n",
       "      <td>no</td>\n",
       "      <td>3</td>\n",
       "      <td>S1</td>\n",
       "      <td>C1</td>\n",
       "    </tr>\n",
       "    <tr>\n",
       "      <th>2</th>\n",
       "      <td>3</td>\n",
       "      <td>59</td>\n",
       "      <td>admin.</td>\n",
       "      <td>married</td>\n",
       "      <td>professional.course</td>\n",
       "      <td>no</td>\n",
       "      <td>no</td>\n",
       "      <td>no</td>\n",
       "      <td>4</td>\n",
       "      <td>S2</td>\n",
       "      <td>C2</td>\n",
       "    </tr>\n",
       "    <tr>\n",
       "      <th>3</th>\n",
       "      <td>4</td>\n",
       "      <td>41</td>\n",
       "      <td>blue-collar</td>\n",
       "      <td>married</td>\n",
       "      <td>unknown</td>\n",
       "      <td>unknown</td>\n",
       "      <td>no</td>\n",
       "      <td>no</td>\n",
       "      <td>3</td>\n",
       "      <td>S3</td>\n",
       "      <td>C3</td>\n",
       "    </tr>\n",
       "    <tr>\n",
       "      <th>4</th>\n",
       "      <td>5</td>\n",
       "      <td>24</td>\n",
       "      <td>technician</td>\n",
       "      <td>single</td>\n",
       "      <td>professional.course</td>\n",
       "      <td>no</td>\n",
       "      <td>yes</td>\n",
       "      <td>no</td>\n",
       "      <td>3</td>\n",
       "      <td>S3</td>\n",
       "      <td>C3</td>\n",
       "    </tr>\n",
       "    <tr>\n",
       "      <th>...</th>\n",
       "      <td>...</td>\n",
       "      <td>...</td>\n",
       "      <td>...</td>\n",
       "      <td>...</td>\n",
       "      <td>...</td>\n",
       "      <td>...</td>\n",
       "      <td>...</td>\n",
       "      <td>...</td>\n",
       "      <td>...</td>\n",
       "      <td>...</td>\n",
       "      <td>...</td>\n",
       "    </tr>\n",
       "    <tr>\n",
       "      <th>37079</th>\n",
       "      <td>37080</td>\n",
       "      <td>73</td>\n",
       "      <td>retired</td>\n",
       "      <td>married</td>\n",
       "      <td>professional.course</td>\n",
       "      <td>no</td>\n",
       "      <td>yes</td>\n",
       "      <td>no</td>\n",
       "      <td>2</td>\n",
       "      <td>S16</td>\n",
       "      <td>C21</td>\n",
       "    </tr>\n",
       "    <tr>\n",
       "      <th>37080</th>\n",
       "      <td>37081</td>\n",
       "      <td>46</td>\n",
       "      <td>blue-collar</td>\n",
       "      <td>married</td>\n",
       "      <td>professional.course</td>\n",
       "      <td>no</td>\n",
       "      <td>no</td>\n",
       "      <td>no</td>\n",
       "      <td>2</td>\n",
       "      <td>S16</td>\n",
       "      <td>C21</td>\n",
       "    </tr>\n",
       "    <tr>\n",
       "      <th>37081</th>\n",
       "      <td>37082</td>\n",
       "      <td>56</td>\n",
       "      <td>retired</td>\n",
       "      <td>married</td>\n",
       "      <td>university.degree</td>\n",
       "      <td>no</td>\n",
       "      <td>yes</td>\n",
       "      <td>no</td>\n",
       "      <td>2</td>\n",
       "      <td>S16</td>\n",
       "      <td>C21</td>\n",
       "    </tr>\n",
       "    <tr>\n",
       "      <th>37082</th>\n",
       "      <td>37083</td>\n",
       "      <td>44</td>\n",
       "      <td>technician</td>\n",
       "      <td>married</td>\n",
       "      <td>professional.course</td>\n",
       "      <td>no</td>\n",
       "      <td>no</td>\n",
       "      <td>no</td>\n",
       "      <td>4</td>\n",
       "      <td>S17</td>\n",
       "      <td>C49</td>\n",
       "    </tr>\n",
       "    <tr>\n",
       "      <th>37083</th>\n",
       "      <td>37084</td>\n",
       "      <td>74</td>\n",
       "      <td>retired</td>\n",
       "      <td>married</td>\n",
       "      <td>professional.course</td>\n",
       "      <td>no</td>\n",
       "      <td>yes</td>\n",
       "      <td>no</td>\n",
       "      <td>1</td>\n",
       "      <td>S6</td>\n",
       "      <td>C113</td>\n",
       "    </tr>\n",
       "  </tbody>\n",
       "</table>\n",
       "<p>37084 rows × 11 columns</p>\n",
       "</div>"
      ],
      "text/plain": [
       "       Customer_id  age          job  marital            education  default  \\\n",
       "0                1   56     services  married          high.school       no   \n",
       "1                2   45     services  married             basic.9y  unknown   \n",
       "2                3   59       admin.  married  professional.course       no   \n",
       "3                4   41  blue-collar  married              unknown  unknown   \n",
       "4                5   24   technician   single  professional.course       no   \n",
       "...            ...  ...          ...      ...                  ...      ...   \n",
       "37079        37080   73      retired  married  professional.course       no   \n",
       "37080        37081   46  blue-collar  married  professional.course       no   \n",
       "37081        37082   56      retired  married    university.degree       no   \n",
       "37082        37083   44   technician  married  professional.course       no   \n",
       "37083        37084   74      retired  married  professional.course       no   \n",
       "\n",
       "      housing loan Region_Code State_Code City_Code  \n",
       "0          no  yes           3         S1        C1  \n",
       "1          no   no           3         S1        C1  \n",
       "2          no   no           4         S2        C2  \n",
       "3          no   no           3         S3        C3  \n",
       "4         yes   no           3         S3        C3  \n",
       "...       ...  ...         ...        ...       ...  \n",
       "37079     yes   no           2        S16       C21  \n",
       "37080      no   no           2        S16       C21  \n",
       "37081     yes   no           2        S16       C21  \n",
       "37082      no   no           4        S17       C49  \n",
       "37083     yes   no           1         S6      C113  \n",
       "\n",
       "[37084 rows x 11 columns]"
      ]
     },
     "execution_count": 2,
     "metadata": {},
     "output_type": "execute_result"
    }
   ],
   "source": [
    "#loading main customer detail csv file\n",
    "df=pd.read_csv(\"Customer_and_bank details_p1.csv\")\n",
    "df"
   ]
  },
  {
   "cell_type": "code",
   "execution_count": 3,
   "id": "178f6719",
   "metadata": {},
   "outputs": [],
   "source": [
    "# loading customer response detail csv file\n",
    "df1=pd.read_csv(\"Customer_Response_data_p1.csv\")"
   ]
  },
  {
   "cell_type": "code",
   "execution_count": 4,
   "id": "ceda56ea",
   "metadata": {},
   "outputs": [
    {
     "data": {
      "text/html": [
       "<div>\n",
       "<style scoped>\n",
       "    .dataframe tbody tr th:only-of-type {\n",
       "        vertical-align: middle;\n",
       "    }\n",
       "\n",
       "    .dataframe tbody tr th {\n",
       "        vertical-align: top;\n",
       "    }\n",
       "\n",
       "    .dataframe thead th {\n",
       "        text-align: right;\n",
       "    }\n",
       "</style>\n",
       "<table border=\"1\" class=\"dataframe\">\n",
       "  <thead>\n",
       "    <tr style=\"text-align: right;\">\n",
       "      <th></th>\n",
       "      <th>Customer_id</th>\n",
       "      <th>age</th>\n",
       "      <th>job</th>\n",
       "      <th>marital</th>\n",
       "      <th>education</th>\n",
       "      <th>default</th>\n",
       "      <th>housing</th>\n",
       "      <th>loan</th>\n",
       "      <th>Region_Code</th>\n",
       "      <th>State_Code</th>\n",
       "      <th>City_Code</th>\n",
       "      <th>y</th>\n",
       "    </tr>\n",
       "  </thead>\n",
       "  <tbody>\n",
       "    <tr>\n",
       "      <th>0</th>\n",
       "      <td>1</td>\n",
       "      <td>56</td>\n",
       "      <td>services</td>\n",
       "      <td>married</td>\n",
       "      <td>high.school</td>\n",
       "      <td>no</td>\n",
       "      <td>no</td>\n",
       "      <td>yes</td>\n",
       "      <td>3</td>\n",
       "      <td>S1</td>\n",
       "      <td>C1</td>\n",
       "      <td>no</td>\n",
       "    </tr>\n",
       "    <tr>\n",
       "      <th>1</th>\n",
       "      <td>2</td>\n",
       "      <td>45</td>\n",
       "      <td>services</td>\n",
       "      <td>married</td>\n",
       "      <td>basic.9y</td>\n",
       "      <td>unknown</td>\n",
       "      <td>no</td>\n",
       "      <td>no</td>\n",
       "      <td>3</td>\n",
       "      <td>S1</td>\n",
       "      <td>C1</td>\n",
       "      <td>no</td>\n",
       "    </tr>\n",
       "    <tr>\n",
       "      <th>2</th>\n",
       "      <td>3</td>\n",
       "      <td>59</td>\n",
       "      <td>admin.</td>\n",
       "      <td>married</td>\n",
       "      <td>professional.course</td>\n",
       "      <td>no</td>\n",
       "      <td>no</td>\n",
       "      <td>no</td>\n",
       "      <td>4</td>\n",
       "      <td>S2</td>\n",
       "      <td>C2</td>\n",
       "      <td>no</td>\n",
       "    </tr>\n",
       "    <tr>\n",
       "      <th>3</th>\n",
       "      <td>4</td>\n",
       "      <td>41</td>\n",
       "      <td>blue-collar</td>\n",
       "      <td>married</td>\n",
       "      <td>unknown</td>\n",
       "      <td>unknown</td>\n",
       "      <td>no</td>\n",
       "      <td>no</td>\n",
       "      <td>3</td>\n",
       "      <td>S3</td>\n",
       "      <td>C3</td>\n",
       "      <td>no</td>\n",
       "    </tr>\n",
       "    <tr>\n",
       "      <th>4</th>\n",
       "      <td>5</td>\n",
       "      <td>24</td>\n",
       "      <td>technician</td>\n",
       "      <td>single</td>\n",
       "      <td>professional.course</td>\n",
       "      <td>no</td>\n",
       "      <td>yes</td>\n",
       "      <td>no</td>\n",
       "      <td>3</td>\n",
       "      <td>S3</td>\n",
       "      <td>C3</td>\n",
       "      <td>no</td>\n",
       "    </tr>\n",
       "    <tr>\n",
       "      <th>...</th>\n",
       "      <td>...</td>\n",
       "      <td>...</td>\n",
       "      <td>...</td>\n",
       "      <td>...</td>\n",
       "      <td>...</td>\n",
       "      <td>...</td>\n",
       "      <td>...</td>\n",
       "      <td>...</td>\n",
       "      <td>...</td>\n",
       "      <td>...</td>\n",
       "      <td>...</td>\n",
       "      <td>...</td>\n",
       "    </tr>\n",
       "    <tr>\n",
       "      <th>37079</th>\n",
       "      <td>37080</td>\n",
       "      <td>73</td>\n",
       "      <td>retired</td>\n",
       "      <td>married</td>\n",
       "      <td>professional.course</td>\n",
       "      <td>no</td>\n",
       "      <td>yes</td>\n",
       "      <td>no</td>\n",
       "      <td>2</td>\n",
       "      <td>S16</td>\n",
       "      <td>C21</td>\n",
       "      <td>yes</td>\n",
       "    </tr>\n",
       "    <tr>\n",
       "      <th>37080</th>\n",
       "      <td>37081</td>\n",
       "      <td>46</td>\n",
       "      <td>blue-collar</td>\n",
       "      <td>married</td>\n",
       "      <td>professional.course</td>\n",
       "      <td>no</td>\n",
       "      <td>no</td>\n",
       "      <td>no</td>\n",
       "      <td>2</td>\n",
       "      <td>S16</td>\n",
       "      <td>C21</td>\n",
       "      <td>no</td>\n",
       "    </tr>\n",
       "    <tr>\n",
       "      <th>37081</th>\n",
       "      <td>37082</td>\n",
       "      <td>56</td>\n",
       "      <td>retired</td>\n",
       "      <td>married</td>\n",
       "      <td>university.degree</td>\n",
       "      <td>no</td>\n",
       "      <td>yes</td>\n",
       "      <td>no</td>\n",
       "      <td>2</td>\n",
       "      <td>S16</td>\n",
       "      <td>C21</td>\n",
       "      <td>no</td>\n",
       "    </tr>\n",
       "    <tr>\n",
       "      <th>37082</th>\n",
       "      <td>37083</td>\n",
       "      <td>44</td>\n",
       "      <td>technician</td>\n",
       "      <td>married</td>\n",
       "      <td>professional.course</td>\n",
       "      <td>no</td>\n",
       "      <td>no</td>\n",
       "      <td>no</td>\n",
       "      <td>4</td>\n",
       "      <td>S17</td>\n",
       "      <td>C49</td>\n",
       "      <td>yes</td>\n",
       "    </tr>\n",
       "    <tr>\n",
       "      <th>37083</th>\n",
       "      <td>37084</td>\n",
       "      <td>74</td>\n",
       "      <td>retired</td>\n",
       "      <td>married</td>\n",
       "      <td>professional.course</td>\n",
       "      <td>no</td>\n",
       "      <td>yes</td>\n",
       "      <td>no</td>\n",
       "      <td>1</td>\n",
       "      <td>S6</td>\n",
       "      <td>C113</td>\n",
       "      <td>no</td>\n",
       "    </tr>\n",
       "  </tbody>\n",
       "</table>\n",
       "<p>37084 rows × 12 columns</p>\n",
       "</div>"
      ],
      "text/plain": [
       "       Customer_id  age          job  marital            education  default  \\\n",
       "0                1   56     services  married          high.school       no   \n",
       "1                2   45     services  married             basic.9y  unknown   \n",
       "2                3   59       admin.  married  professional.course       no   \n",
       "3                4   41  blue-collar  married              unknown  unknown   \n",
       "4                5   24   technician   single  professional.course       no   \n",
       "...            ...  ...          ...      ...                  ...      ...   \n",
       "37079        37080   73      retired  married  professional.course       no   \n",
       "37080        37081   46  blue-collar  married  professional.course       no   \n",
       "37081        37082   56      retired  married    university.degree       no   \n",
       "37082        37083   44   technician  married  professional.course       no   \n",
       "37083        37084   74      retired  married  professional.course       no   \n",
       "\n",
       "      housing loan Region_Code State_Code City_Code    y  \n",
       "0          no  yes           3         S1        C1   no  \n",
       "1          no   no           3         S1        C1   no  \n",
       "2          no   no           4         S2        C2   no  \n",
       "3          no   no           3         S3        C3   no  \n",
       "4         yes   no           3         S3        C3   no  \n",
       "...       ...  ...         ...        ...       ...  ...  \n",
       "37079     yes   no           2        S16       C21  yes  \n",
       "37080      no   no           2        S16       C21   no  \n",
       "37081     yes   no           2        S16       C21   no  \n",
       "37082      no   no           4        S17       C49  yes  \n",
       "37083     yes   no           1         S6      C113   no  \n",
       "\n",
       "[37084 rows x 12 columns]"
      ]
     },
     "execution_count": 4,
     "metadata": {},
     "output_type": "execute_result"
    }
   ],
   "source": [
    "# merging df and df1\n",
    "df2=pd.merge(df,df1)\n",
    "df2"
   ]
  },
  {
   "cell_type": "code",
   "execution_count": 5,
   "id": "d6fecd0b",
   "metadata": {},
   "outputs": [],
   "source": [
    "# loading customer contact detail csv file\n",
    "df3=pd.read_csv(\"Customer_campaign_details_p1.csv\")\n",
    "data=pd.merge(df2,df3)"
   ]
  },
  {
   "cell_type": "code",
   "execution_count": 6,
   "id": "a0bca7d8",
   "metadata": {},
   "outputs": [],
   "source": [
    "#loading customer postal code csv file\n",
    "p=pd.read_csv(\"Customer_Postal_Code_details.csv\")\n",
    "p=p.rename(columns={'customer_id': 'Customer_id'})\n",
    "data=pd.merge(data,p)"
   ]
  },
  {
   "cell_type": "code",
   "execution_count": 7,
   "id": "99f3083e",
   "metadata": {},
   "outputs": [
    {
     "data": {
      "text/html": [
       "<div>\n",
       "<style scoped>\n",
       "    .dataframe tbody tr th:only-of-type {\n",
       "        vertical-align: middle;\n",
       "    }\n",
       "\n",
       "    .dataframe tbody tr th {\n",
       "        vertical-align: top;\n",
       "    }\n",
       "\n",
       "    .dataframe thead th {\n",
       "        text-align: right;\n",
       "    }\n",
       "</style>\n",
       "<table border=\"1\" class=\"dataframe\">\n",
       "  <thead>\n",
       "    <tr style=\"text-align: right;\">\n",
       "      <th></th>\n",
       "      <th>Customer_id</th>\n",
       "      <th>emp.var.rate</th>\n",
       "      <th>cons.price.idx</th>\n",
       "      <th>cons.conf.idx</th>\n",
       "      <th>euribor3m</th>\n",
       "      <th>nr.employed</th>\n",
       "    </tr>\n",
       "  </thead>\n",
       "  <tbody>\n",
       "    <tr>\n",
       "      <th>0</th>\n",
       "      <td>1</td>\n",
       "      <td>1.1</td>\n",
       "      <td>93.994</td>\n",
       "      <td>-36.4</td>\n",
       "      <td>4.857</td>\n",
       "      <td>5191.0</td>\n",
       "    </tr>\n",
       "    <tr>\n",
       "      <th>1</th>\n",
       "      <td>2</td>\n",
       "      <td>1.1</td>\n",
       "      <td>93.994</td>\n",
       "      <td>-36.4</td>\n",
       "      <td>4.857</td>\n",
       "      <td>5191.0</td>\n",
       "    </tr>\n",
       "    <tr>\n",
       "      <th>2</th>\n",
       "      <td>3</td>\n",
       "      <td>1.1</td>\n",
       "      <td>93.994</td>\n",
       "      <td>-36.4</td>\n",
       "      <td>4.857</td>\n",
       "      <td>5191.0</td>\n",
       "    </tr>\n",
       "    <tr>\n",
       "      <th>3</th>\n",
       "      <td>4</td>\n",
       "      <td>1.1</td>\n",
       "      <td>93.994</td>\n",
       "      <td>-36.4</td>\n",
       "      <td>4.857</td>\n",
       "      <td>5191.0</td>\n",
       "    </tr>\n",
       "    <tr>\n",
       "      <th>4</th>\n",
       "      <td>5</td>\n",
       "      <td>1.1</td>\n",
       "      <td>93.994</td>\n",
       "      <td>-36.4</td>\n",
       "      <td>4.857</td>\n",
       "      <td>5191.0</td>\n",
       "    </tr>\n",
       "    <tr>\n",
       "      <th>...</th>\n",
       "      <td>...</td>\n",
       "      <td>...</td>\n",
       "      <td>...</td>\n",
       "      <td>...</td>\n",
       "      <td>...</td>\n",
       "      <td>...</td>\n",
       "    </tr>\n",
       "    <tr>\n",
       "      <th>37079</th>\n",
       "      <td>37080</td>\n",
       "      <td>-1.1</td>\n",
       "      <td>94.767</td>\n",
       "      <td>-50.8</td>\n",
       "      <td>1.028</td>\n",
       "      <td>4963.6</td>\n",
       "    </tr>\n",
       "    <tr>\n",
       "      <th>37080</th>\n",
       "      <td>37081</td>\n",
       "      <td>-1.1</td>\n",
       "      <td>94.767</td>\n",
       "      <td>-50.8</td>\n",
       "      <td>1.028</td>\n",
       "      <td>4963.6</td>\n",
       "    </tr>\n",
       "    <tr>\n",
       "      <th>37081</th>\n",
       "      <td>37082</td>\n",
       "      <td>-1.1</td>\n",
       "      <td>94.767</td>\n",
       "      <td>-50.8</td>\n",
       "      <td>1.028</td>\n",
       "      <td>4963.6</td>\n",
       "    </tr>\n",
       "    <tr>\n",
       "      <th>37082</th>\n",
       "      <td>37083</td>\n",
       "      <td>-1.1</td>\n",
       "      <td>94.767</td>\n",
       "      <td>-50.8</td>\n",
       "      <td>1.028</td>\n",
       "      <td>4963.6</td>\n",
       "    </tr>\n",
       "    <tr>\n",
       "      <th>37083</th>\n",
       "      <td>37084</td>\n",
       "      <td>-1.1</td>\n",
       "      <td>94.767</td>\n",
       "      <td>-50.8</td>\n",
       "      <td>1.028</td>\n",
       "      <td>4963.6</td>\n",
       "    </tr>\n",
       "  </tbody>\n",
       "</table>\n",
       "<p>37084 rows × 6 columns</p>\n",
       "</div>"
      ],
      "text/plain": [
       "       Customer_id  emp.var.rate  cons.price.idx  cons.conf.idx  euribor3m  \\\n",
       "0                1           1.1          93.994          -36.4      4.857   \n",
       "1                2           1.1          93.994          -36.4      4.857   \n",
       "2                3           1.1          93.994          -36.4      4.857   \n",
       "3                4           1.1          93.994          -36.4      4.857   \n",
       "4                5           1.1          93.994          -36.4      4.857   \n",
       "...            ...           ...             ...            ...        ...   \n",
       "37079        37080          -1.1          94.767          -50.8      1.028   \n",
       "37080        37081          -1.1          94.767          -50.8      1.028   \n",
       "37081        37082          -1.1          94.767          -50.8      1.028   \n",
       "37082        37083          -1.1          94.767          -50.8      1.028   \n",
       "37083        37084          -1.1          94.767          -50.8      1.028   \n",
       "\n",
       "       nr.employed  \n",
       "0           5191.0  \n",
       "1           5191.0  \n",
       "2           5191.0  \n",
       "3           5191.0  \n",
       "4           5191.0  \n",
       "...            ...  \n",
       "37079       4963.6  \n",
       "37080       4963.6  \n",
       "37081       4963.6  \n",
       "37082       4963.6  \n",
       "37083       4963.6  \n",
       "\n",
       "[37084 rows x 6 columns]"
      ]
     },
     "execution_count": 7,
     "metadata": {},
     "output_type": "execute_result"
    }
   ],
   "source": [
    "# main dataframe\n",
    "s=pd.read_csv(\"Customer_social_economic_data_p1.csv\")\n",
    "data=pd.merge(data,s)\n",
    "s"
   ]
  },
  {
   "cell_type": "code",
   "execution_count": 8,
   "id": "132db12a",
   "metadata": {},
   "outputs": [
    {
     "data": {
      "text/plain": [
       "Index(['Customer_id', 'age', 'job', 'marital', 'education', 'default',\n",
       "       'housing', 'loan', 'Region_Code', 'State_Code', 'City_Code', 'y',\n",
       "       'contact', 'month', 'day_of_week', 'duration', 'campaign', 'pdays',\n",
       "       'previous', 'poutcome', 'Postal Code', 'emp.var.rate', 'cons.price.idx',\n",
       "       'cons.conf.idx', 'euribor3m', 'nr.employed'],\n",
       "      dtype='object')"
      ]
     },
     "execution_count": 8,
     "metadata": {},
     "output_type": "execute_result"
    }
   ],
   "source": [
    "# Finding the name of the columns\n",
    "data.columns"
   ]
  },
  {
   "cell_type": "code",
   "execution_count": 9,
   "id": "0d354bca",
   "metadata": {},
   "outputs": [
    {
     "name": "stdout",
     "output_type": "stream",
     "text": [
      "<class 'pandas.core.frame.DataFrame'>\n",
      "Int64Index: 37084 entries, 0 to 37083\n",
      "Data columns (total 26 columns):\n",
      " #   Column          Non-Null Count  Dtype  \n",
      "---  ------          --------------  -----  \n",
      " 0   Customer_id     37084 non-null  int64  \n",
      " 1   age             37084 non-null  int64  \n",
      " 2   job             37084 non-null  object \n",
      " 3   marital         37084 non-null  object \n",
      " 4   education       37084 non-null  object \n",
      " 5   default         37084 non-null  object \n",
      " 6   housing         37084 non-null  object \n",
      " 7   loan            37084 non-null  object \n",
      " 8   Region_Code     37084 non-null  object \n",
      " 9   State_Code      37084 non-null  object \n",
      " 10  City_Code       37084 non-null  object \n",
      " 11  y               37084 non-null  object \n",
      " 12  contact         37084 non-null  object \n",
      " 13  month           37084 non-null  object \n",
      " 14  day_of_week     37084 non-null  object \n",
      " 15  duration        37084 non-null  int64  \n",
      " 16  campaign        37084 non-null  int64  \n",
      " 17  pdays           37084 non-null  int64  \n",
      " 18  previous        37084 non-null  int64  \n",
      " 19  poutcome        37084 non-null  object \n",
      " 20  Postal Code     37084 non-null  int64  \n",
      " 21  emp.var.rate    37084 non-null  float64\n",
      " 22  cons.price.idx  37084 non-null  float64\n",
      " 23  cons.conf.idx   37084 non-null  float64\n",
      " 24  euribor3m       37084 non-null  float64\n",
      " 25  nr.employed     37084 non-null  float64\n",
      "dtypes: float64(5), int64(7), object(14)\n",
      "memory usage: 7.6+ MB\n"
     ]
    }
   ],
   "source": [
    "data.info()"
   ]
  },
  {
   "cell_type": "code",
   "execution_count": 10,
   "id": "ff247c06",
   "metadata": {},
   "outputs": [
    {
     "data": {
      "text/plain": [
       "['Customer_id',\n",
       " 'age',\n",
       " 'duration',\n",
       " 'campaign',\n",
       " 'pdays',\n",
       " 'previous',\n",
       " 'Postal Code',\n",
       " 'emp.var.rate',\n",
       " 'cons.price.idx',\n",
       " 'cons.conf.idx',\n",
       " 'euribor3m',\n",
       " 'nr.employed']"
      ]
     },
     "execution_count": 10,
     "metadata": {},
     "output_type": "execute_result"
    }
   ],
   "source": [
    "### numerical \n",
    "numerical_cols = list(data.select_dtypes(exclude=['object']))\n",
    "numerical_cols"
   ]
  },
  {
   "cell_type": "code",
   "execution_count": 11,
   "id": "e6bf91e0",
   "metadata": {},
   "outputs": [
    {
     "data": {
      "text/plain": [
       "['job',\n",
       " 'marital',\n",
       " 'education',\n",
       " 'default',\n",
       " 'housing',\n",
       " 'loan',\n",
       " 'Region_Code',\n",
       " 'State_Code',\n",
       " 'City_Code',\n",
       " 'y',\n",
       " 'contact',\n",
       " 'month',\n",
       " 'day_of_week',\n",
       " 'poutcome']"
      ]
     },
     "execution_count": 11,
     "metadata": {},
     "output_type": "execute_result"
    }
   ],
   "source": [
    "### categorical\n",
    "category_cols = list(data.select_dtypes(include=['object']))\n",
    "category_cols"
   ]
  },
  {
   "cell_type": "markdown",
   "id": "96bba4f5",
   "metadata": {},
   "source": [
    "# Q1) Missing values identification and treatment \n",
    "## Handling missing categorical values\n"
   ]
  },
  {
   "cell_type": "code",
   "execution_count": 12,
   "id": "23bce875",
   "metadata": {},
   "outputs": [
    {
     "name": "stdout",
     "output_type": "stream",
     "text": [
      "Count of Unique values in Column  job  is : \n",
      " admin.           9420\n",
      "blue-collar      8314\n",
      "technician       6096\n",
      "services         3547\n",
      "management       2637\n",
      "retired          1541\n",
      "entrepreneur     1309\n",
      "self-employed    1276\n",
      "housemaid         946\n",
      "unemployed        925\n",
      "student           767\n",
      "unknown           306\n",
      "Name: job, dtype: int64 \n",
      "\n",
      "Count of Unique values in Column  marital  is : \n",
      " married     22479\n",
      "single      10407\n",
      "divorced     4126\n",
      "unknown        72\n",
      "Name: marital, dtype: int64 \n",
      "\n",
      "Count of Unique values in Column  education  is : \n",
      " university.degree      10971\n",
      "high.school             8542\n",
      "basic.9y                5421\n",
      "professional.course     4746\n",
      "basic.4y                3765\n",
      "basic.6y                2074\n",
      "unknown                 1549\n",
      "illiterate                16\n",
      "Name: education, dtype: int64 \n",
      "\n",
      "Count of Unique values in Column  default  is : \n",
      " no         29382\n",
      "unknown     7700\n",
      "yes            2\n",
      "Name: default, dtype: int64 \n",
      "\n",
      "Count of Unique values in Column  housing  is : \n",
      " yes        19433\n",
      "no         16769\n",
      "unknown      882\n",
      "Name: housing, dtype: int64 \n",
      "\n",
      "Count of Unique values in Column  loan  is : \n",
      " no         30561\n",
      "yes         5641\n",
      "unknown      882\n",
      "Name: loan, dtype: int64 \n",
      "\n",
      "Count of Unique values in Column  Region_Code  is : \n",
      " 4     11884\n",
      "2     10558\n",
      "1      8590\n",
      "3      5992\n",
      "Na       60\n",
      "Name: Region_Code, dtype: int64 \n",
      "\n",
      "Count of Unique values in Column  y  is : \n",
      " no     32876\n",
      "yes     4208\n",
      "Name: y, dtype: int64 \n",
      "\n",
      "Count of Unique values in Column  contact  is : \n",
      " cellular     23522\n",
      "telephone    13562\n",
      "Name: contact, dtype: int64 \n",
      "\n",
      "Count of Unique values in Column  month  is : \n",
      " may    12420\n",
      "jul     6430\n",
      "aug     5562\n",
      "jun     4786\n",
      "nov     3705\n",
      "apr     2388\n",
      "oct      630\n",
      "sep      510\n",
      "mar      487\n",
      "dec      166\n",
      "Name: month, dtype: int64 \n",
      "\n",
      "Count of Unique values in Column  day_of_week  is : \n",
      " thu    7778\n",
      "mon    7671\n",
      "wed    7341\n",
      "tue    7262\n",
      "fri    7032\n",
      "Name: day_of_week, dtype: int64 \n",
      "\n",
      "Count of Unique values in Column  poutcome  is : \n",
      " nonexistent    32023\n",
      "failure         3822\n",
      "success         1239\n",
      "Name: poutcome, dtype: int64 \n",
      "\n"
     ]
    }
   ],
   "source": [
    "# Iterate over all column names of Dataframe\n",
    "for col in data[['job','marital','education','default','housing','loan','Region_Code','y','contact','month','day_of_week','poutcome']]:\n",
    "    # Select the column by name and get count of unique values in it\n",
    "    count = data[col].value_counts()\n",
    "    print('Count of Unique values in Column ', col, ' is : ' '\\n' ,count, '\\n' )"
   ]
  },
  {
   "cell_type": "markdown",
   "id": "39a94a61",
   "metadata": {},
   "source": [
    "##### Variables with unknown/missing values are : 'education', 'job', 'housing', 'loan', 'deafult', and 'marital'. But the significant ones are 'education', 'job', 'housing', and 'loan'. The number of unknowns for 'marital' is very low. The unknown for 'default' variable are considered to be recorded as unknown. It may be possible that customer is not willing to disclose this information to the banking representative. Hence the unknown value in 'default' is actually a separate value."
   ]
  },
  {
   "cell_type": "code",
   "execution_count": 13,
   "id": "d49c4b02",
   "metadata": {},
   "outputs": [],
   "source": [
    "data['job'].replace('admin.','admin',inplace=True)"
   ]
  },
  {
   "cell_type": "code",
   "execution_count": 14,
   "id": "a34ec021",
   "metadata": {},
   "outputs": [
    {
     "data": {
      "text/plain": [
       "admin            9420\n",
       "blue-collar      8314\n",
       "technician       6096\n",
       "services         3547\n",
       "management       2637\n",
       "retired          1541\n",
       "entrepreneur     1309\n",
       "self-employed    1276\n",
       "housemaid         946\n",
       "unemployed        925\n",
       "student           767\n",
       "unknown           306\n",
       "Name: job, dtype: int64"
      ]
     },
     "execution_count": 14,
     "metadata": {},
     "output_type": "execute_result"
    }
   ],
   "source": [
    "data.job.value_counts()"
   ]
  },
  {
   "cell_type": "code",
   "execution_count": 15,
   "id": "05fba346",
   "metadata": {
    "scrolled": true
   },
   "outputs": [
    {
     "data": {
      "text/html": [
       "<div>\n",
       "<style scoped>\n",
       "    .dataframe tbody tr th:only-of-type {\n",
       "        vertical-align: middle;\n",
       "    }\n",
       "\n",
       "    .dataframe tbody tr th {\n",
       "        vertical-align: top;\n",
       "    }\n",
       "\n",
       "    .dataframe thead th {\n",
       "        text-align: right;\n",
       "    }\n",
       "</style>\n",
       "<table border=\"1\" class=\"dataframe\">\n",
       "  <thead>\n",
       "    <tr style=\"text-align: right;\">\n",
       "      <th>education</th>\n",
       "      <th>basic.4y</th>\n",
       "      <th>basic.6y</th>\n",
       "      <th>basic.9y</th>\n",
       "      <th>high.school</th>\n",
       "      <th>illiterate</th>\n",
       "      <th>professional.course</th>\n",
       "      <th>university.degree</th>\n",
       "      <th>unknown</th>\n",
       "    </tr>\n",
       "    <tr>\n",
       "      <th>job</th>\n",
       "      <th></th>\n",
       "      <th></th>\n",
       "      <th></th>\n",
       "      <th></th>\n",
       "      <th></th>\n",
       "      <th></th>\n",
       "      <th></th>\n",
       "      <th></th>\n",
       "    </tr>\n",
       "  </thead>\n",
       "  <tbody>\n",
       "    <tr>\n",
       "      <th>admin</th>\n",
       "      <td>72</td>\n",
       "      <td>133</td>\n",
       "      <td>460</td>\n",
       "      <td>3011</td>\n",
       "      <td>1</td>\n",
       "      <td>331</td>\n",
       "      <td>5186</td>\n",
       "      <td>226</td>\n",
       "    </tr>\n",
       "    <tr>\n",
       "      <th>blue-collar</th>\n",
       "      <td>2097</td>\n",
       "      <td>1294</td>\n",
       "      <td>3231</td>\n",
       "      <td>781</td>\n",
       "      <td>8</td>\n",
       "      <td>411</td>\n",
       "      <td>88</td>\n",
       "      <td>404</td>\n",
       "    </tr>\n",
       "    <tr>\n",
       "      <th>entrepreneur</th>\n",
       "      <td>119</td>\n",
       "      <td>65</td>\n",
       "      <td>195</td>\n",
       "      <td>207</td>\n",
       "      <td>2</td>\n",
       "      <td>121</td>\n",
       "      <td>547</td>\n",
       "      <td>53</td>\n",
       "    </tr>\n",
       "    <tr>\n",
       "      <th>housemaid</th>\n",
       "      <td>421</td>\n",
       "      <td>69</td>\n",
       "      <td>82</td>\n",
       "      <td>155</td>\n",
       "      <td>1</td>\n",
       "      <td>53</td>\n",
       "      <td>125</td>\n",
       "      <td>40</td>\n",
       "    </tr>\n",
       "    <tr>\n",
       "      <th>management</th>\n",
       "      <td>88</td>\n",
       "      <td>74</td>\n",
       "      <td>157</td>\n",
       "      <td>265</td>\n",
       "      <td>0</td>\n",
       "      <td>82</td>\n",
       "      <td>1856</td>\n",
       "      <td>115</td>\n",
       "    </tr>\n",
       "    <tr>\n",
       "      <th>retired</th>\n",
       "      <td>536</td>\n",
       "      <td>72</td>\n",
       "      <td>127</td>\n",
       "      <td>251</td>\n",
       "      <td>2</td>\n",
       "      <td>216</td>\n",
       "      <td>250</td>\n",
       "      <td>87</td>\n",
       "    </tr>\n",
       "    <tr>\n",
       "      <th>self-employed</th>\n",
       "      <td>84</td>\n",
       "      <td>24</td>\n",
       "      <td>199</td>\n",
       "      <td>105</td>\n",
       "      <td>2</td>\n",
       "      <td>158</td>\n",
       "      <td>677</td>\n",
       "      <td>27</td>\n",
       "    </tr>\n",
       "    <tr>\n",
       "      <th>services</th>\n",
       "      <td>117</td>\n",
       "      <td>199</td>\n",
       "      <td>337</td>\n",
       "      <td>2405</td>\n",
       "      <td>0</td>\n",
       "      <td>196</td>\n",
       "      <td>160</td>\n",
       "      <td>133</td>\n",
       "    </tr>\n",
       "    <tr>\n",
       "      <th>student</th>\n",
       "      <td>22</td>\n",
       "      <td>13</td>\n",
       "      <td>92</td>\n",
       "      <td>299</td>\n",
       "      <td>0</td>\n",
       "      <td>36</td>\n",
       "      <td>156</td>\n",
       "      <td>149</td>\n",
       "    </tr>\n",
       "    <tr>\n",
       "      <th>technician</th>\n",
       "      <td>55</td>\n",
       "      <td>81</td>\n",
       "      <td>341</td>\n",
       "      <td>801</td>\n",
       "      <td>0</td>\n",
       "      <td>2996</td>\n",
       "      <td>1644</td>\n",
       "      <td>178</td>\n",
       "    </tr>\n",
       "    <tr>\n",
       "      <th>unemployed</th>\n",
       "      <td>105</td>\n",
       "      <td>28</td>\n",
       "      <td>171</td>\n",
       "      <td>231</td>\n",
       "      <td>0</td>\n",
       "      <td>135</td>\n",
       "      <td>239</td>\n",
       "      <td>16</td>\n",
       "    </tr>\n",
       "    <tr>\n",
       "      <th>unknown</th>\n",
       "      <td>49</td>\n",
       "      <td>22</td>\n",
       "      <td>29</td>\n",
       "      <td>31</td>\n",
       "      <td>0</td>\n",
       "      <td>11</td>\n",
       "      <td>43</td>\n",
       "      <td>121</td>\n",
       "    </tr>\n",
       "  </tbody>\n",
       "</table>\n",
       "</div>"
      ],
      "text/plain": [
       "education      basic.4y  basic.6y  basic.9y  high.school  illiterate  \\\n",
       "job                                                                    \n",
       "admin                72       133       460         3011           1   \n",
       "blue-collar        2097      1294      3231          781           8   \n",
       "entrepreneur        119        65       195          207           2   \n",
       "housemaid           421        69        82          155           1   \n",
       "management           88        74       157          265           0   \n",
       "retired             536        72       127          251           2   \n",
       "self-employed        84        24       199          105           2   \n",
       "services            117       199       337         2405           0   \n",
       "student              22        13        92          299           0   \n",
       "technician           55        81       341          801           0   \n",
       "unemployed          105        28       171          231           0   \n",
       "unknown              49        22        29           31           0   \n",
       "\n",
       "education      professional.course  university.degree  unknown  \n",
       "job                                                             \n",
       "admin                          331               5186      226  \n",
       "blue-collar                    411                 88      404  \n",
       "entrepreneur                   121                547       53  \n",
       "housemaid                       53                125       40  \n",
       "management                      82               1856      115  \n",
       "retired                        216                250       87  \n",
       "self-employed                  158                677       27  \n",
       "services                       196                160      133  \n",
       "student                         36                156      149  \n",
       "technician                    2996               1644      178  \n",
       "unemployed                     135                239       16  \n",
       "unknown                         11                 43      121  "
      ]
     },
     "execution_count": 15,
     "metadata": {},
     "output_type": "execute_result"
    }
   ],
   "source": [
    "pd.crosstab(data['job'],data['education'])"
   ]
  },
  {
   "cell_type": "code",
   "execution_count": 16,
   "id": "1d7a6caa",
   "metadata": {},
   "outputs": [
    {
     "data": {
      "text/plain": [
       "retired          704\n",
       "admin             95\n",
       "housemaid         60\n",
       "management        55\n",
       "technician        46\n",
       "blue-collar       39\n",
       "unknown           27\n",
       "self-employed     19\n",
       "entrepreneur      15\n",
       "unemployed         9\n",
       "services           8\n",
       "Name: job, dtype: int64"
      ]
     },
     "execution_count": 16,
     "metadata": {},
     "output_type": "execute_result"
    }
   ],
   "source": [
    "data['job'][data['age']>=60].value_counts()"
   ]
  },
  {
   "cell_type": "markdown",
   "id": "bda73ed6",
   "metadata": {},
   "source": [
    "### Imputation:\n",
    "##### Now, to infer the missing values in 'job' and 'education', we make use of the cross-tabulation between 'job' and 'education'. Our hypothesis here is that 'job' is influenced by the 'education' of a person. Hence, we can infer 'job' based on the education of the person."
   ]
  },
  {
   "cell_type": "markdown",
   "id": "ff6e61a6",
   "metadata": {},
   "source": [
    "### Handling the missing values in 'job' column"
   ]
  },
  {
   "cell_type": "code",
   "execution_count": 17,
   "id": "6a19485c",
   "metadata": {},
   "outputs": [],
   "source": [
    "data.loc[(data['age']>60) & (data['job']=='unknown'), 'job'] = 'retired'\n",
    "data.loc[(data['education']=='unknown') & (data['job']=='management'), 'education'] = 'university.degree'\n",
    "data.loc[(data['education']=='unknown') & (data['job']=='services'), 'education'] = 'high.school'\n",
    "data.loc[(data['education']=='unknown') & (data['job']=='housemaid'), 'education'] = 'basic.4y'\n",
    "data.loc[(data['job'] == 'unknown') & (data['education']=='basic.4y'), 'job'] = 'housemaid'\n",
    "data.loc[(data['job'] == 'unknown') & (data['education']=='basic.6y'), 'job'] = 'blue-collar'\n",
    "data.loc[(data['job'] == 'unknown') & (data['education']=='basic.9y'), 'job'] = 'blue-collar'\n",
    "data.loc[(data['job']=='unknown') & (data['education']=='professional.course'), 'job'] = 'technician'\n",
    "data.loc[(data['job']=='unknown') & (data['education']=='university.degree'), 'job'] = 'admin'\n",
    "data.loc[(data['job']=='unknown') & (data['education']=='high.school'), 'job'] = 'admin'\n",
    "data.loc[(data['job']=='unknown') & (data['education']=='unknown'), 'job'] = 'admin'"
   ]
  },
  {
   "cell_type": "code",
   "execution_count": 18,
   "id": "8ae4853a",
   "metadata": {},
   "outputs": [
    {
     "data": {
      "text/html": [
       "<div>\n",
       "<style scoped>\n",
       "    .dataframe tbody tr th:only-of-type {\n",
       "        vertical-align: middle;\n",
       "    }\n",
       "\n",
       "    .dataframe tbody tr th {\n",
       "        vertical-align: top;\n",
       "    }\n",
       "\n",
       "    .dataframe thead th {\n",
       "        text-align: right;\n",
       "    }\n",
       "</style>\n",
       "<table border=\"1\" class=\"dataframe\">\n",
       "  <thead>\n",
       "    <tr style=\"text-align: right;\">\n",
       "      <th>education</th>\n",
       "      <th>basic.4y</th>\n",
       "      <th>basic.6y</th>\n",
       "      <th>basic.9y</th>\n",
       "      <th>high.school</th>\n",
       "      <th>illiterate</th>\n",
       "      <th>professional.course</th>\n",
       "      <th>university.degree</th>\n",
       "      <th>unknown</th>\n",
       "    </tr>\n",
       "    <tr>\n",
       "      <th>job</th>\n",
       "      <th></th>\n",
       "      <th></th>\n",
       "      <th></th>\n",
       "      <th></th>\n",
       "      <th></th>\n",
       "      <th></th>\n",
       "      <th></th>\n",
       "      <th></th>\n",
       "    </tr>\n",
       "  </thead>\n",
       "  <tbody>\n",
       "    <tr>\n",
       "      <th>admin</th>\n",
       "      <td>72</td>\n",
       "      <td>133</td>\n",
       "      <td>460</td>\n",
       "      <td>3042</td>\n",
       "      <td>1</td>\n",
       "      <td>331</td>\n",
       "      <td>5228</td>\n",
       "      <td>334</td>\n",
       "    </tr>\n",
       "    <tr>\n",
       "      <th>blue-collar</th>\n",
       "      <td>2097</td>\n",
       "      <td>1316</td>\n",
       "      <td>3260</td>\n",
       "      <td>781</td>\n",
       "      <td>8</td>\n",
       "      <td>411</td>\n",
       "      <td>88</td>\n",
       "      <td>404</td>\n",
       "    </tr>\n",
       "    <tr>\n",
       "      <th>entrepreneur</th>\n",
       "      <td>119</td>\n",
       "      <td>65</td>\n",
       "      <td>195</td>\n",
       "      <td>207</td>\n",
       "      <td>2</td>\n",
       "      <td>121</td>\n",
       "      <td>547</td>\n",
       "      <td>53</td>\n",
       "    </tr>\n",
       "    <tr>\n",
       "      <th>housemaid</th>\n",
       "      <td>506</td>\n",
       "      <td>69</td>\n",
       "      <td>82</td>\n",
       "      <td>155</td>\n",
       "      <td>1</td>\n",
       "      <td>53</td>\n",
       "      <td>125</td>\n",
       "      <td>0</td>\n",
       "    </tr>\n",
       "    <tr>\n",
       "      <th>management</th>\n",
       "      <td>88</td>\n",
       "      <td>74</td>\n",
       "      <td>157</td>\n",
       "      <td>265</td>\n",
       "      <td>0</td>\n",
       "      <td>82</td>\n",
       "      <td>1971</td>\n",
       "      <td>0</td>\n",
       "    </tr>\n",
       "    <tr>\n",
       "      <th>retired</th>\n",
       "      <td>540</td>\n",
       "      <td>72</td>\n",
       "      <td>127</td>\n",
       "      <td>251</td>\n",
       "      <td>2</td>\n",
       "      <td>218</td>\n",
       "      <td>251</td>\n",
       "      <td>100</td>\n",
       "    </tr>\n",
       "    <tr>\n",
       "      <th>self-employed</th>\n",
       "      <td>84</td>\n",
       "      <td>24</td>\n",
       "      <td>199</td>\n",
       "      <td>105</td>\n",
       "      <td>2</td>\n",
       "      <td>158</td>\n",
       "      <td>677</td>\n",
       "      <td>27</td>\n",
       "    </tr>\n",
       "    <tr>\n",
       "      <th>services</th>\n",
       "      <td>117</td>\n",
       "      <td>199</td>\n",
       "      <td>337</td>\n",
       "      <td>2538</td>\n",
       "      <td>0</td>\n",
       "      <td>196</td>\n",
       "      <td>160</td>\n",
       "      <td>0</td>\n",
       "    </tr>\n",
       "    <tr>\n",
       "      <th>student</th>\n",
       "      <td>22</td>\n",
       "      <td>13</td>\n",
       "      <td>92</td>\n",
       "      <td>299</td>\n",
       "      <td>0</td>\n",
       "      <td>36</td>\n",
       "      <td>156</td>\n",
       "      <td>149</td>\n",
       "    </tr>\n",
       "    <tr>\n",
       "      <th>technician</th>\n",
       "      <td>55</td>\n",
       "      <td>81</td>\n",
       "      <td>341</td>\n",
       "      <td>801</td>\n",
       "      <td>0</td>\n",
       "      <td>3005</td>\n",
       "      <td>1644</td>\n",
       "      <td>178</td>\n",
       "    </tr>\n",
       "    <tr>\n",
       "      <th>unemployed</th>\n",
       "      <td>105</td>\n",
       "      <td>28</td>\n",
       "      <td>171</td>\n",
       "      <td>231</td>\n",
       "      <td>0</td>\n",
       "      <td>135</td>\n",
       "      <td>239</td>\n",
       "      <td>16</td>\n",
       "    </tr>\n",
       "  </tbody>\n",
       "</table>\n",
       "</div>"
      ],
      "text/plain": [
       "education      basic.4y  basic.6y  basic.9y  high.school  illiterate  \\\n",
       "job                                                                    \n",
       "admin                72       133       460         3042           1   \n",
       "blue-collar        2097      1316      3260          781           8   \n",
       "entrepreneur        119        65       195          207           2   \n",
       "housemaid           506        69        82          155           1   \n",
       "management           88        74       157          265           0   \n",
       "retired             540        72       127          251           2   \n",
       "self-employed        84        24       199          105           2   \n",
       "services            117       199       337         2538           0   \n",
       "student              22        13        92          299           0   \n",
       "technician           55        81       341          801           0   \n",
       "unemployed          105        28       171          231           0   \n",
       "\n",
       "education      professional.course  university.degree  unknown  \n",
       "job                                                             \n",
       "admin                          331               5228      334  \n",
       "blue-collar                    411                 88      404  \n",
       "entrepreneur                   121                547       53  \n",
       "housemaid                       53                125        0  \n",
       "management                      82               1971        0  \n",
       "retired                        218                251      100  \n",
       "self-employed                  158                677       27  \n",
       "services                       196                160        0  \n",
       "student                         36                156      149  \n",
       "technician                    3005               1644      178  \n",
       "unemployed                     135                239       16  "
      ]
     },
     "execution_count": 18,
     "metadata": {},
     "output_type": "execute_result"
    }
   ],
   "source": [
    "pd.crosstab(data['job'],data['education'])"
   ]
  },
  {
   "cell_type": "code",
   "execution_count": 19,
   "id": "9b3eef2a",
   "metadata": {},
   "outputs": [
    {
     "data": {
      "text/plain": [
       "admin            9601\n",
       "blue-collar      8365\n",
       "technician       6105\n",
       "services         3547\n",
       "management       2637\n",
       "retired          1561\n",
       "entrepreneur     1309\n",
       "self-employed    1276\n",
       "housemaid         991\n",
       "unemployed        925\n",
       "student           767\n",
       "Name: job, dtype: int64"
      ]
     },
     "execution_count": 19,
     "metadata": {},
     "output_type": "execute_result"
    }
   ],
   "source": [
    "data['job'].value_counts()"
   ]
  },
  {
   "cell_type": "markdown",
   "id": "09239916",
   "metadata": {},
   "source": [
    "##### We have impute all unknown values in job column"
   ]
  },
  {
   "cell_type": "markdown",
   "id": "4354ea6d",
   "metadata": {},
   "source": [
    "### Handling the missing values in 'housing' and 'loan' column"
   ]
  },
  {
   "cell_type": "code",
   "execution_count": 20,
   "id": "414248e1",
   "metadata": {},
   "outputs": [
    {
     "data": {
      "text/html": [
       "<div>\n",
       "<style scoped>\n",
       "    .dataframe tbody tr th:only-of-type {\n",
       "        vertical-align: middle;\n",
       "    }\n",
       "\n",
       "    .dataframe tbody tr th {\n",
       "        vertical-align: top;\n",
       "    }\n",
       "\n",
       "    .dataframe thead th {\n",
       "        text-align: right;\n",
       "    }\n",
       "</style>\n",
       "<table border=\"1\" class=\"dataframe\">\n",
       "  <thead>\n",
       "    <tr style=\"text-align: right;\">\n",
       "      <th>housing</th>\n",
       "      <th>no</th>\n",
       "      <th>unknown</th>\n",
       "      <th>yes</th>\n",
       "    </tr>\n",
       "    <tr>\n",
       "      <th>job</th>\n",
       "      <th></th>\n",
       "      <th></th>\n",
       "      <th></th>\n",
       "    </tr>\n",
       "  </thead>\n",
       "  <tbody>\n",
       "    <tr>\n",
       "      <th>admin</th>\n",
       "      <td>4262</td>\n",
       "      <td>207</td>\n",
       "      <td>5132</td>\n",
       "    </tr>\n",
       "    <tr>\n",
       "      <th>blue-collar</th>\n",
       "      <td>3893</td>\n",
       "      <td>212</td>\n",
       "      <td>4260</td>\n",
       "    </tr>\n",
       "    <tr>\n",
       "      <th>entrepreneur</th>\n",
       "      <td>578</td>\n",
       "      <td>34</td>\n",
       "      <td>697</td>\n",
       "    </tr>\n",
       "    <tr>\n",
       "      <th>housemaid</th>\n",
       "      <td>458</td>\n",
       "      <td>29</td>\n",
       "      <td>504</td>\n",
       "    </tr>\n",
       "    <tr>\n",
       "      <th>management</th>\n",
       "      <td>1239</td>\n",
       "      <td>58</td>\n",
       "      <td>1340</td>\n",
       "    </tr>\n",
       "    <tr>\n",
       "      <th>retired</th>\n",
       "      <td>706</td>\n",
       "      <td>39</td>\n",
       "      <td>816</td>\n",
       "    </tr>\n",
       "    <tr>\n",
       "      <th>self-employed</th>\n",
       "      <td>574</td>\n",
       "      <td>36</td>\n",
       "      <td>666</td>\n",
       "    </tr>\n",
       "    <tr>\n",
       "      <th>services</th>\n",
       "      <td>1630</td>\n",
       "      <td>92</td>\n",
       "      <td>1825</td>\n",
       "    </tr>\n",
       "    <tr>\n",
       "      <th>student</th>\n",
       "      <td>333</td>\n",
       "      <td>19</td>\n",
       "      <td>415</td>\n",
       "    </tr>\n",
       "    <tr>\n",
       "      <th>technician</th>\n",
       "      <td>2703</td>\n",
       "      <td>131</td>\n",
       "      <td>3271</td>\n",
       "    </tr>\n",
       "    <tr>\n",
       "      <th>unemployed</th>\n",
       "      <td>393</td>\n",
       "      <td>25</td>\n",
       "      <td>507</td>\n",
       "    </tr>\n",
       "  </tbody>\n",
       "</table>\n",
       "</div>"
      ],
      "text/plain": [
       "housing          no  unknown   yes\n",
       "job                               \n",
       "admin          4262      207  5132\n",
       "blue-collar    3893      212  4260\n",
       "entrepreneur    578       34   697\n",
       "housemaid       458       29   504\n",
       "management     1239       58  1340\n",
       "retired         706       39   816\n",
       "self-employed   574       36   666\n",
       "services       1630       92  1825\n",
       "student         333       19   415\n",
       "technician     2703      131  3271\n",
       "unemployed      393       25   507"
      ]
     },
     "execution_count": 20,
     "metadata": {},
     "output_type": "execute_result"
    }
   ],
   "source": [
    "pd.crosstab(data['job'],data['housing'])"
   ]
  },
  {
   "cell_type": "code",
   "execution_count": 21,
   "id": "7ca5dd5c",
   "metadata": {},
   "outputs": [
    {
     "data": {
      "text/plain": [
       "yes    20315\n",
       "no     16769\n",
       "Name: housing, dtype: int64"
      ]
     },
     "execution_count": 21,
     "metadata": {},
     "output_type": "execute_result"
    }
   ],
   "source": [
    "data['housing'].replace('unknown','yes',inplace=True)\n",
    "data['housing'].value_counts()"
   ]
  },
  {
   "cell_type": "code",
   "execution_count": 22,
   "id": "7abe4ac2",
   "metadata": {},
   "outputs": [
    {
     "data": {
      "text/html": [
       "<div>\n",
       "<style scoped>\n",
       "    .dataframe tbody tr th:only-of-type {\n",
       "        vertical-align: middle;\n",
       "    }\n",
       "\n",
       "    .dataframe tbody tr th {\n",
       "        vertical-align: top;\n",
       "    }\n",
       "\n",
       "    .dataframe thead th {\n",
       "        text-align: right;\n",
       "    }\n",
       "</style>\n",
       "<table border=\"1\" class=\"dataframe\">\n",
       "  <thead>\n",
       "    <tr style=\"text-align: right;\">\n",
       "      <th>housing</th>\n",
       "      <th>no</th>\n",
       "      <th>yes</th>\n",
       "    </tr>\n",
       "    <tr>\n",
       "      <th>job</th>\n",
       "      <th></th>\n",
       "      <th></th>\n",
       "    </tr>\n",
       "  </thead>\n",
       "  <tbody>\n",
       "    <tr>\n",
       "      <th>admin</th>\n",
       "      <td>4262</td>\n",
       "      <td>5339</td>\n",
       "    </tr>\n",
       "    <tr>\n",
       "      <th>blue-collar</th>\n",
       "      <td>3893</td>\n",
       "      <td>4472</td>\n",
       "    </tr>\n",
       "    <tr>\n",
       "      <th>entrepreneur</th>\n",
       "      <td>578</td>\n",
       "      <td>731</td>\n",
       "    </tr>\n",
       "    <tr>\n",
       "      <th>housemaid</th>\n",
       "      <td>458</td>\n",
       "      <td>533</td>\n",
       "    </tr>\n",
       "    <tr>\n",
       "      <th>management</th>\n",
       "      <td>1239</td>\n",
       "      <td>1398</td>\n",
       "    </tr>\n",
       "    <tr>\n",
       "      <th>retired</th>\n",
       "      <td>706</td>\n",
       "      <td>855</td>\n",
       "    </tr>\n",
       "    <tr>\n",
       "      <th>self-employed</th>\n",
       "      <td>574</td>\n",
       "      <td>702</td>\n",
       "    </tr>\n",
       "    <tr>\n",
       "      <th>services</th>\n",
       "      <td>1630</td>\n",
       "      <td>1917</td>\n",
       "    </tr>\n",
       "    <tr>\n",
       "      <th>student</th>\n",
       "      <td>333</td>\n",
       "      <td>434</td>\n",
       "    </tr>\n",
       "    <tr>\n",
       "      <th>technician</th>\n",
       "      <td>2703</td>\n",
       "      <td>3402</td>\n",
       "    </tr>\n",
       "    <tr>\n",
       "      <th>unemployed</th>\n",
       "      <td>393</td>\n",
       "      <td>532</td>\n",
       "    </tr>\n",
       "  </tbody>\n",
       "</table>\n",
       "</div>"
      ],
      "text/plain": [
       "housing          no   yes\n",
       "job                      \n",
       "admin          4262  5339\n",
       "blue-collar    3893  4472\n",
       "entrepreneur    578   731\n",
       "housemaid       458   533\n",
       "management     1239  1398\n",
       "retired         706   855\n",
       "self-employed   574   702\n",
       "services       1630  1917\n",
       "student         333   434\n",
       "technician     2703  3402\n",
       "unemployed      393   532"
      ]
     },
     "execution_count": 22,
     "metadata": {},
     "output_type": "execute_result"
    }
   ],
   "source": [
    "pd.crosstab(data['job'],data['housing'])"
   ]
  },
  {
   "cell_type": "markdown",
   "id": "2be87211",
   "metadata": {},
   "source": [
    "##### We have impute all unknown values in housing column"
   ]
  },
  {
   "cell_type": "code",
   "execution_count": 23,
   "id": "636b37d9",
   "metadata": {},
   "outputs": [
    {
     "data": {
      "text/html": [
       "<div>\n",
       "<style scoped>\n",
       "    .dataframe tbody tr th:only-of-type {\n",
       "        vertical-align: middle;\n",
       "    }\n",
       "\n",
       "    .dataframe tbody tr th {\n",
       "        vertical-align: top;\n",
       "    }\n",
       "\n",
       "    .dataframe thead th {\n",
       "        text-align: right;\n",
       "    }\n",
       "</style>\n",
       "<table border=\"1\" class=\"dataframe\">\n",
       "  <thead>\n",
       "    <tr style=\"text-align: right;\">\n",
       "      <th>loan</th>\n",
       "      <th>no</th>\n",
       "      <th>unknown</th>\n",
       "      <th>yes</th>\n",
       "    </tr>\n",
       "    <tr>\n",
       "      <th>job</th>\n",
       "      <th></th>\n",
       "      <th></th>\n",
       "      <th></th>\n",
       "    </tr>\n",
       "  </thead>\n",
       "  <tbody>\n",
       "    <tr>\n",
       "      <th>admin</th>\n",
       "      <td>7818</td>\n",
       "      <td>207</td>\n",
       "      <td>1576</td>\n",
       "    </tr>\n",
       "    <tr>\n",
       "      <th>blue-collar</th>\n",
       "      <td>6911</td>\n",
       "      <td>212</td>\n",
       "      <td>1242</td>\n",
       "    </tr>\n",
       "    <tr>\n",
       "      <th>entrepreneur</th>\n",
       "      <td>1084</td>\n",
       "      <td>34</td>\n",
       "      <td>191</td>\n",
       "    </tr>\n",
       "    <tr>\n",
       "      <th>housemaid</th>\n",
       "      <td>822</td>\n",
       "      <td>29</td>\n",
       "      <td>140</td>\n",
       "    </tr>\n",
       "    <tr>\n",
       "      <th>management</th>\n",
       "      <td>2177</td>\n",
       "      <td>58</td>\n",
       "      <td>402</td>\n",
       "    </tr>\n",
       "    <tr>\n",
       "      <th>retired</th>\n",
       "      <td>1298</td>\n",
       "      <td>39</td>\n",
       "      <td>224</td>\n",
       "    </tr>\n",
       "    <tr>\n",
       "      <th>self-employed</th>\n",
       "      <td>1064</td>\n",
       "      <td>36</td>\n",
       "      <td>176</td>\n",
       "    </tr>\n",
       "    <tr>\n",
       "      <th>services</th>\n",
       "      <td>2919</td>\n",
       "      <td>92</td>\n",
       "      <td>536</td>\n",
       "    </tr>\n",
       "    <tr>\n",
       "      <th>student</th>\n",
       "      <td>621</td>\n",
       "      <td>19</td>\n",
       "      <td>127</td>\n",
       "    </tr>\n",
       "    <tr>\n",
       "      <th>technician</th>\n",
       "      <td>5085</td>\n",
       "      <td>131</td>\n",
       "      <td>889</td>\n",
       "    </tr>\n",
       "    <tr>\n",
       "      <th>unemployed</th>\n",
       "      <td>762</td>\n",
       "      <td>25</td>\n",
       "      <td>138</td>\n",
       "    </tr>\n",
       "  </tbody>\n",
       "</table>\n",
       "</div>"
      ],
      "text/plain": [
       "loan             no  unknown   yes\n",
       "job                               \n",
       "admin          7818      207  1576\n",
       "blue-collar    6911      212  1242\n",
       "entrepreneur   1084       34   191\n",
       "housemaid       822       29   140\n",
       "management     2177       58   402\n",
       "retired        1298       39   224\n",
       "self-employed  1064       36   176\n",
       "services       2919       92   536\n",
       "student         621       19   127\n",
       "technician     5085      131   889\n",
       "unemployed      762       25   138"
      ]
     },
     "execution_count": 23,
     "metadata": {},
     "output_type": "execute_result"
    }
   ],
   "source": [
    "pd.crosstab(data['job'],data['loan'])"
   ]
  },
  {
   "cell_type": "code",
   "execution_count": 24,
   "id": "3528e652",
   "metadata": {},
   "outputs": [
    {
     "data": {
      "text/plain": [
       "no     31443\n",
       "yes     5641\n",
       "Name: loan, dtype: int64"
      ]
     },
     "execution_count": 24,
     "metadata": {},
     "output_type": "execute_result"
    }
   ],
   "source": [
    "data['loan'].replace('unknown','no',inplace=True)\n",
    "data['loan'].value_counts()"
   ]
  },
  {
   "cell_type": "code",
   "execution_count": 25,
   "id": "7e6b6ab4",
   "metadata": {},
   "outputs": [
    {
     "data": {
      "text/html": [
       "<div>\n",
       "<style scoped>\n",
       "    .dataframe tbody tr th:only-of-type {\n",
       "        vertical-align: middle;\n",
       "    }\n",
       "\n",
       "    .dataframe tbody tr th {\n",
       "        vertical-align: top;\n",
       "    }\n",
       "\n",
       "    .dataframe thead th {\n",
       "        text-align: right;\n",
       "    }\n",
       "</style>\n",
       "<table border=\"1\" class=\"dataframe\">\n",
       "  <thead>\n",
       "    <tr style=\"text-align: right;\">\n",
       "      <th>loan</th>\n",
       "      <th>no</th>\n",
       "      <th>yes</th>\n",
       "    </tr>\n",
       "    <tr>\n",
       "      <th>job</th>\n",
       "      <th></th>\n",
       "      <th></th>\n",
       "    </tr>\n",
       "  </thead>\n",
       "  <tbody>\n",
       "    <tr>\n",
       "      <th>admin</th>\n",
       "      <td>8025</td>\n",
       "      <td>1576</td>\n",
       "    </tr>\n",
       "    <tr>\n",
       "      <th>blue-collar</th>\n",
       "      <td>7123</td>\n",
       "      <td>1242</td>\n",
       "    </tr>\n",
       "    <tr>\n",
       "      <th>entrepreneur</th>\n",
       "      <td>1118</td>\n",
       "      <td>191</td>\n",
       "    </tr>\n",
       "    <tr>\n",
       "      <th>housemaid</th>\n",
       "      <td>851</td>\n",
       "      <td>140</td>\n",
       "    </tr>\n",
       "    <tr>\n",
       "      <th>management</th>\n",
       "      <td>2235</td>\n",
       "      <td>402</td>\n",
       "    </tr>\n",
       "    <tr>\n",
       "      <th>retired</th>\n",
       "      <td>1337</td>\n",
       "      <td>224</td>\n",
       "    </tr>\n",
       "    <tr>\n",
       "      <th>self-employed</th>\n",
       "      <td>1100</td>\n",
       "      <td>176</td>\n",
       "    </tr>\n",
       "    <tr>\n",
       "      <th>services</th>\n",
       "      <td>3011</td>\n",
       "      <td>536</td>\n",
       "    </tr>\n",
       "    <tr>\n",
       "      <th>student</th>\n",
       "      <td>640</td>\n",
       "      <td>127</td>\n",
       "    </tr>\n",
       "    <tr>\n",
       "      <th>technician</th>\n",
       "      <td>5216</td>\n",
       "      <td>889</td>\n",
       "    </tr>\n",
       "    <tr>\n",
       "      <th>unemployed</th>\n",
       "      <td>787</td>\n",
       "      <td>138</td>\n",
       "    </tr>\n",
       "  </tbody>\n",
       "</table>\n",
       "</div>"
      ],
      "text/plain": [
       "loan             no   yes\n",
       "job                      \n",
       "admin          8025  1576\n",
       "blue-collar    7123  1242\n",
       "entrepreneur   1118   191\n",
       "housemaid       851   140\n",
       "management     2235   402\n",
       "retired        1337   224\n",
       "self-employed  1100   176\n",
       "services       3011   536\n",
       "student         640   127\n",
       "technician     5216   889\n",
       "unemployed      787   138"
      ]
     },
     "execution_count": 25,
     "metadata": {},
     "output_type": "execute_result"
    }
   ],
   "source": [
    "pd.crosstab(data['job'],data['loan'])"
   ]
  },
  {
   "cell_type": "markdown",
   "id": "65c101f6",
   "metadata": {},
   "source": [
    "##### We have impute all unknown values in loan column"
   ]
  },
  {
   "cell_type": "markdown",
   "id": "11256704",
   "metadata": {},
   "source": [
    "### Handling the missing values of 'marital' column based on based on age group"
   ]
  },
  {
   "cell_type": "code",
   "execution_count": 26,
   "id": "be8ef528",
   "metadata": {},
   "outputs": [
    {
     "data": {
      "text/plain": [
       "count    37084.000000\n",
       "mean        40.042714\n",
       "std         10.432965\n",
       "min         17.000000\n",
       "25%         32.000000\n",
       "50%         38.000000\n",
       "75%         47.000000\n",
       "max         98.000000\n",
       "Name: age, dtype: float64"
      ]
     },
     "execution_count": 26,
     "metadata": {},
     "output_type": "execute_result"
    }
   ],
   "source": [
    "data.age.describe()"
   ]
  },
  {
   "cell_type": "markdown",
   "id": "83567d28",
   "metadata": {},
   "source": [
    "##### Creating new age_group for imputing marital and education column"
   ]
  },
  {
   "cell_type": "code",
   "execution_count": 27,
   "id": "07e48b68",
   "metadata": {},
   "outputs": [
    {
     "data": {
      "text/plain": [
       "[       Customer_id  age          job  marital            education  default  \\\n",
       " 0                1   56     services  married          high.school       no   \n",
       " 1                2   45     services  married             basic.9y  unknown   \n",
       " 2                3   59        admin  married  professional.course       no   \n",
       " 3                4   41  blue-collar  married              unknown  unknown   \n",
       " 4                5   24   technician   single  professional.course       no   \n",
       " ...            ...  ...          ...      ...                  ...      ...   \n",
       " 37079        37080   73      retired  married  professional.course       no   \n",
       " 37080        37081   46  blue-collar  married  professional.course       no   \n",
       " 37081        37082   56      retired  married    university.degree       no   \n",
       " 37082        37083   44   technician  married  professional.course       no   \n",
       " 37083        37084   74      retired  married  professional.course       no   \n",
       " \n",
       "       housing loan Region_Code State_Code  ... pdays previous     poutcome  \\\n",
       " 0          no  yes           3         S1  ...   999        0  nonexistent   \n",
       " 1          no   no           3         S1  ...   999        0  nonexistent   \n",
       " 2          no   no           4         S2  ...   999        0  nonexistent   \n",
       " 3          no   no           3         S3  ...   999        0  nonexistent   \n",
       " 4         yes   no           3         S3  ...   999        0  nonexistent   \n",
       " ...       ...  ...         ...        ...  ...   ...      ...          ...   \n",
       " 37079     yes   no           2        S16  ...   999        0  nonexistent   \n",
       " 37080      no   no           2        S16  ...   999        0  nonexistent   \n",
       " 37081     yes   no           2        S16  ...   999        0  nonexistent   \n",
       " 37082      no   no           4        S17  ...   999        0  nonexistent   \n",
       " 37083     yes   no           1         S6  ...   999        1      failure   \n",
       " \n",
       "       Postal Code emp.var.rate  cons.price.idx  cons.conf.idx  euribor3m  \\\n",
       " 0           42420          1.1          93.994          -36.4      4.857   \n",
       " 1           42420          1.1          93.994          -36.4      4.857   \n",
       " 2           90036          1.1          93.994          -36.4      4.857   \n",
       " 3           33311          1.1          93.994          -36.4      4.857   \n",
       " 4           33311          1.1          93.994          -36.4      4.857   \n",
       " ...           ...          ...             ...            ...        ...   \n",
       " 37079       10009         -1.1          94.767          -50.8      1.028   \n",
       " 37080       10011         -1.1          94.767          -50.8      1.028   \n",
       " 37081       10009         -1.1          94.767          -50.8      1.028   \n",
       " 37082       85254         -1.1          94.767          -50.8      1.028   \n",
       " 37083       79109         -1.1          94.767          -50.8      1.028   \n",
       " \n",
       "        nr.employed     age_group  \n",
       " 0           5191.0      50 to 59  \n",
       " 1           5191.0      40 to 49  \n",
       " 2           5191.0      50 to 59  \n",
       " 3           5191.0      40 to 49  \n",
       " 4           5191.0      20 to 29  \n",
       " ...            ...           ...  \n",
       " 37079       4963.6  60 and above  \n",
       " 37080       4963.6      40 to 49  \n",
       " 37081       4963.6      50 to 59  \n",
       " 37082       4963.6      40 to 49  \n",
       " 37083       4963.6  60 and above  \n",
       " \n",
       " [37084 rows x 27 columns]]"
      ]
     },
     "execution_count": 27,
     "metadata": {},
     "output_type": "execute_result"
    }
   ],
   "source": [
    "lst = [data]\n",
    "for column in lst:\n",
    "    column.loc[column[\"age\"] < 20,  'age_group'] = 'less than 20'\n",
    "    column.loc[(column[\"age\"] >= 20) & (column[\"age\"] <= 29), 'age_group'] = '20 to 29'\n",
    "    column.loc[(column[\"age\"] >= 30) & (column[\"age\"] <= 39), 'age_group'] = '30 to 39'\n",
    "    column.loc[(column[\"age\"] >= 40) & (column[\"age\"] <= 49), 'age_group'] = '40 to 49'\n",
    "    column.loc[(column[\"age\"] >= 50) & (column[\"age\"] <= 59), 'age_group'] = '50 to 59'\n",
    "    column.loc[column[\"age\"] >= 60, 'age_group'] = '60 and above'\n",
    "lst"
   ]
  },
  {
   "cell_type": "code",
   "execution_count": 28,
   "id": "aad39798",
   "metadata": {},
   "outputs": [
    {
     "data": {
      "text/html": [
       "<div>\n",
       "<style scoped>\n",
       "    .dataframe tbody tr th:only-of-type {\n",
       "        vertical-align: middle;\n",
       "    }\n",
       "\n",
       "    .dataframe tbody tr th {\n",
       "        vertical-align: top;\n",
       "    }\n",
       "\n",
       "    .dataframe thead th {\n",
       "        text-align: right;\n",
       "    }\n",
       "</style>\n",
       "<table border=\"1\" class=\"dataframe\">\n",
       "  <thead>\n",
       "    <tr style=\"text-align: right;\">\n",
       "      <th>marital</th>\n",
       "      <th>divorced</th>\n",
       "      <th>married</th>\n",
       "      <th>single</th>\n",
       "      <th>unknown</th>\n",
       "    </tr>\n",
       "    <tr>\n",
       "      <th>age_group</th>\n",
       "      <th></th>\n",
       "      <th></th>\n",
       "      <th></th>\n",
       "      <th></th>\n",
       "    </tr>\n",
       "  </thead>\n",
       "  <tbody>\n",
       "    <tr>\n",
       "      <th>20 to 29</th>\n",
       "      <td>131</td>\n",
       "      <td>1480</td>\n",
       "      <td>3397</td>\n",
       "      <td>8</td>\n",
       "    </tr>\n",
       "    <tr>\n",
       "      <th>30 to 39</th>\n",
       "      <td>1292</td>\n",
       "      <td>8717</td>\n",
       "      <td>5219</td>\n",
       "      <td>36</td>\n",
       "    </tr>\n",
       "    <tr>\n",
       "      <th>40 to 49</th>\n",
       "      <td>1401</td>\n",
       "      <td>6736</td>\n",
       "      <td>1309</td>\n",
       "      <td>8</td>\n",
       "    </tr>\n",
       "    <tr>\n",
       "      <th>50 to 59</th>\n",
       "      <td>1099</td>\n",
       "      <td>4712</td>\n",
       "      <td>376</td>\n",
       "      <td>18</td>\n",
       "    </tr>\n",
       "    <tr>\n",
       "      <th>60 and above</th>\n",
       "      <td>203</td>\n",
       "      <td>834</td>\n",
       "      <td>38</td>\n",
       "      <td>2</td>\n",
       "    </tr>\n",
       "    <tr>\n",
       "      <th>less than 20</th>\n",
       "      <td>0</td>\n",
       "      <td>0</td>\n",
       "      <td>68</td>\n",
       "      <td>0</td>\n",
       "    </tr>\n",
       "  </tbody>\n",
       "</table>\n",
       "</div>"
      ],
      "text/plain": [
       "marital       divorced  married  single  unknown\n",
       "age_group                                       \n",
       "20 to 29           131     1480    3397        8\n",
       "30 to 39          1292     8717    5219       36\n",
       "40 to 49          1401     6736    1309        8\n",
       "50 to 59          1099     4712     376       18\n",
       "60 and above       203      834      38        2\n",
       "less than 20         0        0      68        0"
      ]
     },
     "execution_count": 28,
     "metadata": {},
     "output_type": "execute_result"
    }
   ],
   "source": [
    "pd.crosstab(data['age_group'],data['marital'])"
   ]
  },
  {
   "cell_type": "markdown",
   "id": "42f52563",
   "metadata": {},
   "source": [
    "##### We can see that for age_group 20 to 29 'single' has 3397 records so we will first impute 8 unknown values as single and other records accordingly."
   ]
  },
  {
   "cell_type": "code",
   "execution_count": 29,
   "id": "4c086ee2",
   "metadata": {},
   "outputs": [],
   "source": [
    "data.loc[(data['marital'] == 'unknown') & (data['age_group']=='20 to 29'), 'marital'] = 'single'\n",
    "data.loc[(data['marital'] == 'unknown') & (data['age_group']!='20 to 29'), 'marital'] = 'married'"
   ]
  },
  {
   "cell_type": "code",
   "execution_count": 30,
   "id": "55d2215e",
   "metadata": {},
   "outputs": [
    {
     "data": {
      "text/html": [
       "<div>\n",
       "<style scoped>\n",
       "    .dataframe tbody tr th:only-of-type {\n",
       "        vertical-align: middle;\n",
       "    }\n",
       "\n",
       "    .dataframe tbody tr th {\n",
       "        vertical-align: top;\n",
       "    }\n",
       "\n",
       "    .dataframe thead th {\n",
       "        text-align: right;\n",
       "    }\n",
       "</style>\n",
       "<table border=\"1\" class=\"dataframe\">\n",
       "  <thead>\n",
       "    <tr style=\"text-align: right;\">\n",
       "      <th>marital</th>\n",
       "      <th>divorced</th>\n",
       "      <th>married</th>\n",
       "      <th>single</th>\n",
       "    </tr>\n",
       "    <tr>\n",
       "      <th>age_group</th>\n",
       "      <th></th>\n",
       "      <th></th>\n",
       "      <th></th>\n",
       "    </tr>\n",
       "  </thead>\n",
       "  <tbody>\n",
       "    <tr>\n",
       "      <th>20 to 29</th>\n",
       "      <td>131</td>\n",
       "      <td>1480</td>\n",
       "      <td>3405</td>\n",
       "    </tr>\n",
       "    <tr>\n",
       "      <th>30 to 39</th>\n",
       "      <td>1292</td>\n",
       "      <td>8753</td>\n",
       "      <td>5219</td>\n",
       "    </tr>\n",
       "    <tr>\n",
       "      <th>40 to 49</th>\n",
       "      <td>1401</td>\n",
       "      <td>6744</td>\n",
       "      <td>1309</td>\n",
       "    </tr>\n",
       "    <tr>\n",
       "      <th>50 to 59</th>\n",
       "      <td>1099</td>\n",
       "      <td>4730</td>\n",
       "      <td>376</td>\n",
       "    </tr>\n",
       "    <tr>\n",
       "      <th>60 and above</th>\n",
       "      <td>203</td>\n",
       "      <td>836</td>\n",
       "      <td>38</td>\n",
       "    </tr>\n",
       "    <tr>\n",
       "      <th>less than 20</th>\n",
       "      <td>0</td>\n",
       "      <td>0</td>\n",
       "      <td>68</td>\n",
       "    </tr>\n",
       "  </tbody>\n",
       "</table>\n",
       "</div>"
      ],
      "text/plain": [
       "marital       divorced  married  single\n",
       "age_group                              \n",
       "20 to 29           131     1480    3405\n",
       "30 to 39          1292     8753    5219\n",
       "40 to 49          1401     6744    1309\n",
       "50 to 59          1099     4730     376\n",
       "60 and above       203      836      38\n",
       "less than 20         0        0      68"
      ]
     },
     "execution_count": 30,
     "metadata": {},
     "output_type": "execute_result"
    }
   ],
   "source": [
    "pd.crosstab(data['age_group'],data['marital'])"
   ]
  },
  {
   "cell_type": "markdown",
   "id": "ac65638c",
   "metadata": {},
   "source": [
    "### Handling the missing values of 'education' based on age-group"
   ]
  },
  {
   "cell_type": "code",
   "execution_count": 31,
   "id": "53a839c0",
   "metadata": {},
   "outputs": [
    {
     "data": {
      "text/html": [
       "<div>\n",
       "<style scoped>\n",
       "    .dataframe tbody tr th:only-of-type {\n",
       "        vertical-align: middle;\n",
       "    }\n",
       "\n",
       "    .dataframe tbody tr th {\n",
       "        vertical-align: top;\n",
       "    }\n",
       "\n",
       "    .dataframe thead th {\n",
       "        text-align: right;\n",
       "    }\n",
       "</style>\n",
       "<table border=\"1\" class=\"dataframe\">\n",
       "  <thead>\n",
       "    <tr style=\"text-align: right;\">\n",
       "      <th>education</th>\n",
       "      <th>basic.4y</th>\n",
       "      <th>basic.6y</th>\n",
       "      <th>basic.9y</th>\n",
       "      <th>high.school</th>\n",
       "      <th>illiterate</th>\n",
       "      <th>professional.course</th>\n",
       "      <th>university.degree</th>\n",
       "      <th>unknown</th>\n",
       "    </tr>\n",
       "    <tr>\n",
       "      <th>age_group</th>\n",
       "      <th></th>\n",
       "      <th></th>\n",
       "      <th></th>\n",
       "      <th></th>\n",
       "      <th></th>\n",
       "      <th></th>\n",
       "      <th></th>\n",
       "      <th></th>\n",
       "    </tr>\n",
       "  </thead>\n",
       "  <tbody>\n",
       "    <tr>\n",
       "      <th>20 to 29</th>\n",
       "      <td>184</td>\n",
       "      <td>171</td>\n",
       "      <td>863</td>\n",
       "      <td>1666</td>\n",
       "      <td>0</td>\n",
       "      <td>532</td>\n",
       "      <td>1444</td>\n",
       "      <td>156</td>\n",
       "    </tr>\n",
       "    <tr>\n",
       "      <th>30 to 39</th>\n",
       "      <td>787</td>\n",
       "      <td>871</td>\n",
       "      <td>2172</td>\n",
       "      <td>3672</td>\n",
       "      <td>2</td>\n",
       "      <td>2104</td>\n",
       "      <td>5329</td>\n",
       "      <td>327</td>\n",
       "    </tr>\n",
       "    <tr>\n",
       "      <th>40 to 49</th>\n",
       "      <td>1183</td>\n",
       "      <td>724</td>\n",
       "      <td>1478</td>\n",
       "      <td>2097</td>\n",
       "      <td>5</td>\n",
       "      <td>1208</td>\n",
       "      <td>2391</td>\n",
       "      <td>368</td>\n",
       "    </tr>\n",
       "    <tr>\n",
       "      <th>50 to 59</th>\n",
       "      <td>1261</td>\n",
       "      <td>271</td>\n",
       "      <td>835</td>\n",
       "      <td>1088</td>\n",
       "      <td>7</td>\n",
       "      <td>772</td>\n",
       "      <td>1686</td>\n",
       "      <td>285</td>\n",
       "    </tr>\n",
       "    <tr>\n",
       "      <th>60 and above</th>\n",
       "      <td>383</td>\n",
       "      <td>31</td>\n",
       "      <td>52</td>\n",
       "      <td>145</td>\n",
       "      <td>2</td>\n",
       "      <td>130</td>\n",
       "      <td>236</td>\n",
       "      <td>98</td>\n",
       "    </tr>\n",
       "    <tr>\n",
       "      <th>less than 20</th>\n",
       "      <td>7</td>\n",
       "      <td>6</td>\n",
       "      <td>21</td>\n",
       "      <td>7</td>\n",
       "      <td>0</td>\n",
       "      <td>0</td>\n",
       "      <td>0</td>\n",
       "      <td>27</td>\n",
       "    </tr>\n",
       "  </tbody>\n",
       "</table>\n",
       "</div>"
      ],
      "text/plain": [
       "education     basic.4y  basic.6y  basic.9y  high.school  illiterate  \\\n",
       "age_group                                                             \n",
       "20 to 29           184       171       863         1666           0   \n",
       "30 to 39           787       871      2172         3672           2   \n",
       "40 to 49          1183       724      1478         2097           5   \n",
       "50 to 59          1261       271       835         1088           7   \n",
       "60 and above       383        31        52          145           2   \n",
       "less than 20         7         6        21            7           0   \n",
       "\n",
       "education     professional.course  university.degree  unknown  \n",
       "age_group                                                      \n",
       "20 to 29                      532               1444      156  \n",
       "30 to 39                     2104               5329      327  \n",
       "40 to 49                     1208               2391      368  \n",
       "50 to 59                      772               1686      285  \n",
       "60 and above                  130                236       98  \n",
       "less than 20                    0                  0       27  "
      ]
     },
     "execution_count": 31,
     "metadata": {},
     "output_type": "execute_result"
    }
   ],
   "source": [
    "pd.crosstab(data['age_group'],data['education'])"
   ]
  },
  {
   "cell_type": "markdown",
   "id": "f07c83c6",
   "metadata": {},
   "source": [
    "##### We can see that for age_group 20 to 29 'high.school' has 1666 records so we will first impute 156 unknown values as high.school and other records accordingly."
   ]
  },
  {
   "cell_type": "code",
   "execution_count": 32,
   "id": "e59eb650",
   "metadata": {},
   "outputs": [],
   "source": [
    "data.loc[(data['age_group']=='less than 20') & (data['education']=='unknown'), 'education'] = 'basic.9y' \n",
    "data.loc[(data['age_group']=='20 to 29') & (data['education']=='unknown'), 'education'] = 'high.school' \n",
    "data.loc[(data['age_group']=='30 to 39') & (data['education']=='unknown'), 'education'] = 'university.degree'\n",
    "data.loc[(data['age_group']=='40 to 49') & (data['education']=='unknown'), 'education'] = 'university.degree' \n",
    "data.loc[(data['age_group']=='50 to 59') & (data['education']=='unknown'), 'education'] = 'university.degree'\n",
    "data.loc[(data['age_group']=='60 and above') & (data['education']=='unknown'), 'education'] = 'basic.4y'"
   ]
  },
  {
   "cell_type": "code",
   "execution_count": 33,
   "id": "f94db3b0",
   "metadata": {},
   "outputs": [
    {
     "data": {
      "text/html": [
       "<div>\n",
       "<style scoped>\n",
       "    .dataframe tbody tr th:only-of-type {\n",
       "        vertical-align: middle;\n",
       "    }\n",
       "\n",
       "    .dataframe tbody tr th {\n",
       "        vertical-align: top;\n",
       "    }\n",
       "\n",
       "    .dataframe thead th {\n",
       "        text-align: right;\n",
       "    }\n",
       "</style>\n",
       "<table border=\"1\" class=\"dataframe\">\n",
       "  <thead>\n",
       "    <tr style=\"text-align: right;\">\n",
       "      <th>education</th>\n",
       "      <th>basic.4y</th>\n",
       "      <th>basic.6y</th>\n",
       "      <th>basic.9y</th>\n",
       "      <th>high.school</th>\n",
       "      <th>illiterate</th>\n",
       "      <th>professional.course</th>\n",
       "      <th>university.degree</th>\n",
       "    </tr>\n",
       "    <tr>\n",
       "      <th>age_group</th>\n",
       "      <th></th>\n",
       "      <th></th>\n",
       "      <th></th>\n",
       "      <th></th>\n",
       "      <th></th>\n",
       "      <th></th>\n",
       "      <th></th>\n",
       "    </tr>\n",
       "  </thead>\n",
       "  <tbody>\n",
       "    <tr>\n",
       "      <th>20 to 29</th>\n",
       "      <td>184</td>\n",
       "      <td>171</td>\n",
       "      <td>863</td>\n",
       "      <td>1822</td>\n",
       "      <td>0</td>\n",
       "      <td>532</td>\n",
       "      <td>1444</td>\n",
       "    </tr>\n",
       "    <tr>\n",
       "      <th>30 to 39</th>\n",
       "      <td>787</td>\n",
       "      <td>871</td>\n",
       "      <td>2172</td>\n",
       "      <td>3672</td>\n",
       "      <td>2</td>\n",
       "      <td>2104</td>\n",
       "      <td>5656</td>\n",
       "    </tr>\n",
       "    <tr>\n",
       "      <th>40 to 49</th>\n",
       "      <td>1183</td>\n",
       "      <td>724</td>\n",
       "      <td>1478</td>\n",
       "      <td>2097</td>\n",
       "      <td>5</td>\n",
       "      <td>1208</td>\n",
       "      <td>2759</td>\n",
       "    </tr>\n",
       "    <tr>\n",
       "      <th>50 to 59</th>\n",
       "      <td>1261</td>\n",
       "      <td>271</td>\n",
       "      <td>835</td>\n",
       "      <td>1088</td>\n",
       "      <td>7</td>\n",
       "      <td>772</td>\n",
       "      <td>1971</td>\n",
       "    </tr>\n",
       "    <tr>\n",
       "      <th>60 and above</th>\n",
       "      <td>481</td>\n",
       "      <td>31</td>\n",
       "      <td>52</td>\n",
       "      <td>145</td>\n",
       "      <td>2</td>\n",
       "      <td>130</td>\n",
       "      <td>236</td>\n",
       "    </tr>\n",
       "    <tr>\n",
       "      <th>less than 20</th>\n",
       "      <td>7</td>\n",
       "      <td>6</td>\n",
       "      <td>48</td>\n",
       "      <td>7</td>\n",
       "      <td>0</td>\n",
       "      <td>0</td>\n",
       "      <td>0</td>\n",
       "    </tr>\n",
       "  </tbody>\n",
       "</table>\n",
       "</div>"
      ],
      "text/plain": [
       "education     basic.4y  basic.6y  basic.9y  high.school  illiterate  \\\n",
       "age_group                                                             \n",
       "20 to 29           184       171       863         1822           0   \n",
       "30 to 39           787       871      2172         3672           2   \n",
       "40 to 49          1183       724      1478         2097           5   \n",
       "50 to 59          1261       271       835         1088           7   \n",
       "60 and above       481        31        52          145           2   \n",
       "less than 20         7         6        48            7           0   \n",
       "\n",
       "education     professional.course  university.degree  \n",
       "age_group                                             \n",
       "20 to 29                      532               1444  \n",
       "30 to 39                     2104               5656  \n",
       "40 to 49                     1208               2759  \n",
       "50 to 59                      772               1971  \n",
       "60 and above                  130                236  \n",
       "less than 20                    0                  0  "
      ]
     },
     "execution_count": 33,
     "metadata": {},
     "output_type": "execute_result"
    }
   ],
   "source": [
    "pd.crosstab(data['age_group'],data['education'])"
   ]
  },
  {
   "cell_type": "markdown",
   "id": "d1334d0f",
   "metadata": {},
   "source": [
    "### Handling the missing values in 'Region_Code' column based on the 'State_Code'"
   ]
  },
  {
   "cell_type": "code",
   "execution_count": 34,
   "id": "a09123fb",
   "metadata": {},
   "outputs": [
    {
     "data": {
      "text/plain": [
       "4     11884\n",
       "2     10558\n",
       "1      8590\n",
       "3      5992\n",
       "Na       60\n",
       "Name: Region_Code, dtype: int64"
      ]
     },
     "execution_count": 34,
     "metadata": {},
     "output_type": "execute_result"
    }
   ],
   "source": [
    "data.Region_Code.value_counts()"
   ]
  },
  {
   "cell_type": "code",
   "execution_count": 35,
   "id": "2f768c8d",
   "metadata": {},
   "outputs": [
    {
     "data": {
      "text/html": [
       "<div>\n",
       "<style scoped>\n",
       "    .dataframe tbody tr th:only-of-type {\n",
       "        vertical-align: middle;\n",
       "    }\n",
       "\n",
       "    .dataframe tbody tr th {\n",
       "        vertical-align: top;\n",
       "    }\n",
       "\n",
       "    .dataframe thead th {\n",
       "        text-align: right;\n",
       "    }\n",
       "</style>\n",
       "<table border=\"1\" class=\"dataframe\">\n",
       "  <thead>\n",
       "    <tr style=\"text-align: right;\">\n",
       "      <th>Region_Code</th>\n",
       "      <th>1</th>\n",
       "      <th>2</th>\n",
       "      <th>3</th>\n",
       "      <th>4</th>\n",
       "      <th>Na</th>\n",
       "    </tr>\n",
       "    <tr>\n",
       "      <th>State_Code</th>\n",
       "      <th></th>\n",
       "      <th></th>\n",
       "      <th></th>\n",
       "      <th></th>\n",
       "      <th></th>\n",
       "    </tr>\n",
       "  </thead>\n",
       "  <tbody>\n",
       "    <tr>\n",
       "      <th>S1</th>\n",
       "      <td>0</td>\n",
       "      <td>0</td>\n",
       "      <td>513</td>\n",
       "      <td>0</td>\n",
       "      <td>7</td>\n",
       "    </tr>\n",
       "    <tr>\n",
       "      <th>S10</th>\n",
       "      <td>0</td>\n",
       "      <td>2180</td>\n",
       "      <td>0</td>\n",
       "      <td>0</td>\n",
       "      <td>0</td>\n",
       "    </tr>\n",
       "    <tr>\n",
       "      <th>S11</th>\n",
       "      <td>1812</td>\n",
       "      <td>0</td>\n",
       "      <td>0</td>\n",
       "      <td>0</td>\n",
       "      <td>0</td>\n",
       "    </tr>\n",
       "    <tr>\n",
       "      <th>S12</th>\n",
       "      <td>347</td>\n",
       "      <td>0</td>\n",
       "      <td>0</td>\n",
       "      <td>0</td>\n",
       "      <td>0</td>\n",
       "    </tr>\n",
       "    <tr>\n",
       "      <th>S13</th>\n",
       "      <td>959</td>\n",
       "      <td>0</td>\n",
       "      <td>0</td>\n",
       "      <td>0</td>\n",
       "      <td>0</td>\n",
       "    </tr>\n",
       "    <tr>\n",
       "      <th>S14</th>\n",
       "      <td>0</td>\n",
       "      <td>353</td>\n",
       "      <td>0</td>\n",
       "      <td>0</td>\n",
       "      <td>0</td>\n",
       "    </tr>\n",
       "    <tr>\n",
       "      <th>S15</th>\n",
       "      <td>562</td>\n",
       "      <td>0</td>\n",
       "      <td>0</td>\n",
       "      <td>0</td>\n",
       "      <td>0</td>\n",
       "    </tr>\n",
       "    <tr>\n",
       "      <th>S16</th>\n",
       "      <td>0</td>\n",
       "      <td>4208</td>\n",
       "      <td>0</td>\n",
       "      <td>0</td>\n",
       "      <td>4</td>\n",
       "    </tr>\n",
       "    <tr>\n",
       "      <th>S17</th>\n",
       "      <td>0</td>\n",
       "      <td>0</td>\n",
       "      <td>0</td>\n",
       "      <td>844</td>\n",
       "      <td>0</td>\n",
       "    </tr>\n",
       "    <tr>\n",
       "      <th>S18</th>\n",
       "      <td>0</td>\n",
       "      <td>0</td>\n",
       "      <td>809</td>\n",
       "      <td>0</td>\n",
       "      <td>3</td>\n",
       "    </tr>\n",
       "    <tr>\n",
       "      <th>S19</th>\n",
       "      <td>0</td>\n",
       "      <td>0</td>\n",
       "      <td>658</td>\n",
       "      <td>0</td>\n",
       "      <td>0</td>\n",
       "    </tr>\n",
       "    <tr>\n",
       "      <th>S2</th>\n",
       "      <td>0</td>\n",
       "      <td>0</td>\n",
       "      <td>0</td>\n",
       "      <td>7401</td>\n",
       "      <td>26</td>\n",
       "    </tr>\n",
       "    <tr>\n",
       "      <th>S20</th>\n",
       "      <td>0</td>\n",
       "      <td>0</td>\n",
       "      <td>235</td>\n",
       "      <td>0</td>\n",
       "      <td>0</td>\n",
       "    </tr>\n",
       "    <tr>\n",
       "      <th>S21</th>\n",
       "      <td>0</td>\n",
       "      <td>0</td>\n",
       "      <td>168</td>\n",
       "      <td>0</td>\n",
       "      <td>0</td>\n",
       "    </tr>\n",
       "    <tr>\n",
       "      <th>S22</th>\n",
       "      <td>0</td>\n",
       "      <td>0</td>\n",
       "      <td>0</td>\n",
       "      <td>460</td>\n",
       "      <td>0</td>\n",
       "    </tr>\n",
       "    <tr>\n",
       "      <th>S23</th>\n",
       "      <td>0</td>\n",
       "      <td>0</td>\n",
       "      <td>0</td>\n",
       "      <td>681</td>\n",
       "      <td>0</td>\n",
       "    </tr>\n",
       "    <tr>\n",
       "      <th>S24</th>\n",
       "      <td>105</td>\n",
       "      <td>0</td>\n",
       "      <td>0</td>\n",
       "      <td>0</td>\n",
       "      <td>4</td>\n",
       "    </tr>\n",
       "    <tr>\n",
       "      <th>S25</th>\n",
       "      <td>0</td>\n",
       "      <td>1728</td>\n",
       "      <td>0</td>\n",
       "      <td>0</td>\n",
       "      <td>4</td>\n",
       "    </tr>\n",
       "    <tr>\n",
       "      <th>S26</th>\n",
       "      <td>245</td>\n",
       "      <td>0</td>\n",
       "      <td>0</td>\n",
       "      <td>0</td>\n",
       "      <td>0</td>\n",
       "    </tr>\n",
       "    <tr>\n",
       "      <th>S27</th>\n",
       "      <td>248</td>\n",
       "      <td>0</td>\n",
       "      <td>0</td>\n",
       "      <td>0</td>\n",
       "      <td>0</td>\n",
       "    </tr>\n",
       "    <tr>\n",
       "      <th>S28</th>\n",
       "      <td>0</td>\n",
       "      <td>0</td>\n",
       "      <td>0</td>\n",
       "      <td>140</td>\n",
       "      <td>0</td>\n",
       "    </tr>\n",
       "    <tr>\n",
       "      <th>S29</th>\n",
       "      <td>0</td>\n",
       "      <td>0</td>\n",
       "      <td>162</td>\n",
       "      <td>0</td>\n",
       "      <td>0</td>\n",
       "    </tr>\n",
       "    <tr>\n",
       "      <th>S3</th>\n",
       "      <td>0</td>\n",
       "      <td>0</td>\n",
       "      <td>1406</td>\n",
       "      <td>0</td>\n",
       "      <td>4</td>\n",
       "    </tr>\n",
       "    <tr>\n",
       "      <th>S30</th>\n",
       "      <td>0</td>\n",
       "      <td>303</td>\n",
       "      <td>0</td>\n",
       "      <td>0</td>\n",
       "      <td>0</td>\n",
       "    </tr>\n",
       "    <tr>\n",
       "      <th>S31</th>\n",
       "      <td>0</td>\n",
       "      <td>479</td>\n",
       "      <td>0</td>\n",
       "      <td>0</td>\n",
       "      <td>0</td>\n",
       "    </tr>\n",
       "    <tr>\n",
       "      <th>S32</th>\n",
       "      <td>0</td>\n",
       "      <td>491</td>\n",
       "      <td>0</td>\n",
       "      <td>0</td>\n",
       "      <td>0</td>\n",
       "    </tr>\n",
       "    <tr>\n",
       "      <th>S33</th>\n",
       "      <td>0</td>\n",
       "      <td>0</td>\n",
       "      <td>692</td>\n",
       "      <td>0</td>\n",
       "      <td>0</td>\n",
       "    </tr>\n",
       "    <tr>\n",
       "      <th>S34</th>\n",
       "      <td>0</td>\n",
       "      <td>0</td>\n",
       "      <td>0</td>\n",
       "      <td>139</td>\n",
       "      <td>0</td>\n",
       "    </tr>\n",
       "    <tr>\n",
       "      <th>S35</th>\n",
       "      <td>0</td>\n",
       "      <td>204</td>\n",
       "      <td>0</td>\n",
       "      <td>0</td>\n",
       "      <td>0</td>\n",
       "    </tr>\n",
       "    <tr>\n",
       "      <th>S36</th>\n",
       "      <td>0</td>\n",
       "      <td>0</td>\n",
       "      <td>199</td>\n",
       "      <td>0</td>\n",
       "      <td>0</td>\n",
       "    </tr>\n",
       "    <tr>\n",
       "      <th>S37</th>\n",
       "      <td>0</td>\n",
       "      <td>0</td>\n",
       "      <td>230</td>\n",
       "      <td>0</td>\n",
       "      <td>0</td>\n",
       "    </tr>\n",
       "    <tr>\n",
       "      <th>S38</th>\n",
       "      <td>0</td>\n",
       "      <td>0</td>\n",
       "      <td>0</td>\n",
       "      <td>55</td>\n",
       "      <td>0</td>\n",
       "    </tr>\n",
       "    <tr>\n",
       "      <th>S39</th>\n",
       "      <td>0</td>\n",
       "      <td>102</td>\n",
       "      <td>0</td>\n",
       "      <td>0</td>\n",
       "      <td>0</td>\n",
       "    </tr>\n",
       "    <tr>\n",
       "      <th>S4</th>\n",
       "      <td>0</td>\n",
       "      <td>0</td>\n",
       "      <td>920</td>\n",
       "      <td>0</td>\n",
       "      <td>0</td>\n",
       "    </tr>\n",
       "    <tr>\n",
       "      <th>S40</th>\n",
       "      <td>0</td>\n",
       "      <td>394</td>\n",
       "      <td>0</td>\n",
       "      <td>0</td>\n",
       "      <td>0</td>\n",
       "    </tr>\n",
       "    <tr>\n",
       "      <th>S41</th>\n",
       "      <td>0</td>\n",
       "      <td>40</td>\n",
       "      <td>0</td>\n",
       "      <td>0</td>\n",
       "      <td>0</td>\n",
       "    </tr>\n",
       "    <tr>\n",
       "      <th>S42</th>\n",
       "      <td>91</td>\n",
       "      <td>0</td>\n",
       "      <td>0</td>\n",
       "      <td>0</td>\n",
       "      <td>0</td>\n",
       "    </tr>\n",
       "    <tr>\n",
       "      <th>S43</th>\n",
       "      <td>0</td>\n",
       "      <td>35</td>\n",
       "      <td>0</td>\n",
       "      <td>0</td>\n",
       "      <td>0</td>\n",
       "    </tr>\n",
       "    <tr>\n",
       "      <th>S44</th>\n",
       "      <td>0</td>\n",
       "      <td>29</td>\n",
       "      <td>0</td>\n",
       "      <td>0</td>\n",
       "      <td>0</td>\n",
       "    </tr>\n",
       "    <tr>\n",
       "      <th>S45</th>\n",
       "      <td>45</td>\n",
       "      <td>0</td>\n",
       "      <td>0</td>\n",
       "      <td>0</td>\n",
       "      <td>0</td>\n",
       "    </tr>\n",
       "    <tr>\n",
       "      <th>S46</th>\n",
       "      <td>0</td>\n",
       "      <td>0</td>\n",
       "      <td>0</td>\n",
       "      <td>78</td>\n",
       "      <td>0</td>\n",
       "    </tr>\n",
       "    <tr>\n",
       "      <th>S47</th>\n",
       "      <td>26</td>\n",
       "      <td>0</td>\n",
       "      <td>0</td>\n",
       "      <td>0</td>\n",
       "      <td>0</td>\n",
       "    </tr>\n",
       "    <tr>\n",
       "      <th>S48</th>\n",
       "      <td>0</td>\n",
       "      <td>0</td>\n",
       "      <td>0</td>\n",
       "      <td>4</td>\n",
       "      <td>0</td>\n",
       "    </tr>\n",
       "    <tr>\n",
       "      <th>S49</th>\n",
       "      <td>0</td>\n",
       "      <td>12</td>\n",
       "      <td>0</td>\n",
       "      <td>0</td>\n",
       "      <td>0</td>\n",
       "    </tr>\n",
       "    <tr>\n",
       "      <th>S5</th>\n",
       "      <td>0</td>\n",
       "      <td>0</td>\n",
       "      <td>0</td>\n",
       "      <td>1877</td>\n",
       "      <td>4</td>\n",
       "    </tr>\n",
       "    <tr>\n",
       "      <th>S6</th>\n",
       "      <td>3610</td>\n",
       "      <td>0</td>\n",
       "      <td>0</td>\n",
       "      <td>0</td>\n",
       "      <td>4</td>\n",
       "    </tr>\n",
       "    <tr>\n",
       "      <th>S7</th>\n",
       "      <td>404</td>\n",
       "      <td>0</td>\n",
       "      <td>0</td>\n",
       "      <td>0</td>\n",
       "      <td>0</td>\n",
       "    </tr>\n",
       "    <tr>\n",
       "      <th>S8</th>\n",
       "      <td>0</td>\n",
       "      <td>0</td>\n",
       "      <td>0</td>\n",
       "      <td>205</td>\n",
       "      <td>0</td>\n",
       "    </tr>\n",
       "    <tr>\n",
       "      <th>S9</th>\n",
       "      <td>136</td>\n",
       "      <td>0</td>\n",
       "      <td>0</td>\n",
       "      <td>0</td>\n",
       "      <td>0</td>\n",
       "    </tr>\n",
       "  </tbody>\n",
       "</table>\n",
       "</div>"
      ],
      "text/plain": [
       "Region_Code     1     2     3     4  Na\n",
       "State_Code                             \n",
       "S1              0     0   513     0   7\n",
       "S10             0  2180     0     0   0\n",
       "S11          1812     0     0     0   0\n",
       "S12           347     0     0     0   0\n",
       "S13           959     0     0     0   0\n",
       "S14             0   353     0     0   0\n",
       "S15           562     0     0     0   0\n",
       "S16             0  4208     0     0   4\n",
       "S17             0     0     0   844   0\n",
       "S18             0     0   809     0   3\n",
       "S19             0     0   658     0   0\n",
       "S2              0     0     0  7401  26\n",
       "S20             0     0   235     0   0\n",
       "S21             0     0   168     0   0\n",
       "S22             0     0     0   460   0\n",
       "S23             0     0     0   681   0\n",
       "S24           105     0     0     0   4\n",
       "S25             0  1728     0     0   4\n",
       "S26           245     0     0     0   0\n",
       "S27           248     0     0     0   0\n",
       "S28             0     0     0   140   0\n",
       "S29             0     0   162     0   0\n",
       "S3              0     0  1406     0   4\n",
       "S30             0   303     0     0   0\n",
       "S31             0   479     0     0   0\n",
       "S32             0   491     0     0   0\n",
       "S33             0     0   692     0   0\n",
       "S34             0     0     0   139   0\n",
       "S35             0   204     0     0   0\n",
       "S36             0     0   199     0   0\n",
       "S37             0     0   230     0   0\n",
       "S38             0     0     0    55   0\n",
       "S39             0   102     0     0   0\n",
       "S4              0     0   920     0   0\n",
       "S40             0   394     0     0   0\n",
       "S41             0    40     0     0   0\n",
       "S42            91     0     0     0   0\n",
       "S43             0    35     0     0   0\n",
       "S44             0    29     0     0   0\n",
       "S45            45     0     0     0   0\n",
       "S46             0     0     0    78   0\n",
       "S47            26     0     0     0   0\n",
       "S48             0     0     0     4   0\n",
       "S49             0    12     0     0   0\n",
       "S5              0     0     0  1877   4\n",
       "S6           3610     0     0     0   4\n",
       "S7            404     0     0     0   0\n",
       "S8              0     0     0   205   0\n",
       "S9            136     0     0     0   0"
      ]
     },
     "execution_count": 35,
     "metadata": {},
     "output_type": "execute_result"
    }
   ],
   "source": [
    "pd.crosstab(data.State_Code,data.Region_Code)"
   ]
  },
  {
   "cell_type": "code",
   "execution_count": 36,
   "id": "567d2ef3",
   "metadata": {},
   "outputs": [],
   "source": [
    "data.loc[(data.Region_Code == 'Na')&(data.State_Code == 'S1'),'Region_Code'] = '3'\n",
    "data.loc[(data.Region_Code == 'Na')&(data.State_Code == 'S2'),'Region_Code'] = '4'\n",
    "data.loc[(data.Region_Code == 'Na')&(data.State_Code == 'S3'),'Region_Code'] = '3'\n",
    "data.loc[(data.Region_Code == 'Na')&(data.State_Code == 'S5'),'Region_Code'] = '4'\n",
    "data.loc[(data.Region_Code == 'Na')&(data.State_Code == 'S6'),'Region_Code'] = '1'\n",
    "data.loc[(data.Region_Code == 'Na')&(data.State_Code == 'S16'),'Region_Code'] = '2'\n",
    "data.loc[(data.Region_Code == 'Na')&(data.State_Code == 'S18'),'Region_Code'] = '3'\n",
    "data.loc[(data.Region_Code == 'Na')&(data.State_Code == 'S24'),'Region_Code'] = '1'\n",
    "data.loc[(data.Region_Code == 'Na')&(data.State_Code == 'S25'),'Region_Code'] = '2'"
   ]
  },
  {
   "cell_type": "code",
   "execution_count": 37,
   "id": "003d6dea",
   "metadata": {},
   "outputs": [
    {
     "data": {
      "text/plain": [
       "4    11914\n",
       "2    10566\n",
       "1     8598\n",
       "3     6006\n",
       "Name: Region_Code, dtype: int64"
      ]
     },
     "execution_count": 37,
     "metadata": {},
     "output_type": "execute_result"
    }
   ],
   "source": [
    "data['Region_Code'].value_counts()"
   ]
  },
  {
   "cell_type": "code",
   "execution_count": 38,
   "id": "70f0dbde",
   "metadata": {},
   "outputs": [
    {
     "data": {
      "text/plain": [
       "Customer_id       0\n",
       "age               0\n",
       "job               0\n",
       "marital           0\n",
       "education         0\n",
       "default           0\n",
       "housing           0\n",
       "loan              0\n",
       "Region_Code       0\n",
       "State_Code        0\n",
       "City_Code         0\n",
       "y                 0\n",
       "contact           0\n",
       "month             0\n",
       "day_of_week       0\n",
       "duration          0\n",
       "campaign          0\n",
       "pdays             0\n",
       "previous          0\n",
       "poutcome          0\n",
       "Postal Code       0\n",
       "emp.var.rate      0\n",
       "cons.price.idx    0\n",
       "cons.conf.idx     0\n",
       "euribor3m         0\n",
       "nr.employed       0\n",
       "age_group         0\n",
       "dtype: int64"
      ]
     },
     "execution_count": 38,
     "metadata": {},
     "output_type": "execute_result"
    }
   ],
   "source": [
    "data.isna().sum()"
   ]
  },
  {
   "cell_type": "markdown",
   "id": "3acb270e",
   "metadata": {},
   "source": [
    "#### Now our categorical data has no missing values"
   ]
  },
  {
   "cell_type": "markdown",
   "id": "626cd9fb",
   "metadata": {},
   "source": [
    "# Q2) Outlier analysis and treatment \n",
    "## Handling missing numerical values\n"
   ]
  },
  {
   "cell_type": "code",
   "execution_count": 39,
   "id": "44155429",
   "metadata": {},
   "outputs": [
    {
     "name": "stdout",
     "output_type": "stream",
     "text": [
      "Count of Unique values in Column  Customer_id  is : \n",
      " 0 \n",
      "\n",
      "Count of Unique values in Column  age  is : \n",
      " 0 \n",
      "\n",
      "Count of Unique values in Column  duration  is : \n",
      " 0 \n",
      "\n",
      "Count of Unique values in Column  campaign  is : \n",
      " 0 \n",
      "\n",
      "Count of Unique values in Column  pdays  is : \n",
      " 0 \n",
      "\n",
      "Count of Unique values in Column  previous  is : \n",
      " 0 \n",
      "\n",
      "Count of Unique values in Column  Postal Code  is : \n",
      " 0 \n",
      "\n",
      "Count of Unique values in Column  emp.var.rate  is : \n",
      " 0 \n",
      "\n",
      "Count of Unique values in Column  cons.price.idx  is : \n",
      " 0 \n",
      "\n",
      "Count of Unique values in Column  cons.conf.idx  is : \n",
      " 0 \n",
      "\n",
      "Count of Unique values in Column  euribor3m  is : \n",
      " 0 \n",
      "\n",
      "Count of Unique values in Column  nr.employed  is : \n",
      " 0 \n",
      "\n"
     ]
    }
   ],
   "source": [
    "# Iterate over all column names of Dataframe\n",
    "for col in numerical_cols:\n",
    "    # Select the column by name and get count of null values in it\n",
    "    count = data[col].isna().sum()\n",
    "    print('Count of Unique values in Column ', col, ' is : ' '\\n' ,count, '\\n' )"
   ]
  },
  {
   "cell_type": "code",
   "execution_count": 40,
   "id": "f4a304ab",
   "metadata": {},
   "outputs": [
    {
     "data": {
      "text/plain": [
       "<AxesSubplot:ylabel='Customer_id'>"
      ]
     },
     "execution_count": 40,
     "metadata": {},
     "output_type": "execute_result"
    },
    {
     "data": {
      "image/png": "[encoded data removed]",
      "text/plain": [
       "<Figure size 432x288 with 1 Axes>"
      ]
     },
     "metadata": {
      "needs_background": "light"
     },
     "output_type": "display_data"
    }
   ],
   "source": [
    "sns.boxplot(y = data.Customer_id)"
   ]
  },
  {
   "cell_type": "code",
   "execution_count": 41,
   "id": "bf6d34b7",
   "metadata": {},
   "outputs": [
    {
     "data": {
      "text/plain": [
       "<AxesSubplot:ylabel='age'>"
      ]
     },
     "execution_count": 41,
     "metadata": {},
     "output_type": "execute_result"
    },
    {
     "data": {
      "image/png": "[encoded data removed]",
      "text/plain": [
       "<Figure size 432x288 with 1 Axes>"
      ]
     },
     "metadata": {
      "needs_background": "light"
     },
     "output_type": "display_data"
    }
   ],
   "source": [
    "sns.boxplot(y = data.age)"
   ]
  },
  {
   "cell_type": "code",
   "execution_count": 42,
   "id": "c2c75b0b",
   "metadata": {},
   "outputs": [
    {
     "data": {
      "text/plain": [
       "<AxesSubplot:ylabel='duration'>"
      ]
     },
     "execution_count": 42,
     "metadata": {},
     "output_type": "execute_result"
    },
    {
     "data": {
      "image/png": "[encoded data removed]",
      "text/plain": [
       "<Figure size 432x288 with 1 Axes>"
      ]
     },
     "metadata": {
      "needs_background": "light"
     },
     "output_type": "display_data"
    }
   ],
   "source": [
    "sns.boxplot(y = data.duration)"
   ]
  },
  {
   "cell_type": "code",
   "execution_count": 43,
   "id": "f85591a6",
   "metadata": {},
   "outputs": [
    {
     "data": {
      "text/plain": [
       "<AxesSubplot:ylabel='campaign'>"
      ]
     },
     "execution_count": 43,
     "metadata": {},
     "output_type": "execute_result"
    },
    {
     "data": {
      "image/png": "[encoded data removed]",
      "text/plain": [
       "<Figure size 432x288 with 1 Axes>"
      ]
     },
     "metadata": {
      "needs_background": "light"
     },
     "output_type": "display_data"
    }
   ],
   "source": [
    "sns.boxplot(y = data.campaign)"
   ]
  },
  {
   "cell_type": "code",
   "execution_count": 44,
   "id": "7d33d442",
   "metadata": {},
   "outputs": [
    {
     "data": {
      "text/plain": [
       "<AxesSubplot:ylabel='previous'>"
      ]
     },
     "execution_count": 44,
     "metadata": {},
     "output_type": "execute_result"
    },
    {
     "data": {
      "image/png": "[encoded data removed]",
      "text/plain": [
       "<Figure size 432x288 with 1 Axes>"
      ]
     },
     "metadata": {
      "needs_background": "light"
     },
     "output_type": "display_data"
    }
   ],
   "source": [
    "sns.boxplot(y = data.previous)"
   ]
  },
  {
   "cell_type": "code",
   "execution_count": 45,
   "id": "ecca975e",
   "metadata": {},
   "outputs": [
    {
     "data": {
      "text/plain": [
       "<AxesSubplot:ylabel='pdays'>"
      ]
     },
     "execution_count": 45,
     "metadata": {},
     "output_type": "execute_result"
    },
    {
     "data": {
      "image/png": "[encoded data removed]",
      "text/plain": [
       "<Figure size 432x288 with 1 Axes>"
      ]
     },
     "metadata": {
      "needs_background": "light"
     },
     "output_type": "display_data"
    }
   ],
   "source": [
    "sns.boxplot(y = data.pdays)"
   ]
  },
  {
   "cell_type": "code",
   "execution_count": 46,
   "id": "c00e8661",
   "metadata": {},
   "outputs": [
    {
     "data": {
      "text/plain": [
       "<AxesSubplot:ylabel='Postal Code'>"
      ]
     },
     "execution_count": 46,
     "metadata": {},
     "output_type": "execute_result"
    },
    {
     "data": {
      "image/png": "[encoded data removed]",
      "text/plain": [
       "<Figure size 432x288 with 1 Axes>"
      ]
     },
     "metadata": {
      "needs_background": "light"
     },
     "output_type": "display_data"
    }
   ],
   "source": [
    "sns.boxplot(y = data['Postal Code'])"
   ]
  },
  {
   "cell_type": "code",
   "execution_count": 47,
   "id": "63a27ec1",
   "metadata": {},
   "outputs": [
    {
     "data": {
      "text/plain": [
       "<AxesSubplot:ylabel='emp.var.rate'>"
      ]
     },
     "execution_count": 47,
     "metadata": {},
     "output_type": "execute_result"
    },
    {
     "data": {
      "image/png": "[encoded data removed]",
      "text/plain": [
       "<Figure size 432x288 with 1 Axes>"
      ]
     },
     "metadata": {
      "needs_background": "light"
     },
     "output_type": "display_data"
    }
   ],
   "source": [
    "sns.boxplot(y = data['emp.var.rate'])"
   ]
  },
  {
   "cell_type": "code",
   "execution_count": 48,
   "id": "6ee03fe6",
   "metadata": {},
   "outputs": [
    {
     "data": {
      "text/plain": [
       "<AxesSubplot:ylabel='cons.conf.idx'>"
      ]
     },
     "execution_count": 48,
     "metadata": {},
     "output_type": "execute_result"
    },
    {
     "data": {
      "image/png": "[encoded data removed]",
      "text/plain": [
       "<Figure size 432x288 with 1 Axes>"
      ]
     },
     "metadata": {
      "needs_background": "light"
     },
     "output_type": "display_data"
    }
   ],
   "source": [
    "sns.boxplot(y = data['cons.conf.idx'])"
   ]
  },
  {
   "cell_type": "code",
   "execution_count": 49,
   "id": "608463a7",
   "metadata": {},
   "outputs": [
    {
     "data": {
      "text/plain": [
       "<AxesSubplot:ylabel='cons.price.idx'>"
      ]
     },
     "execution_count": 49,
     "metadata": {},
     "output_type": "execute_result"
    },
    {
     "data": {
      "image/png": "[encoded data removed]",
      "text/plain": [
       "<Figure size 432x288 with 1 Axes>"
      ]
     },
     "metadata": {
      "needs_background": "light"
     },
     "output_type": "display_data"
    }
   ],
   "source": [
    "sns.boxplot(y = data['cons.price.idx'])"
   ]
  },
  {
   "cell_type": "code",
   "execution_count": 50,
   "id": "eafa059d",
   "metadata": {},
   "outputs": [
    {
     "data": {
      "text/plain": [
       "<AxesSubplot:ylabel='euribor3m'>"
      ]
     },
     "execution_count": 50,
     "metadata": {},
     "output_type": "execute_result"
    },
    {
     "data": {
      "image/png": "[encoded data removed]",
      "text/plain": [
       "<Figure size 432x288 with 1 Axes>"
      ]
     },
     "metadata": {
      "needs_background": "light"
     },
     "output_type": "display_data"
    }
   ],
   "source": [
    "sns.boxplot(y = data['euribor3m'])"
   ]
  },
  {
   "cell_type": "code",
   "execution_count": 51,
   "id": "71371f98",
   "metadata": {},
   "outputs": [
    {
     "data": {
      "text/plain": [
       "<AxesSubplot:ylabel='nr.employed'>"
      ]
     },
     "execution_count": 51,
     "metadata": {},
     "output_type": "execute_result"
    },
    {
     "data": {
      "image/png": "[encoded data removed]",
      "text/plain": [
       "<Figure size 432x288 with 1 Axes>"
      ]
     },
     "metadata": {
      "needs_background": "light"
     },
     "output_type": "display_data"
    }
   ],
   "source": [
    "sns.boxplot(y = data['nr.employed'])"
   ]
  },
  {
   "cell_type": "code",
   "execution_count": 52,
   "id": "caa63a7e",
   "metadata": {},
   "outputs": [
    {
     "data": {
      "text/html": [
       "<div>\n",
       "<style scoped>\n",
       "    .dataframe tbody tr th:only-of-type {\n",
       "        vertical-align: middle;\n",
       "    }\n",
       "\n",
       "    .dataframe tbody tr th {\n",
       "        vertical-align: top;\n",
       "    }\n",
       "\n",
       "    .dataframe thead th {\n",
       "        text-align: right;\n",
       "    }\n",
       "</style>\n",
       "<table border=\"1\" class=\"dataframe\">\n",
       "  <thead>\n",
       "    <tr style=\"text-align: right;\">\n",
       "      <th></th>\n",
       "      <th>Customer_id</th>\n",
       "      <th>age</th>\n",
       "      <th>duration</th>\n",
       "      <th>campaign</th>\n",
       "      <th>pdays</th>\n",
       "      <th>previous</th>\n",
       "      <th>Postal Code</th>\n",
       "      <th>emp.var.rate</th>\n",
       "      <th>cons.price.idx</th>\n",
       "      <th>cons.conf.idx</th>\n",
       "      <th>euribor3m</th>\n",
       "      <th>nr.employed</th>\n",
       "    </tr>\n",
       "  </thead>\n",
       "  <tbody>\n",
       "    <tr>\n",
       "      <th>count</th>\n",
       "      <td>37084.000000</td>\n",
       "      <td>37084.000000</td>\n",
       "      <td>37084.000000</td>\n",
       "      <td>37084.000000</td>\n",
       "      <td>37084.000000</td>\n",
       "      <td>37084.000000</td>\n",
       "      <td>37084.000000</td>\n",
       "      <td>37084.000000</td>\n",
       "      <td>37084.000000</td>\n",
       "      <td>37084.000000</td>\n",
       "      <td>37084.000000</td>\n",
       "      <td>37084.000000</td>\n",
       "    </tr>\n",
       "    <tr>\n",
       "      <th>mean</th>\n",
       "      <td>18542.500000</td>\n",
       "      <td>40.042714</td>\n",
       "      <td>258.237946</td>\n",
       "      <td>2.569545</td>\n",
       "      <td>962.530849</td>\n",
       "      <td>0.172986</td>\n",
       "      <td>55202.625553</td>\n",
       "      <td>0.082669</td>\n",
       "      <td>93.576076</td>\n",
       "      <td>-40.505183</td>\n",
       "      <td>3.621668</td>\n",
       "      <td>5167.058664</td>\n",
       "    </tr>\n",
       "    <tr>\n",
       "      <th>std</th>\n",
       "      <td>10705.373028</td>\n",
       "      <td>10.432965</td>\n",
       "      <td>258.730909</td>\n",
       "      <td>2.770611</td>\n",
       "      <td>186.773063</td>\n",
       "      <td>0.495681</td>\n",
       "      <td>32057.300954</td>\n",
       "      <td>1.568997</td>\n",
       "      <td>0.578493</td>\n",
       "      <td>4.622045</td>\n",
       "      <td>1.733972</td>\n",
       "      <td>72.196605</td>\n",
       "    </tr>\n",
       "    <tr>\n",
       "      <th>min</th>\n",
       "      <td>1.000000</td>\n",
       "      <td>17.000000</td>\n",
       "      <td>0.000000</td>\n",
       "      <td>1.000000</td>\n",
       "      <td>0.000000</td>\n",
       "      <td>0.000000</td>\n",
       "      <td>1040.000000</td>\n",
       "      <td>-3.400000</td>\n",
       "      <td>92.201000</td>\n",
       "      <td>-50.800000</td>\n",
       "      <td>0.634000</td>\n",
       "      <td>4963.600000</td>\n",
       "    </tr>\n",
       "    <tr>\n",
       "      <th>25%</th>\n",
       "      <td>9271.750000</td>\n",
       "      <td>32.000000</td>\n",
       "      <td>102.000000</td>\n",
       "      <td>1.000000</td>\n",
       "      <td>999.000000</td>\n",
       "      <td>0.000000</td>\n",
       "      <td>23223.000000</td>\n",
       "      <td>-1.800000</td>\n",
       "      <td>93.075000</td>\n",
       "      <td>-42.700000</td>\n",
       "      <td>1.344000</td>\n",
       "      <td>5099.100000</td>\n",
       "    </tr>\n",
       "    <tr>\n",
       "      <th>50%</th>\n",
       "      <td>18542.500000</td>\n",
       "      <td>38.000000</td>\n",
       "      <td>180.000000</td>\n",
       "      <td>2.000000</td>\n",
       "      <td>999.000000</td>\n",
       "      <td>0.000000</td>\n",
       "      <td>56301.000000</td>\n",
       "      <td>1.100000</td>\n",
       "      <td>93.749000</td>\n",
       "      <td>-41.800000</td>\n",
       "      <td>4.857000</td>\n",
       "      <td>5191.000000</td>\n",
       "    </tr>\n",
       "    <tr>\n",
       "      <th>75%</th>\n",
       "      <td>27813.250000</td>\n",
       "      <td>47.000000</td>\n",
       "      <td>319.250000</td>\n",
       "      <td>3.000000</td>\n",
       "      <td>999.000000</td>\n",
       "      <td>0.000000</td>\n",
       "      <td>90008.000000</td>\n",
       "      <td>1.400000</td>\n",
       "      <td>93.994000</td>\n",
       "      <td>-36.400000</td>\n",
       "      <td>4.961000</td>\n",
       "      <td>5228.100000</td>\n",
       "    </tr>\n",
       "    <tr>\n",
       "      <th>max</th>\n",
       "      <td>37084.000000</td>\n",
       "      <td>98.000000</td>\n",
       "      <td>4918.000000</td>\n",
       "      <td>56.000000</td>\n",
       "      <td>999.000000</td>\n",
       "      <td>7.000000</td>\n",
       "      <td>99301.000000</td>\n",
       "      <td>1.400000</td>\n",
       "      <td>94.767000</td>\n",
       "      <td>-26.900000</td>\n",
       "      <td>5.045000</td>\n",
       "      <td>5228.100000</td>\n",
       "    </tr>\n",
       "  </tbody>\n",
       "</table>\n",
       "</div>"
      ],
      "text/plain": [
       "        Customer_id           age      duration      campaign         pdays  \\\n",
       "count  37084.000000  37084.000000  37084.000000  37084.000000  37084.000000   \n",
       "mean   18542.500000     40.042714    258.237946      2.569545    962.530849   \n",
       "std    10705.373028     10.432965    258.730909      2.770611    186.773063   \n",
       "min        1.000000     17.000000      0.000000      1.000000      0.000000   \n",
       "25%     9271.750000     32.000000    102.000000      1.000000    999.000000   \n",
       "50%    18542.500000     38.000000    180.000000      2.000000    999.000000   \n",
       "75%    27813.250000     47.000000    319.250000      3.000000    999.000000   \n",
       "max    37084.000000     98.000000   4918.000000     56.000000    999.000000   \n",
       "\n",
       "           previous   Postal Code  emp.var.rate  cons.price.idx  \\\n",
       "count  37084.000000  37084.000000  37084.000000    37084.000000   \n",
       "mean       0.172986  55202.625553      0.082669       93.576076   \n",
       "std        0.495681  32057.300954      1.568997        0.578493   \n",
       "min        0.000000   1040.000000     -3.400000       92.201000   \n",
       "25%        0.000000  23223.000000     -1.800000       93.075000   \n",
       "50%        0.000000  56301.000000      1.100000       93.749000   \n",
       "75%        0.000000  90008.000000      1.400000       93.994000   \n",
       "max        7.000000  99301.000000      1.400000       94.767000   \n",
       "\n",
       "       cons.conf.idx     euribor3m   nr.employed  \n",
       "count   37084.000000  37084.000000  37084.000000  \n",
       "mean      -40.505183      3.621668   5167.058664  \n",
       "std         4.622045      1.733972     72.196605  \n",
       "min       -50.800000      0.634000   4963.600000  \n",
       "25%       -42.700000      1.344000   5099.100000  \n",
       "50%       -41.800000      4.857000   5191.000000  \n",
       "75%       -36.400000      4.961000   5228.100000  \n",
       "max       -26.900000      5.045000   5228.100000  "
      ]
     },
     "execution_count": 52,
     "metadata": {},
     "output_type": "execute_result"
    }
   ],
   "source": [
    "data.describe()"
   ]
  },
  {
   "cell_type": "markdown",
   "id": "37086e33",
   "metadata": {},
   "source": [
    "##### Our numerical data has some outliers"
   ]
  },
  {
   "cell_type": "markdown",
   "id": "3191a6b5",
   "metadata": {},
   "source": [
    "#### Outlier detect function"
   ]
  },
  {
   "cell_type": "code",
   "execution_count": 54,
   "id": "16db88b8",
   "metadata": {},
   "outputs": [],
   "source": [
    "def detect_outliers_iqr(data):\n",
    "    outliers = []\n",
    "    data = sorted(data)\n",
    "    q1 = np.percentile(data, 25)\n",
    "    q3 = np.percentile(data, 75)\n",
    "    IQR = q3-q1\n",
    "    lwr_bound = q1-(1.5*IQR)\n",
    "    upr_bound = q3+(1.5*IQR)\n",
    "    for i in data: \n",
    "        if (i<lwr_bound or i>upr_bound):\n",
    "            outliers.append(i)\n",
    "    return outliers# Driver code"
   ]
  },
  {
   "cell_type": "markdown",
   "id": "c18aac11",
   "metadata": {},
   "source": [
    "### Handling outlier of 'age' column"
   ]
  },
  {
   "cell_type": "code",
   "execution_count": 55,
   "id": "82ed7e08",
   "metadata": {},
   "outputs": [
    {
     "name": "stdout",
     "output_type": "stream",
     "text": [
      "Outliers from IQR method:  429\n"
     ]
    }
   ],
   "source": [
    "#sample_outliers_age\n",
    "sample_outliers_age = detect_outliers_iqr(data['age'])\n",
    "print(\"Outliers from IQR method: \", len(sample_outliers_age))"
   ]
  },
  {
   "cell_type": "code",
   "execution_count": 56,
   "id": "4cf51647",
   "metadata": {},
   "outputs": [],
   "source": [
    "for i in sample_outliers_age:\n",
    "    data['age'].replace(i,69,inplace=True)"
   ]
  },
  {
   "cell_type": "code",
   "execution_count": 57,
   "id": "c59f858d",
   "metadata": {},
   "outputs": [
    {
     "data": {
      "text/plain": [
       "<AxesSubplot:ylabel='age'>"
      ]
     },
     "execution_count": 57,
     "metadata": {},
     "output_type": "execute_result"
    },
    {
     "data": {
      "image/png": "[encoded data removed]",
      "text/plain": [
       "<Figure size 432x288 with 1 Axes>"
      ]
     },
     "metadata": {
      "needs_background": "light"
     },
     "output_type": "display_data"
    }
   ],
   "source": [
    "sns.boxplot(y = data.age)"
   ]
  },
  {
   "cell_type": "markdown",
   "id": "208eb544",
   "metadata": {},
   "source": [
    "### Handling outlier of 'duration' column"
   ]
  },
  {
   "cell_type": "code",
   "execution_count": 58,
   "id": "74cd1828",
   "metadata": {},
   "outputs": [
    {
     "name": "stdout",
     "output_type": "stream",
     "text": [
      "Outliers from IQR method:  2673\n"
     ]
    }
   ],
   "source": [
    "sample_outliers_d = detect_outliers_iqr(data['duration'])\n",
    "print(\"Outliers from IQR method: \", len(sample_outliers_d))"
   ]
  },
  {
   "cell_type": "code",
   "execution_count": 59,
   "id": "d4ddd9f4",
   "metadata": {},
   "outputs": [],
   "source": [
    "for i in sample_outliers_d:\n",
    "    data['duration'].replace(i,645,inplace=True)"
   ]
  },
  {
   "cell_type": "code",
   "execution_count": 60,
   "id": "019fc8ab",
   "metadata": {},
   "outputs": [
    {
     "data": {
      "text/plain": [
       "<AxesSubplot:ylabel='duration'>"
      ]
     },
     "execution_count": 60,
     "metadata": {},
     "output_type": "execute_result"
    },
    {
     "data": {
      "image/png": "[encoded data removed]",
      "text/plain": [
       "<Figure size 432x288 with 1 Axes>"
      ]
     },
     "metadata": {
      "needs_background": "light"
     },
     "output_type": "display_data"
    }
   ],
   "source": [
    "sns.boxplot(y = data.duration)"
   ]
  },
  {
   "cell_type": "markdown",
   "id": "5397f7f8",
   "metadata": {},
   "source": [
    "### Handling outlier of 'campaign' column"
   ]
  },
  {
   "cell_type": "code",
   "execution_count": 61,
   "id": "c4720286",
   "metadata": {},
   "outputs": [
    {
     "name": "stdout",
     "output_type": "stream",
     "text": [
      "Outliers from IQR method:  2189\n"
     ]
    }
   ],
   "source": [
    "sample_outliers_c = detect_outliers_iqr(data['campaign'])\n",
    "print(\"Outliers from IQR method: \", len(sample_outliers_c))"
   ]
  },
  {
   "cell_type": "code",
   "execution_count": 62,
   "id": "23473750",
   "metadata": {},
   "outputs": [],
   "source": [
    "for i in sample_outliers_c:\n",
    "    data['campaign'].replace(i,6,inplace=True)"
   ]
  },
  {
   "cell_type": "code",
   "execution_count": 63,
   "id": "5ed55cc4",
   "metadata": {},
   "outputs": [
    {
     "data": {
      "text/plain": [
       "<AxesSubplot:ylabel='campaign'>"
      ]
     },
     "execution_count": 63,
     "metadata": {},
     "output_type": "execute_result"
    },
    {
     "data": {
      "image/png": "[encoded data removed]",
      "text/plain": [
       "<Figure size 432x288 with 1 Axes>"
      ]
     },
     "metadata": {
      "needs_background": "light"
     },
     "output_type": "display_data"
    }
   ],
   "source": [
    "sns.boxplot(y = data.campaign)"
   ]
  },
  {
   "cell_type": "markdown",
   "id": "a1c19d8a",
   "metadata": {},
   "source": [
    "### Handling outlier of 'previous' column"
   ]
  },
  {
   "cell_type": "code",
   "execution_count": 64,
   "id": "ec2a207b",
   "metadata": {},
   "outputs": [
    {
     "name": "stdout",
     "output_type": "stream",
     "text": [
      "Outliers from IQR method:  5061\n"
     ]
    }
   ],
   "source": [
    "sample_outliers_previous = detect_outliers_iqr(data['previous'])\n",
    "print(\"Outliers from IQR method: \", len(sample_outliers_previous))"
   ]
  },
  {
   "cell_type": "code",
   "execution_count": 65,
   "id": "021caf0b",
   "metadata": {},
   "outputs": [],
   "source": [
    "for i in sample_outliers_previous:\n",
    "    data['previous'].replace(i,1,inplace=True)"
   ]
  },
  {
   "cell_type": "code",
   "execution_count": 66,
   "id": "3898bac3",
   "metadata": {},
   "outputs": [
    {
     "data": {
      "text/plain": [
       "<AxesSubplot:ylabel='previous'>"
      ]
     },
     "execution_count": 66,
     "metadata": {},
     "output_type": "execute_result"
    },
    {
     "data": {
      "image/png": "[encoded data removed]",
      "text/plain": [
       "<Figure size 432x288 with 1 Axes>"
      ]
     },
     "metadata": {
      "needs_background": "light"
     },
     "output_type": "display_data"
    }
   ],
   "source": [
    "sns.boxplot(y = data.previous)"
   ]
  },
  {
   "cell_type": "code",
   "execution_count": 67,
   "id": "120a5363",
   "metadata": {},
   "outputs": [
    {
     "data": {
      "text/html": [
       "<div>\n",
       "<style scoped>\n",
       "    .dataframe tbody tr th:only-of-type {\n",
       "        vertical-align: middle;\n",
       "    }\n",
       "\n",
       "    .dataframe tbody tr th {\n",
       "        vertical-align: top;\n",
       "    }\n",
       "\n",
       "    .dataframe thead th {\n",
       "        text-align: right;\n",
       "    }\n",
       "</style>\n",
       "<table border=\"1\" class=\"dataframe\">\n",
       "  <thead>\n",
       "    <tr style=\"text-align: right;\">\n",
       "      <th></th>\n",
       "      <th>age</th>\n",
       "      <th>campaign</th>\n",
       "      <th>duration</th>\n",
       "      <th>previous</th>\n",
       "      <th>emp.var.rate</th>\n",
       "      <th>cons.price.idx</th>\n",
       "      <th>cons.conf.idx</th>\n",
       "      <th>euribor3m</th>\n",
       "      <th>nr.employed</th>\n",
       "    </tr>\n",
       "  </thead>\n",
       "  <tbody>\n",
       "    <tr>\n",
       "      <th>count</th>\n",
       "      <td>37084.000000</td>\n",
       "      <td>37084.000000</td>\n",
       "      <td>37084.000000</td>\n",
       "      <td>37084.000000</td>\n",
       "      <td>37084.000000</td>\n",
       "      <td>37084.000000</td>\n",
       "      <td>37084.000000</td>\n",
       "      <td>37084.000000</td>\n",
       "      <td>37084.000000</td>\n",
       "    </tr>\n",
       "    <tr>\n",
       "      <th>mean</th>\n",
       "      <td>39.950329</td>\n",
       "      <td>2.276211</td>\n",
       "      <td>235.084403</td>\n",
       "      <td>0.136474</td>\n",
       "      <td>0.082669</td>\n",
       "      <td>93.576076</td>\n",
       "      <td>-40.505183</td>\n",
       "      <td>3.621668</td>\n",
       "      <td>5167.058664</td>\n",
       "    </tr>\n",
       "    <tr>\n",
       "      <th>std</th>\n",
       "      <td>10.117251</td>\n",
       "      <td>1.552224</td>\n",
       "      <td>177.688007</td>\n",
       "      <td>0.343296</td>\n",
       "      <td>1.568997</td>\n",
       "      <td>0.578493</td>\n",
       "      <td>4.622045</td>\n",
       "      <td>1.733972</td>\n",
       "      <td>72.196605</td>\n",
       "    </tr>\n",
       "    <tr>\n",
       "      <th>min</th>\n",
       "      <td>17.000000</td>\n",
       "      <td>1.000000</td>\n",
       "      <td>0.000000</td>\n",
       "      <td>0.000000</td>\n",
       "      <td>-3.400000</td>\n",
       "      <td>92.201000</td>\n",
       "      <td>-50.800000</td>\n",
       "      <td>0.634000</td>\n",
       "      <td>4963.600000</td>\n",
       "    </tr>\n",
       "    <tr>\n",
       "      <th>25%</th>\n",
       "      <td>32.000000</td>\n",
       "      <td>1.000000</td>\n",
       "      <td>102.000000</td>\n",
       "      <td>0.000000</td>\n",
       "      <td>-1.800000</td>\n",
       "      <td>93.075000</td>\n",
       "      <td>-42.700000</td>\n",
       "      <td>1.344000</td>\n",
       "      <td>5099.100000</td>\n",
       "    </tr>\n",
       "    <tr>\n",
       "      <th>50%</th>\n",
       "      <td>38.000000</td>\n",
       "      <td>2.000000</td>\n",
       "      <td>180.000000</td>\n",
       "      <td>0.000000</td>\n",
       "      <td>1.100000</td>\n",
       "      <td>93.749000</td>\n",
       "      <td>-41.800000</td>\n",
       "      <td>4.857000</td>\n",
       "      <td>5191.000000</td>\n",
       "    </tr>\n",
       "    <tr>\n",
       "      <th>75%</th>\n",
       "      <td>47.000000</td>\n",
       "      <td>3.000000</td>\n",
       "      <td>319.250000</td>\n",
       "      <td>0.000000</td>\n",
       "      <td>1.400000</td>\n",
       "      <td>93.994000</td>\n",
       "      <td>-36.400000</td>\n",
       "      <td>4.961000</td>\n",
       "      <td>5228.100000</td>\n",
       "    </tr>\n",
       "    <tr>\n",
       "      <th>max</th>\n",
       "      <td>69.000000</td>\n",
       "      <td>6.000000</td>\n",
       "      <td>645.000000</td>\n",
       "      <td>1.000000</td>\n",
       "      <td>1.400000</td>\n",
       "      <td>94.767000</td>\n",
       "      <td>-26.900000</td>\n",
       "      <td>5.045000</td>\n",
       "      <td>5228.100000</td>\n",
       "    </tr>\n",
       "  </tbody>\n",
       "</table>\n",
       "</div>"
      ],
      "text/plain": [
       "                age      campaign      duration      previous  emp.var.rate  \\\n",
       "count  37084.000000  37084.000000  37084.000000  37084.000000  37084.000000   \n",
       "mean      39.950329      2.276211    235.084403      0.136474      0.082669   \n",
       "std       10.117251      1.552224    177.688007      0.343296      1.568997   \n",
       "min       17.000000      1.000000      0.000000      0.000000     -3.400000   \n",
       "25%       32.000000      1.000000    102.000000      0.000000     -1.800000   \n",
       "50%       38.000000      2.000000    180.000000      0.000000      1.100000   \n",
       "75%       47.000000      3.000000    319.250000      0.000000      1.400000   \n",
       "max       69.000000      6.000000    645.000000      1.000000      1.400000   \n",
       "\n",
       "       cons.price.idx  cons.conf.idx     euribor3m   nr.employed  \n",
       "count    37084.000000   37084.000000  37084.000000  37084.000000  \n",
       "mean        93.576076     -40.505183      3.621668   5167.058664  \n",
       "std          0.578493       4.622045      1.733972     72.196605  \n",
       "min         92.201000     -50.800000      0.634000   4963.600000  \n",
       "25%         93.075000     -42.700000      1.344000   5099.100000  \n",
       "50%         93.749000     -41.800000      4.857000   5191.000000  \n",
       "75%         93.994000     -36.400000      4.961000   5228.100000  \n",
       "max         94.767000     -26.900000      5.045000   5228.100000  "
      ]
     },
     "execution_count": 67,
     "metadata": {},
     "output_type": "execute_result"
    }
   ],
   "source": [
    "numerical_variables = ['age','campaign','duration', 'previous', 'emp.var.rate', 'cons.price.idx','cons.conf.idx','euribor3m',\n",
    "                      'nr.employed']\n",
    "data[numerical_variables].describe()"
   ]
  },
  {
   "cell_type": "markdown",
   "id": "7632e021",
   "metadata": {},
   "source": [
    "#### Now our numeric data has no outliers values"
   ]
  },
  {
   "cell_type": "markdown",
   "id": "897e1418",
   "metadata": {},
   "source": [
    "# Q5) a) Feature Engineering\n",
    "##### Feature engineering is the process of using domain knowledge to select and transform the most relevant variables from the given data while creating a predictive model using machine learning. The goal of feature engineering and selection is to enhance the performance of machine learning algorithms.\n",
    "\n",
    "##### From domain knowledge, we know that Customer_id is just a number assigned to each customer, having no statistical significance.\n",
    "##### In default column we have only two values as 'yes' out of 37084 records.\n",
    "##### We have '999' in 'pdays' which all are a kind of missing values as it doesn't give any information.\n",
    "##### age_group,postal_code,state_code,city_code is just a number assigned to each customer, having no statistical significance."
   ]
  },
  {
   "cell_type": "code",
   "execution_count": 68,
   "id": "f4ac57c0",
   "metadata": {},
   "outputs": [],
   "source": [
    "data.drop(['pdays','State_Code','City_Code','Customer_id','Postal Code','age_group','default'],axis=1,inplace=True)"
   ]
  },
  {
   "cell_type": "markdown",
   "id": "32665f0d",
   "metadata": {},
   "source": [
    "# Q4) Data transformation"
   ]
  },
  {
   "cell_type": "markdown",
   "id": "e62c6a7a",
   "metadata": {},
   "source": [
    "##### Since we have many categorical variables, dummy variables needs to be created for those vaiables."
   ]
  },
  {
   "cell_type": "markdown",
   "id": "c0afe0cf",
   "metadata": {},
   "source": [
    "##### Drop one of the dummy variables as for n categories we only need n-1 dummy variables."
   ]
  },
  {
   "cell_type": "code",
   "execution_count": 69,
   "id": "ee3de11d",
   "metadata": {},
   "outputs": [],
   "source": [
    "from sklearn import preprocessing\n",
    "lab = preprocessing.LabelEncoder()\n",
    "data['marital']=lab.fit_transform(data['marital'])\n",
    "data['Region_Code']=lab.fit_transform(data['Region_Code'])\n",
    "data['poutcome']=lab.fit_transform(data['poutcome'])\n",
    "data['day_of_week']=lab.fit_transform(data['day_of_week'])"
   ]
  },
  {
   "cell_type": "code",
   "execution_count": 70,
   "id": "40943f50",
   "metadata": {},
   "outputs": [],
   "source": [
    "dummy_vars = pd.get_dummies(data[['job','education','housing','loan','y','contact','month']], drop_first=True)"
   ]
  },
  {
   "cell_type": "code",
   "execution_count": 71,
   "id": "b7c1f339",
   "metadata": {},
   "outputs": [
    {
     "data": {
      "text/plain": [
       "(37084, 29)"
      ]
     },
     "execution_count": 71,
     "metadata": {},
     "output_type": "execute_result"
    }
   ],
   "source": [
    "dummy_vars.shape"
   ]
  },
  {
   "cell_type": "code",
   "execution_count": 72,
   "id": "2fa188cd",
   "metadata": {},
   "outputs": [],
   "source": [
    "data1 = data.copy()"
   ]
  },
  {
   "cell_type": "code",
   "execution_count": 73,
   "id": "197aaea0",
   "metadata": {},
   "outputs": [],
   "source": [
    "data1.drop(['job','education','housing','loan','y','contact','month'],axis=1,inplace=True)"
   ]
  },
  {
   "cell_type": "code",
   "execution_count": 74,
   "id": "b57ac2ac",
   "metadata": {},
   "outputs": [],
   "source": [
    "data2 = pd.concat([data1,dummy_vars],axis=1)"
   ]
  },
  {
   "cell_type": "code",
   "execution_count": 75,
   "id": "df9e04fb",
   "metadata": {},
   "outputs": [
    {
     "data": {
      "text/plain": [
       "Index(['age', 'marital', 'Region_Code', 'day_of_week', 'duration', 'campaign',\n",
       "       'previous', 'poutcome', 'emp.var.rate', 'cons.price.idx',\n",
       "       'cons.conf.idx', 'euribor3m', 'nr.employed', 'job_blue-collar',\n",
       "       'job_entrepreneur', 'job_housemaid', 'job_management', 'job_retired',\n",
       "       'job_self-employed', 'job_services', 'job_student', 'job_technician',\n",
       "       'job_unemployed', 'education_basic.6y', 'education_basic.9y',\n",
       "       'education_high.school', 'education_illiterate',\n",
       "       'education_professional.course', 'education_university.degree',\n",
       "       'housing_yes', 'loan_yes', 'y_yes', 'contact_telephone', 'month_aug',\n",
       "       'month_dec', 'month_jul', 'month_jun', 'month_mar', 'month_may',\n",
       "       'month_nov', 'month_oct', 'month_sep'],\n",
       "      dtype='object')"
      ]
     },
     "execution_count": 75,
     "metadata": {},
     "output_type": "execute_result"
    }
   ],
   "source": [
    "data2.columns"
   ]
  },
  {
   "cell_type": "code",
   "execution_count": 76,
   "id": "538355f6",
   "metadata": {},
   "outputs": [
    {
     "data": {
      "text/plain": [
       "(37084, 42)"
      ]
     },
     "execution_count": 76,
     "metadata": {},
     "output_type": "execute_result"
    }
   ],
   "source": [
    "data2.shape"
   ]
  },
  {
   "cell_type": "code",
   "execution_count": 77,
   "id": "1d610f33",
   "metadata": {},
   "outputs": [],
   "source": [
    "x1 = data2.copy()"
   ]
  },
  {
   "cell_type": "code",
   "execution_count": 78,
   "id": "2db95c72",
   "metadata": {},
   "outputs": [],
   "source": [
    "x1.drop('y_yes',axis=1,inplace=True)"
   ]
  },
  {
   "cell_type": "code",
   "execution_count": 79,
   "id": "3ee98352",
   "metadata": {},
   "outputs": [
    {
     "data": {
      "text/plain": [
       "Index(['age', 'marital', 'Region_Code', 'day_of_week', 'duration', 'campaign',\n",
       "       'previous', 'poutcome', 'emp.var.rate', 'cons.price.idx',\n",
       "       'cons.conf.idx', 'euribor3m', 'nr.employed', 'job_blue-collar',\n",
       "       'job_entrepreneur', 'job_housemaid', 'job_management', 'job_retired',\n",
       "       'job_self-employed', 'job_services', 'job_student', 'job_technician',\n",
       "       'job_unemployed', 'education_basic.6y', 'education_basic.9y',\n",
       "       'education_high.school', 'education_illiterate',\n",
       "       'education_professional.course', 'education_university.degree',\n",
       "       'housing_yes', 'loan_yes', 'contact_telephone', 'month_aug',\n",
       "       'month_dec', 'month_jul', 'month_jun', 'month_mar', 'month_may',\n",
       "       'month_nov', 'month_oct', 'month_sep'],\n",
       "      dtype='object')"
      ]
     },
     "execution_count": 79,
     "metadata": {},
     "output_type": "execute_result"
    }
   ],
   "source": [
    "x1.columns"
   ]
  },
  {
   "cell_type": "code",
   "execution_count": 80,
   "id": "cbf24a96",
   "metadata": {},
   "outputs": [],
   "source": [
    "y = data2.y_yes"
   ]
  },
  {
   "cell_type": "markdown",
   "id": "4fc837d2",
   "metadata": {},
   "source": [
    "## Q3) Data scaling using min-max normalisation\n"
   ]
  },
  {
   "cell_type": "code",
   "execution_count": 81,
   "id": "e8a22d27",
   "metadata": {},
   "outputs": [],
   "source": [
    "from sklearn.preprocessing import MinMaxScaler"
   ]
  },
  {
   "cell_type": "code",
   "execution_count": 82,
   "id": "ea25a5ce",
   "metadata": {},
   "outputs": [],
   "source": [
    "sc = MinMaxScaler()\n",
    "x = sc.fit_transform(x1)"
   ]
  },
  {
   "cell_type": "code",
   "execution_count": 83,
   "id": "e5e44147",
   "metadata": {},
   "outputs": [],
   "source": [
    "x = pd.DataFrame(x, columns=x1.columns)"
   ]
  },
  {
   "cell_type": "code",
   "execution_count": 84,
   "id": "a0ed1061",
   "metadata": {},
   "outputs": [
    {
     "data": {
      "text/html": [
       "<div>\n",
       "<style scoped>\n",
       "    .dataframe tbody tr th:only-of-type {\n",
       "        vertical-align: middle;\n",
       "    }\n",
       "\n",
       "    .dataframe tbody tr th {\n",
       "        vertical-align: top;\n",
       "    }\n",
       "\n",
       "    .dataframe thead th {\n",
       "        text-align: right;\n",
       "    }\n",
       "</style>\n",
       "<table border=\"1\" class=\"dataframe\">\n",
       "  <thead>\n",
       "    <tr style=\"text-align: right;\">\n",
       "      <th></th>\n",
       "      <th>age</th>\n",
       "      <th>marital</th>\n",
       "      <th>Region_Code</th>\n",
       "      <th>day_of_week</th>\n",
       "      <th>duration</th>\n",
       "      <th>campaign</th>\n",
       "      <th>previous</th>\n",
       "      <th>poutcome</th>\n",
       "      <th>emp.var.rate</th>\n",
       "      <th>cons.price.idx</th>\n",
       "      <th>...</th>\n",
       "      <th>contact_telephone</th>\n",
       "      <th>month_aug</th>\n",
       "      <th>month_dec</th>\n",
       "      <th>month_jul</th>\n",
       "      <th>month_jun</th>\n",
       "      <th>month_mar</th>\n",
       "      <th>month_may</th>\n",
       "      <th>month_nov</th>\n",
       "      <th>month_oct</th>\n",
       "      <th>month_sep</th>\n",
       "    </tr>\n",
       "  </thead>\n",
       "  <tbody>\n",
       "    <tr>\n",
       "      <th>count</th>\n",
       "      <td>37084.000000</td>\n",
       "      <td>37084.000000</td>\n",
       "      <td>37084.000000</td>\n",
       "      <td>37084.000000</td>\n",
       "      <td>37084.000000</td>\n",
       "      <td>37084.000000</td>\n",
       "      <td>37084.000000</td>\n",
       "      <td>37084.000000</td>\n",
       "      <td>37084.000000</td>\n",
       "      <td>37084.000000</td>\n",
       "      <td>...</td>\n",
       "      <td>37084.000000</td>\n",
       "      <td>37084.000000</td>\n",
       "      <td>37084.000000</td>\n",
       "      <td>37084.000000</td>\n",
       "      <td>37084.000000</td>\n",
       "      <td>37084.000000</td>\n",
       "      <td>37084.000000</td>\n",
       "      <td>37084.000000</td>\n",
       "      <td>37084.000000</td>\n",
       "      <td>37084.000000</td>\n",
       "    </tr>\n",
       "    <tr>\n",
       "      <th>mean</th>\n",
       "      <td>0.441352</td>\n",
       "      <td>0.584794</td>\n",
       "      <td>0.524215</td>\n",
       "      <td>0.501409</td>\n",
       "      <td>0.364472</td>\n",
       "      <td>0.255242</td>\n",
       "      <td>0.136474</td>\n",
       "      <td>0.465174</td>\n",
       "      <td>0.725556</td>\n",
       "      <td>0.535883</td>\n",
       "      <td>...</td>\n",
       "      <td>0.365710</td>\n",
       "      <td>0.149984</td>\n",
       "      <td>0.004476</td>\n",
       "      <td>0.173390</td>\n",
       "      <td>0.129058</td>\n",
       "      <td>0.013132</td>\n",
       "      <td>0.334915</td>\n",
       "      <td>0.099908</td>\n",
       "      <td>0.016988</td>\n",
       "      <td>0.013753</td>\n",
       "    </tr>\n",
       "    <tr>\n",
       "      <th>std</th>\n",
       "      <td>0.194563</td>\n",
       "      <td>0.301397</td>\n",
       "      <td>0.387442</td>\n",
       "      <td>0.349376</td>\n",
       "      <td>0.275485</td>\n",
       "      <td>0.310445</td>\n",
       "      <td>0.343296</td>\n",
       "      <td>0.181401</td>\n",
       "      <td>0.326874</td>\n",
       "      <td>0.225445</td>\n",
       "      <td>...</td>\n",
       "      <td>0.481635</td>\n",
       "      <td>0.357060</td>\n",
       "      <td>0.066756</td>\n",
       "      <td>0.378589</td>\n",
       "      <td>0.335269</td>\n",
       "      <td>0.113843</td>\n",
       "      <td>0.471967</td>\n",
       "      <td>0.299882</td>\n",
       "      <td>0.129230</td>\n",
       "      <td>0.116464</td>\n",
       "    </tr>\n",
       "    <tr>\n",
       "      <th>min</th>\n",
       "      <td>0.000000</td>\n",
       "      <td>0.000000</td>\n",
       "      <td>0.000000</td>\n",
       "      <td>0.000000</td>\n",
       "      <td>0.000000</td>\n",
       "      <td>0.000000</td>\n",
       "      <td>0.000000</td>\n",
       "      <td>0.000000</td>\n",
       "      <td>0.000000</td>\n",
       "      <td>0.000000</td>\n",
       "      <td>...</td>\n",
       "      <td>0.000000</td>\n",
       "      <td>0.000000</td>\n",
       "      <td>0.000000</td>\n",
       "      <td>0.000000</td>\n",
       "      <td>0.000000</td>\n",
       "      <td>0.000000</td>\n",
       "      <td>0.000000</td>\n",
       "      <td>0.000000</td>\n",
       "      <td>0.000000</td>\n",
       "      <td>0.000000</td>\n",
       "    </tr>\n",
       "    <tr>\n",
       "      <th>25%</th>\n",
       "      <td>0.288462</td>\n",
       "      <td>0.500000</td>\n",
       "      <td>0.333333</td>\n",
       "      <td>0.250000</td>\n",
       "      <td>0.158140</td>\n",
       "      <td>0.000000</td>\n",
       "      <td>0.000000</td>\n",
       "      <td>0.500000</td>\n",
       "      <td>0.333333</td>\n",
       "      <td>0.340608</td>\n",
       "      <td>...</td>\n",
       "      <td>0.000000</td>\n",
       "      <td>0.000000</td>\n",
       "      <td>0.000000</td>\n",
       "      <td>0.000000</td>\n",
       "      <td>0.000000</td>\n",
       "      <td>0.000000</td>\n",
       "      <td>0.000000</td>\n",
       "      <td>0.000000</td>\n",
       "      <td>0.000000</td>\n",
       "      <td>0.000000</td>\n",
       "    </tr>\n",
       "    <tr>\n",
       "      <th>50%</th>\n",
       "      <td>0.403846</td>\n",
       "      <td>0.500000</td>\n",
       "      <td>0.333333</td>\n",
       "      <td>0.500000</td>\n",
       "      <td>0.279070</td>\n",
       "      <td>0.200000</td>\n",
       "      <td>0.000000</td>\n",
       "      <td>0.500000</td>\n",
       "      <td>0.937500</td>\n",
       "      <td>0.603274</td>\n",
       "      <td>...</td>\n",
       "      <td>0.000000</td>\n",
       "      <td>0.000000</td>\n",
       "      <td>0.000000</td>\n",
       "      <td>0.000000</td>\n",
       "      <td>0.000000</td>\n",
       "      <td>0.000000</td>\n",
       "      <td>0.000000</td>\n",
       "      <td>0.000000</td>\n",
       "      <td>0.000000</td>\n",
       "      <td>0.000000</td>\n",
       "    </tr>\n",
       "    <tr>\n",
       "      <th>75%</th>\n",
       "      <td>0.576923</td>\n",
       "      <td>1.000000</td>\n",
       "      <td>1.000000</td>\n",
       "      <td>0.750000</td>\n",
       "      <td>0.494961</td>\n",
       "      <td>0.400000</td>\n",
       "      <td>0.000000</td>\n",
       "      <td>0.500000</td>\n",
       "      <td>1.000000</td>\n",
       "      <td>0.698753</td>\n",
       "      <td>...</td>\n",
       "      <td>1.000000</td>\n",
       "      <td>0.000000</td>\n",
       "      <td>0.000000</td>\n",
       "      <td>0.000000</td>\n",
       "      <td>0.000000</td>\n",
       "      <td>0.000000</td>\n",
       "      <td>1.000000</td>\n",
       "      <td>0.000000</td>\n",
       "      <td>0.000000</td>\n",
       "      <td>0.000000</td>\n",
       "    </tr>\n",
       "    <tr>\n",
       "      <th>max</th>\n",
       "      <td>1.000000</td>\n",
       "      <td>1.000000</td>\n",
       "      <td>1.000000</td>\n",
       "      <td>1.000000</td>\n",
       "      <td>1.000000</td>\n",
       "      <td>1.000000</td>\n",
       "      <td>1.000000</td>\n",
       "      <td>1.000000</td>\n",
       "      <td>1.000000</td>\n",
       "      <td>1.000000</td>\n",
       "      <td>...</td>\n",
       "      <td>1.000000</td>\n",
       "      <td>1.000000</td>\n",
       "      <td>1.000000</td>\n",
       "      <td>1.000000</td>\n",
       "      <td>1.000000</td>\n",
       "      <td>1.000000</td>\n",
       "      <td>1.000000</td>\n",
       "      <td>1.000000</td>\n",
       "      <td>1.000000</td>\n",
       "      <td>1.000000</td>\n",
       "    </tr>\n",
       "  </tbody>\n",
       "</table>\n",
       "<p>8 rows × 41 columns</p>\n",
       "</div>"
      ],
      "text/plain": [
       "                age       marital   Region_Code   day_of_week      duration  \\\n",
       "count  37084.000000  37084.000000  37084.000000  37084.000000  37084.000000   \n",
       "mean       0.441352      0.584794      0.524215      0.501409      0.364472   \n",
       "std        0.194563      0.301397      0.387442      0.349376      0.275485   \n",
       "min        0.000000      0.000000      0.000000      0.000000      0.000000   \n",
       "25%        0.288462      0.500000      0.333333      0.250000      0.158140   \n",
       "50%        0.403846      0.500000      0.333333      0.500000      0.279070   \n",
       "75%        0.576923      1.000000      1.000000      0.750000      0.494961   \n",
       "max        1.000000      1.000000      1.000000      1.000000      1.000000   \n",
       "\n",
       "           campaign      previous      poutcome  emp.var.rate  cons.price.idx  \\\n",
       "count  37084.000000  37084.000000  37084.000000  37084.000000    37084.000000   \n",
       "mean       0.255242      0.136474      0.465174      0.725556        0.535883   \n",
       "std        0.310445      0.343296      0.181401      0.326874        0.225445   \n",
       "min        0.000000      0.000000      0.000000      0.000000        0.000000   \n",
       "25%        0.000000      0.000000      0.500000      0.333333        0.340608   \n",
       "50%        0.200000      0.000000      0.500000      0.937500        0.603274   \n",
       "75%        0.400000      0.000000      0.500000      1.000000        0.698753   \n",
       "max        1.000000      1.000000      1.000000      1.000000        1.000000   \n",
       "\n",
       "       ...  contact_telephone     month_aug     month_dec     month_jul  \\\n",
       "count  ...       37084.000000  37084.000000  37084.000000  37084.000000   \n",
       "mean   ...           0.365710      0.149984      0.004476      0.173390   \n",
       "std    ...           0.481635      0.357060      0.066756      0.378589   \n",
       "min    ...           0.000000      0.000000      0.000000      0.000000   \n",
       "25%    ...           0.000000      0.000000      0.000000      0.000000   \n",
       "50%    ...           0.000000      0.000000      0.000000      0.000000   \n",
       "75%    ...           1.000000      0.000000      0.000000      0.000000   \n",
       "max    ...           1.000000      1.000000      1.000000      1.000000   \n",
       "\n",
       "          month_jun     month_mar     month_may     month_nov     month_oct  \\\n",
       "count  37084.000000  37084.000000  37084.000000  37084.000000  37084.000000   \n",
       "mean       0.129058      0.013132      0.334915      0.099908      0.016988   \n",
       "std        0.335269      0.113843      0.471967      0.299882      0.129230   \n",
       "min        0.000000      0.000000      0.000000      0.000000      0.000000   \n",
       "25%        0.000000      0.000000      0.000000      0.000000      0.000000   \n",
       "50%        0.000000      0.000000      0.000000      0.000000      0.000000   \n",
       "75%        0.000000      0.000000      1.000000      0.000000      0.000000   \n",
       "max        1.000000      1.000000      1.000000      1.000000      1.000000   \n",
       "\n",
       "          month_sep  \n",
       "count  37084.000000  \n",
       "mean       0.013753  \n",
       "std        0.116464  \n",
       "min        0.000000  \n",
       "25%        0.000000  \n",
       "50%        0.000000  \n",
       "75%        0.000000  \n",
       "max        1.000000  \n",
       "\n",
       "[8 rows x 41 columns]"
      ]
     },
     "execution_count": 84,
     "metadata": {},
     "output_type": "execute_result"
    }
   ],
   "source": [
    "x.describe()"
   ]
  },
  {
   "cell_type": "markdown",
   "id": "c61210c1",
   "metadata": {},
   "source": [
    "#### This is our normalised independent variables."
   ]
  },
  {
   "cell_type": "code",
   "execution_count": 85,
   "id": "dfd04efd",
   "metadata": {},
   "outputs": [],
   "source": [
    "#creating new dataframe to store independent and target variable for further feature engineering \n",
    "x2= pd.concat([x1,y],axis=1)"
   ]
  },
  {
   "cell_type": "markdown",
   "id": "caa41cfa",
   "metadata": {},
   "source": [
    "# Q5) b) Feature Engineering"
   ]
  },
  {
   "cell_type": "code",
   "execution_count": 86,
   "id": "720c1730",
   "metadata": {},
   "outputs": [
    {
     "name": "stdout",
     "output_type": "stream",
     "text": [
      "                                    age   marital  Region_Code  day_of_week  \\\n",
      "age                            1.000000 -0.396276    -0.005378    -0.017712   \n",
      "marital                       -0.396276  1.000000     0.004066     0.003571   \n",
      "Region_Code                   -0.005378  0.004066     1.000000     0.003043   \n",
      "day_of_week                   -0.017712  0.003571     0.003043     1.000000   \n",
      "duration                      -0.000084  0.007880     0.003880     0.028739   \n",
      "campaign                       0.003072 -0.011127    -0.007438    -0.053103   \n",
      "previous                       0.007992  0.033584    -0.004877    -0.009810   \n",
      "poutcome                       0.020906  0.003212     0.007875     0.018539   \n",
      "emp.var.rate                   0.013728 -0.084428    -0.004010     0.033505   \n",
      "cons.price.idx                 0.009110 -0.057969     0.002228     0.004927   \n",
      "cons.conf.idx                  0.126078 -0.034780    -0.002281     0.043685   \n",
      "euribor3m                      0.025457 -0.092028    -0.004104     0.039219   \n",
      "nr.employed                   -0.001167 -0.086678    -0.007450     0.028703   \n",
      "job_blue-collar               -0.022604 -0.039988     0.002821     0.010243   \n",
      "job_entrepreneur               0.034102 -0.049937     0.011492    -0.007987   \n",
      "job_housemaid                  0.088638 -0.057159    -0.005250     0.006630   \n",
      "job_management                 0.068945 -0.049817    -0.007860     0.000386   \n",
      "job_retired                    0.418987 -0.109994    -0.005303     0.005593   \n",
      "job_self-employed              0.000561  0.002603     0.001821    -0.011242   \n",
      "job_services                  -0.064632 -0.010424     0.006455    -0.004461   \n",
      "job_student                   -0.201492  0.183859     0.018548     0.001312   \n",
      "job_technician                -0.062161  0.040974    -0.008196     0.001436   \n",
      "job_unemployed                -0.004154 -0.011436    -0.000401    -0.002377   \n",
      "education_basic.6y             0.009477 -0.039857     0.000841     0.010691   \n",
      "education_basic.9y            -0.044085 -0.025894     0.003947     0.000725   \n",
      "education_high.school         -0.116631  0.039844     0.005064    -0.004973   \n",
      "education_illiterate           0.018841 -0.005845    -0.004650    -0.001942   \n",
      "education_professional.course  0.003939 -0.015649    -0.001860     0.002960   \n",
      "education_university.degree   -0.038990  0.080469    -0.005028    -0.011820   \n",
      "housing_yes                   -0.002918  0.014455     0.003249     0.003199   \n",
      "loan_yes                      -0.007918  0.003532    -0.002862    -0.009123   \n",
      "contact_telephone              0.011957 -0.056469    -0.001360    -0.007950   \n",
      "month_aug                      0.066394 -0.005419    -0.011634     0.022192   \n",
      "month_dec                      0.042013 -0.000772    -0.008362    -0.000849   \n",
      "month_jul                     -0.040747  0.018971     0.004344     0.037807   \n",
      "month_jun                     -0.005289 -0.013697    -0.001500    -0.033956   \n",
      "month_mar                      0.002486  0.032777    -0.000179    -0.008262   \n",
      "month_may                     -0.069114 -0.005619    -0.003159     0.010139   \n",
      "month_nov                      0.032709 -0.027199     0.006061     0.012426   \n",
      "month_oct                      0.047754  0.017710     0.010634    -0.001874   \n",
      "month_sep                      0.032895  0.015177    -0.004193     0.003997   \n",
      "y_yes                          0.021404  0.047585     0.010629     0.015714   \n",
      "\n",
      "                               duration  campaign  previous  poutcome  \\\n",
      "age                           -0.000084  0.003072  0.007992  0.020906   \n",
      "marital                        0.007880 -0.011127  0.033584  0.003212   \n",
      "Region_Code                    0.003880 -0.007438 -0.004877  0.007875   \n",
      "day_of_week                    0.028739 -0.053103 -0.009810  0.018539   \n",
      "duration                       1.000000 -0.080822  0.026254  0.037982   \n",
      "campaign                      -0.080822  1.000000 -0.091187  0.028513   \n",
      "previous                       0.026254 -0.091187  1.000000 -0.482932   \n",
      "poutcome                       0.037982  0.028513 -0.482932  1.000000   \n",
      "emp.var.rate                  -0.047195  0.148141 -0.471702  0.190778   \n",
      "cons.price.idx                 0.001202  0.114284 -0.302776  0.209275   \n",
      "cons.conf.idx                 -0.006945 -0.016794 -0.099623  0.177970   \n",
      "euribor3m                     -0.054496  0.128899 -0.487205  0.181836   \n",
      "nr.employed                   -0.071028  0.141698 -0.492463  0.118253   \n",
      "job_blue-collar                0.014473 -0.001600 -0.044092 -0.020692   \n",
      "job_entrepreneur              -0.001565 -0.003818 -0.007085 -0.010805   \n",
      "job_housemaid                 -0.005804  0.008001 -0.016680  0.018447   \n",
      "job_management                -0.000559 -0.010773  0.006149 -0.005878   \n",
      "job_retired                    0.016016 -0.014203  0.056316  0.018407   \n",
      "job_self-employed             -0.002181  0.009012 -0.007387 -0.007390   \n",
      "job_services                   0.004871  0.005923 -0.006697 -0.022225   \n",
      "job_student                    0.021202 -0.024151  0.079105  0.013278   \n",
      "job_technician                -0.018092  0.006640 -0.018041  0.007863   \n",
      "job_unemployed                -0.003337 -0.006182  0.007939  0.017362   \n",
      "education_basic.6y             0.003929  0.004471 -0.016083 -0.006321   \n",
      "education_basic.9y             0.005188 -0.005339 -0.016089 -0.018378   \n",
      "education_high.school          0.009295  0.001174  0.020802 -0.022842   \n",
      "education_illiterate          -0.001018 -0.000351 -0.000694  0.003989   \n",
      "education_professional.course -0.011730  0.005778 -0.004163  0.007692   \n",
      "education_university.degree   -0.014296  0.001233  0.012290  0.022278   \n",
      "housing_yes                   -0.010406 -0.012958  0.028650 -0.012993   \n",
      "loan_yes                      -0.006472  0.012572 -0.001498 -0.000846   \n",
      "contact_telephone             -0.034458  0.069220 -0.242498  0.116767   \n",
      "month_aug                     -0.055631  0.029228 -0.075694  0.072527   \n",
      "month_dec                      0.027010 -0.007768  0.065125  0.015101   \n",
      "month_jul                      0.025281  0.091500 -0.139332  0.085181   \n",
      "month_jun                     -0.029685  0.051665 -0.086728  0.069249   \n",
      "month_mar                     -0.001553 -0.018391  0.061781  0.010395   \n",
      "month_may                      0.022736 -0.012056  0.016975 -0.080304   \n",
      "month_nov                     -0.024057 -0.086340  0.105396 -0.087726   \n",
      "month_oct                      0.013001 -0.061976  0.108818  0.010860   \n",
      "month_sep                      0.021648 -0.040554  0.129093  0.023309   \n",
      "y_yes                          0.404526 -0.070182  0.195336  0.131257   \n",
      "\n",
      "                               emp.var.rate  cons.price.idx  ...  month_aug  \\\n",
      "age                                0.013728        0.009110  ...   0.066394   \n",
      "marital                           -0.084428       -0.057969  ...  -0.005419   \n",
      "Region_Code                       -0.004010        0.002228  ...  -0.011634   \n",
      "day_of_week                        0.033505        0.004927  ...   0.022192   \n",
      "duration                          -0.047195        0.001202  ...  -0.055631   \n",
      "campaign                           0.148141        0.114284  ...   0.029228   \n",
      "previous                          -0.471702       -0.302776  ...  -0.075694   \n",
      "poutcome                           0.190778        0.209275  ...   0.072527   \n",
      "emp.var.rate                       1.000000        0.774727  ...   0.178716   \n",
      "cons.price.idx                     0.774727        1.000000  ...  -0.192522   \n",
      "cons.conf.idx                      0.199778        0.062526  ...   0.446093   \n",
      "euribor3m                          0.972243        0.687433  ...   0.165377   \n",
      "nr.employed                        0.906857        0.521010  ...   0.194235   \n",
      "job_blue-collar                    0.057651        0.076629  ...  -0.132019   \n",
      "job_entrepreneur                   0.007617        0.008919  ...  -0.053339   \n",
      "job_housemaid                      0.037649        0.030665  ...   0.021245   \n",
      "job_management                    -0.017407       -0.024870  ...  -0.023658   \n",
      "job_retired                       -0.105983       -0.051380  ...   0.025528   \n",
      "job_self-employed                  0.003509       -0.002810  ...   0.001086   \n",
      "job_services                       0.019107        0.032835  ...  -0.072412   \n",
      "job_student                       -0.138129       -0.060779  ...  -0.007980   \n",
      "job_technician                     0.055703       -0.010631  ...   0.142016   \n",
      "job_unemployed                    -0.017200       -0.001320  ...  -0.012463   \n",
      "education_basic.6y                 0.022360        0.031326  ...  -0.061155   \n",
      "education_basic.9y                 0.017410        0.032148  ...  -0.101143   \n",
      "education_high.school             -0.019435        0.010727  ...  -0.073850   \n",
      "education_illiterate              -0.000598       -0.006523  ...   0.005820   \n",
      "education_professional.course      0.023519       -0.002258  ...   0.072609   \n",
      "education_university.degree       -0.033011       -0.074792  ...   0.137871   \n",
      "housing_yes                       -0.060884       -0.078743  ...   0.025049   \n",
      "loan_yes                           0.000903       -0.006193  ...  -0.002746   \n",
      "contact_telephone                  0.394698        0.593255  ...  -0.280854   \n",
      "month_aug                          0.178716       -0.192522  ...   1.000000   \n",
      "month_dec                         -0.125260       -0.099774  ...  -0.028167   \n",
      "month_jul                          0.313033        0.251938  ...  -0.192385   \n",
      "month_jun                          0.151497        0.448308  ...  -0.161699   \n",
      "month_mar                         -0.138420       -0.095354  ...  -0.048456   \n",
      "month_may                         -0.112261       -0.057500  ...  -0.298083   \n",
      "month_nov                         -0.106263       -0.215342  ...  -0.139948   \n",
      "month_oct                         -0.210319       -0.091390  ...  -0.055221   \n",
      "month_sep                         -0.169115       -0.044760  ...  -0.049603   \n",
      "y_yes                             -0.300251       -0.136254  ...  -0.010032   \n",
      "\n",
      "                               month_dec  month_jul  month_jun  month_mar  \\\n",
      "age                             0.042013  -0.040747  -0.005289   0.002486   \n",
      "marital                        -0.000772   0.018971  -0.013697   0.032777   \n",
      "Region_Code                    -0.008362   0.004344  -0.001500  -0.000179   \n",
      "day_of_week                    -0.000849   0.037807  -0.033956  -0.008262   \n",
      "duration                        0.027010   0.025281  -0.029685  -0.001553   \n",
      "campaign                       -0.007768   0.091500   0.051665  -0.018391   \n",
      "previous                        0.065125  -0.139332  -0.086728   0.061781   \n",
      "poutcome                        0.015101   0.085181   0.069249   0.010395   \n",
      "emp.var.rate                   -0.125260   0.313033   0.151497  -0.138420   \n",
      "cons.price.idx                 -0.099774   0.251938   0.448308  -0.095354   \n",
      "cons.conf.idx                   0.098738  -0.184198  -0.089655  -0.053134   \n",
      "euribor3m                      -0.106661   0.279945   0.143107  -0.163624   \n",
      "nr.employed                    -0.125643   0.297008   0.164222  -0.178584   \n",
      "job_blue-collar                -0.023625   0.024641   0.031835  -0.035621   \n",
      "job_entrepreneur               -0.010638   0.005802   0.012667  -0.019499   \n",
      "job_housemaid                   0.008927   0.019508   0.001548  -0.010302   \n",
      "job_management                  0.000308  -0.026392  -0.005423   0.000341   \n",
      "job_retired                     0.046294  -0.007329  -0.014204   0.041877   \n",
      "job_self-employed              -0.001577  -0.009865   0.007643   0.008113   \n",
      "job_services                   -0.019060   0.019613   0.008267  -0.018186   \n",
      "job_student                     0.038506  -0.021015  -0.007905   0.044817   \n",
      "job_technician                 -0.006893  -0.018352  -0.024487   0.006916   \n",
      "job_unemployed                  0.012587  -0.003373   0.016824   0.004333   \n",
      "education_basic.6y             -0.016321   0.010660   0.013418  -0.018799   \n",
      "education_basic.9y             -0.010711   0.016372   0.009745  -0.021107   \n",
      "education_high.school          -0.002400   0.035584   0.004208  -0.016668   \n",
      "education_illiterate           -0.001393   0.007634  -0.007998  -0.002397   \n",
      "education_professional.course  -0.002714  -0.019810  -0.008791   0.007568   \n",
      "education_university.degree     0.016372  -0.036354  -0.024587   0.033138   \n",
      "housing_yes                     0.007356  -0.002779  -0.053623   0.012953   \n",
      "loan_yes                        0.006467   0.016245  -0.007619  -0.005329   \n",
      "contact_telephone              -0.024916  -0.204608   0.385886  -0.061526   \n",
      "month_aug                      -0.028167  -0.192385  -0.161699  -0.048456   \n",
      "month_dec                       1.000000  -0.030711  -0.025813  -0.007735   \n",
      "month_jul                      -0.030711   1.000000  -0.176303  -0.052833   \n",
      "month_jun                      -0.025813  -0.176303   1.000000  -0.044406   \n",
      "month_mar                      -0.007735  -0.052833  -0.044406   1.000000   \n",
      "month_may                      -0.047584  -0.325006  -0.273167  -0.081860   \n",
      "month_nov                      -0.022340  -0.152588  -0.128250  -0.038433   \n",
      "month_oct                      -0.008815  -0.060209  -0.050605  -0.015165   \n",
      "month_sep                      -0.007918  -0.054083  -0.045457  -0.013622   \n",
      "y_yes                           0.080446  -0.031132  -0.008895   0.142450   \n",
      "\n",
      "                               month_may  month_nov  month_oct  month_sep  \\\n",
      "age                            -0.069114   0.032709   0.047754   0.032895   \n",
      "marital                        -0.005619  -0.027199   0.017710   0.015177   \n",
      "Region_Code                    -0.003159   0.006061   0.010634  -0.004193   \n",
      "day_of_week                     0.010139   0.012426  -0.001874   0.003997   \n",
      "duration                        0.022736  -0.024057   0.013001   0.021648   \n",
      "campaign                       -0.012056  -0.086340  -0.061976  -0.040554   \n",
      "previous                        0.016975   0.105396   0.108818   0.129093   \n",
      "poutcome                       -0.080304  -0.087726   0.010860   0.023309   \n",
      "emp.var.rate                   -0.112261  -0.106263  -0.210319  -0.169115   \n",
      "cons.price.idx                 -0.057500  -0.215342  -0.091390  -0.044760   \n",
      "cons.conf.idx                  -0.011151  -0.053635   0.168993   0.167813   \n",
      "euribor3m                      -0.134618   0.019431  -0.181531  -0.189741   \n",
      "nr.employed                    -0.173036   0.027219  -0.267284  -0.291989   \n",
      "job_blue-collar                 0.140726  -0.065133  -0.048482  -0.053759   \n",
      "job_entrepreneur                0.000494   0.051274  -0.008185  -0.008786   \n",
      "job_housemaid                  -0.019805  -0.011714   0.005388  -0.002338   \n",
      "job_management                 -0.014711   0.084862  -0.000648   0.005166   \n",
      "job_retired                    -0.065387  -0.012967   0.088829   0.065186   \n",
      "job_self-employed              -0.014529   0.024922  -0.005355  -0.003237   \n",
      "job_services                    0.059262  -0.019988  -0.023597  -0.017147   \n",
      "job_student                    -0.021229  -0.016826   0.049806   0.052796   \n",
      "job_technician                 -0.060189  -0.007987  -0.001527  -0.003096   \n",
      "job_unemployed                 -0.024472   0.027438   0.011086   0.022684   \n",
      "education_basic.6y              0.061513  -0.024737  -0.012018  -0.014634   \n",
      "education_basic.9y              0.090119  -0.019127  -0.028029  -0.030036   \n",
      "education_high.school           0.036535  -0.013362   0.001457  -0.008398   \n",
      "education_illiterate           -0.006489   0.001738  -0.002731  -0.002453   \n",
      "education_professional.course  -0.033609   0.002109   0.002107   0.007437   \n",
      "education_university.degree    -0.117328   0.058828   0.014260   0.027706   \n",
      "housing_yes                    -0.020526   0.030057   0.007077   0.006335   \n",
      "loan_yes                       -0.000041  -0.003902  -0.009199  -0.002952   \n",
      "contact_telephone               0.342589  -0.182216  -0.036132  -0.053128   \n",
      "month_aug                      -0.298083  -0.139948  -0.055221  -0.049603   \n",
      "month_dec                      -0.047584  -0.022340  -0.008815  -0.007918   \n",
      "month_jul                      -0.325006  -0.152588  -0.060209  -0.054083   \n",
      "month_jun                      -0.273167  -0.128250  -0.050605  -0.045457   \n",
      "month_mar                      -0.081860  -0.038433  -0.015165  -0.013622   \n",
      "month_may                       1.000000  -0.236421  -0.093288  -0.083797   \n",
      "month_nov                      -0.236421   1.000000  -0.043798  -0.039342   \n",
      "month_oct                      -0.093288  -0.043798   1.000000  -0.015524   \n",
      "month_sep                      -0.083797  -0.039342  -0.015524   1.000000   \n",
      "y_yes                          -0.107423  -0.012309   0.136525   0.123469   \n",
      "\n",
      "                                  y_yes  \n",
      "age                            0.021404  \n",
      "marital                        0.047585  \n",
      "Region_Code                    0.010629  \n",
      "day_of_week                    0.015714  \n",
      "duration                       0.404526  \n",
      "campaign                      -0.070182  \n",
      "previous                       0.195336  \n",
      "poutcome                       0.131257  \n",
      "emp.var.rate                  -0.300251  \n",
      "cons.price.idx                -0.136254  \n",
      "cons.conf.idx                  0.054539  \n",
      "euribor3m                     -0.309777  \n",
      "nr.employed                   -0.356735  \n",
      "job_blue-collar               -0.075508  \n",
      "job_entrepreneur              -0.017294  \n",
      "job_housemaid                 -0.008673  \n",
      "job_management                -0.002390  \n",
      "job_retired                    0.095210  \n",
      "job_self-employed             -0.006432  \n",
      "job_services                  -0.030205  \n",
      "job_student                    0.091381  \n",
      "job_technician                -0.007966  \n",
      "job_unemployed                 0.015831  \n",
      "education_basic.6y            -0.023807  \n",
      "education_basic.9y            -0.044477  \n",
      "education_high.school          0.000185  \n",
      "education_illiterate           0.000755  \n",
      "education_professional.course  0.000626  \n",
      "education_university.degree    0.044432  \n",
      "housing_yes                    0.011072  \n",
      "loan_yes                      -0.005231  \n",
      "contact_telephone             -0.145265  \n",
      "month_aug                     -0.010032  \n",
      "month_dec                      0.080446  \n",
      "month_jul                     -0.031132  \n",
      "month_jun                     -0.008895  \n",
      "month_mar                      0.142450  \n",
      "month_may                     -0.107423  \n",
      "month_nov                     -0.012309  \n",
      "month_oct                      0.136525  \n",
      "month_sep                      0.123469  \n",
      "y_yes                          1.000000  \n",
      "\n",
      "[42 rows x 42 columns]\n"
     ]
    },
    {
     "data": {
      "image/png": "[encoded data removed]",
      "text/plain": [
       "<Figure size 1296x864 with 2 Axes>"
      ]
     },
     "metadata": {
      "needs_background": "light"
     },
     "output_type": "display_data"
    }
   ],
   "source": [
    "corr = x2.corr()\n",
    "print(corr)\n",
    "mask = np.zeros_like(corr, dtype=np.bool)\n",
    "mask[np.triu_indices_from(mask)] = True\n",
    "fig, ax = plt.subplots(figsize=(18,12))\n",
    "\n",
    "pl = sns.heatmap(corr, mask=mask, cmap='coolwarm', vmax=1.0, vmin=-1.0, center=0, square=True, linewidths=0.5)\n",
    "plt.show()"
   ]
  },
  {
   "cell_type": "markdown",
   "id": "0a38c1ba",
   "metadata": {},
   "source": [
    "### Inferences: \n",
    "##### From the above heat map we can see that 'y_yes' (our target variable) has good correlation with 'duration', 'previous', 'emp.var.rate', 'euribor3m', 'nr.employed', 'poutcome_success'  and 'poutcome_nonexistent'. We expect to see these independent variables as significant while building the models."
   ]
  },
  {
   "cell_type": "code",
   "execution_count": 87,
   "id": "c945b565",
   "metadata": {},
   "outputs": [
    {
     "data": {
      "text/plain": [
       "0.9722430909064391"
      ]
     },
     "execution_count": 87,
     "metadata": {},
     "output_type": "execute_result"
    }
   ],
   "source": [
    "x2['euribor3m'].corr(x2['emp.var.rate'])"
   ]
  },
  {
   "cell_type": "code",
   "execution_count": 88,
   "id": "a13811c0",
   "metadata": {},
   "outputs": [
    {
     "data": {
      "text/plain": [
       "-0.30977737548021594"
      ]
     },
     "execution_count": 88,
     "metadata": {},
     "output_type": "execute_result"
    }
   ],
   "source": [
    "x2['euribor3m'].corr(x2['y_yes'])"
   ]
  },
  {
   "cell_type": "code",
   "execution_count": 89,
   "id": "857f07c1",
   "metadata": {},
   "outputs": [
    {
     "data": {
      "text/plain": [
       "-0.30025100749858175"
      ]
     },
     "execution_count": 89,
     "metadata": {},
     "output_type": "execute_result"
    }
   ],
   "source": [
    "x2['y_yes'].corr(x2['emp.var.rate'])"
   ]
  },
  {
   "cell_type": "markdown",
   "id": "c1108fb1",
   "metadata": {},
   "source": [
    "##### We see that euribor3m and emp.var.rate are very highly correlated. To avoid error based on multicollinearity, we need to drop one of these columns. To determine which column to drop, we check each of its correlation with the target variable y_yes. Since emp.var.rate has lower correlation with the target variable, we shall drop it."
   ]
  },
  {
   "cell_type": "code",
   "execution_count": 90,
   "id": "3debcc3e",
   "metadata": {},
   "outputs": [
    {
     "name": "stdout",
     "output_type": "stream",
     "text": [
      "<class 'pandas.core.frame.DataFrame'>\n",
      "Int64Index: 37084 entries, 0 to 37083\n",
      "Data columns (total 41 columns):\n",
      " #   Column                         Non-Null Count  Dtype  \n",
      "---  ------                         --------------  -----  \n",
      " 0   age                            37084 non-null  int64  \n",
      " 1   marital                        37084 non-null  int32  \n",
      " 2   Region_Code                    37084 non-null  int32  \n",
      " 3   day_of_week                    37084 non-null  int32  \n",
      " 4   duration                       37084 non-null  int64  \n",
      " 5   campaign                       37084 non-null  int64  \n",
      " 6   previous                       37084 non-null  int64  \n",
      " 7   poutcome                       37084 non-null  int32  \n",
      " 8   cons.price.idx                 37084 non-null  float64\n",
      " 9   cons.conf.idx                  37084 non-null  float64\n",
      " 10  euribor3m                      37084 non-null  float64\n",
      " 11  nr.employed                    37084 non-null  float64\n",
      " 12  job_blue-collar                37084 non-null  uint8  \n",
      " 13  job_entrepreneur               37084 non-null  uint8  \n",
      " 14  job_housemaid                  37084 non-null  uint8  \n",
      " 15  job_management                 37084 non-null  uint8  \n",
      " 16  job_retired                    37084 non-null  uint8  \n",
      " 17  job_self-employed              37084 non-null  uint8  \n",
      " 18  job_services                   37084 non-null  uint8  \n",
      " 19  job_student                    37084 non-null  uint8  \n",
      " 20  job_technician                 37084 non-null  uint8  \n",
      " 21  job_unemployed                 37084 non-null  uint8  \n",
      " 22  education_basic.6y             37084 non-null  uint8  \n",
      " 23  education_basic.9y             37084 non-null  uint8  \n",
      " 24  education_high.school          37084 non-null  uint8  \n",
      " 25  education_illiterate           37084 non-null  uint8  \n",
      " 26  education_professional.course  37084 non-null  uint8  \n",
      " 27  education_university.degree    37084 non-null  uint8  \n",
      " 28  housing_yes                    37084 non-null  uint8  \n",
      " 29  loan_yes                       37084 non-null  uint8  \n",
      " 30  contact_telephone              37084 non-null  uint8  \n",
      " 31  month_aug                      37084 non-null  uint8  \n",
      " 32  month_dec                      37084 non-null  uint8  \n",
      " 33  month_jul                      37084 non-null  uint8  \n",
      " 34  month_jun                      37084 non-null  uint8  \n",
      " 35  month_mar                      37084 non-null  uint8  \n",
      " 36  month_may                      37084 non-null  uint8  \n",
      " 37  month_nov                      37084 non-null  uint8  \n",
      " 38  month_oct                      37084 non-null  uint8  \n",
      " 39  month_sep                      37084 non-null  uint8  \n",
      " 40  y_yes                          37084 non-null  uint8  \n",
      "dtypes: float64(4), int32(4), int64(4), uint8(29)\n",
      "memory usage: 4.1 MB\n"
     ]
    }
   ],
   "source": [
    "x2.drop('emp.var.rate', axis=1, inplace=True)\n",
    "x2.info()"
   ]
  },
  {
   "cell_type": "markdown",
   "id": "2536d3c8",
   "metadata": {},
   "source": [
    "#### This pre-processed dataframe is ready for machine learning."
   ]
  },
  {
   "cell_type": "code",
   "execution_count": 92,
   "id": "81b5b9d6",
   "metadata": {},
   "outputs": [],
   "source": [
    "x2.to_csv('data.csv')"
   ]
  },
  {
   "cell_type": "markdown",
   "id": "a2f24349",
   "metadata": {},
   "source": [
    "### Team members:\n",
    "##### Aman kumar singh, Anjum Shagufta Azad, Anwesha Patnaik, Sirla Bapuji and Sidhi Agarwal"
   ]
  },
  {
   "cell_type": "code",
   "execution_count": null,
   "id": "cc9c7cb9",
   "metadata": {},
   "outputs": [],
   "source": []
  }
 ],
 "metadata": {
  "kernelspec": {
   "display_name": "Python 3 (ipykernel)",
   "language": "python",
   "name": "python3"
  },
  "language_info": {
   "codemirror_mode": {
    "name": "ipython",
    "version": 3
   },
   "file_extension": ".py",
   "mimetype": "text/x-python",
   "name": "python",
   "nbconvert_exporter": "python",
   "pygments_lexer": "ipython3",
   "version": "3.9.7"
  }
 },
 "nbformat": 4,
 "nbformat_minor": 5
}
