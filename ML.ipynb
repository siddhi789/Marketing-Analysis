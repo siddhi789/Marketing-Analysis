{
 "cells": [
  {
   "cell_type": "markdown",
   "id": "87c3b4f9",
   "metadata": {},
   "source": [
    "# TASK 2.4 (Model building using ML algorithms)\n",
    "## Marketing for Financial Services"
   ]
  },
  {
   "cell_type": "markdown",
   "id": "556bed81",
   "metadata": {},
   "source": [
    "## Batch C Group 1\n",
    "\n",
    "### Aman Kumar Singh"
   ]
  },
  {
   "cell_type": "code",
   "execution_count": 1,
   "id": "b7319dd7",
   "metadata": {},
   "outputs": [],
   "source": [
    "import warnings\n",
    "warnings.filterwarnings(\"ignore\")\n",
    "import pandas as pd\n",
    "import numpy as np\n",
    "import seaborn as sns\n",
    "import matplotlib.pyplot as plt\n",
    "%matplotlib inline\n",
    "from sklearn import preprocessing\n",
    "from sklearn.preprocessing import StandardScaler\n",
    "from sklearn.linear_model import LogisticRegression\n",
    "from sklearn.model_selection import train_test_split, GridSearchCV\n",
    "from sklearn.metrics import accuracy_score, precision_score, recall_score, f1_score, confusion_matrix, roc_auc_score, roc_curve\n",
    "from sklearn import metrics\n",
    "from sklearn.model_selection import GridSearchCV, KFold, cross_val_score\n",
    "import statsmodels.api as sm"
   ]
  },
  {
   "cell_type": "markdown",
   "id": "5f2770c6",
   "metadata": {},
   "source": [
    "### Import the DataFrame obtained after performing the pre-processing(EDA)"
   ]
  },
  {
   "cell_type": "code",
   "execution_count": 2,
   "id": "1e3153ce",
   "metadata": {},
   "outputs": [],
   "source": [
    "df = pd.read_csv('data.csv')"
   ]
  },
  {
   "cell_type": "code",
   "execution_count": 3,
   "id": "8434574d",
   "metadata": {},
   "outputs": [
    {
     "data": {
      "text/html": [
       "<div>\n",
       "<style scoped>\n",
       "    .dataframe tbody tr th:only-of-type {\n",
       "        vertical-align: middle;\n",
       "    }\n",
       "\n",
       "    .dataframe tbody tr th {\n",
       "        vertical-align: top;\n",
       "    }\n",
       "\n",
       "    .dataframe thead th {\n",
       "        text-align: right;\n",
       "    }\n",
       "</style>\n",
       "<table border=\"1\" class=\"dataframe\">\n",
       "  <thead>\n",
       "    <tr style=\"text-align: right;\">\n",
       "      <th></th>\n",
       "      <th>Unnamed: 0</th>\n",
       "      <th>age</th>\n",
       "      <th>marital</th>\n",
       "      <th>Region_Code</th>\n",
       "      <th>day_of_week</th>\n",
       "      <th>duration</th>\n",
       "      <th>campaign</th>\n",
       "      <th>previous</th>\n",
       "      <th>poutcome</th>\n",
       "      <th>cons.price.idx</th>\n",
       "      <th>...</th>\n",
       "      <th>month_aug</th>\n",
       "      <th>month_dec</th>\n",
       "      <th>month_jul</th>\n",
       "      <th>month_jun</th>\n",
       "      <th>month_mar</th>\n",
       "      <th>month_may</th>\n",
       "      <th>month_nov</th>\n",
       "      <th>month_oct</th>\n",
       "      <th>month_sep</th>\n",
       "      <th>y_yes</th>\n",
       "    </tr>\n",
       "  </thead>\n",
       "  <tbody>\n",
       "    <tr>\n",
       "      <th>0</th>\n",
       "      <td>0</td>\n",
       "      <td>56</td>\n",
       "      <td>1</td>\n",
       "      <td>2</td>\n",
       "      <td>1</td>\n",
       "      <td>307</td>\n",
       "      <td>1</td>\n",
       "      <td>0</td>\n",
       "      <td>1</td>\n",
       "      <td>93.994</td>\n",
       "      <td>...</td>\n",
       "      <td>0</td>\n",
       "      <td>0</td>\n",
       "      <td>0</td>\n",
       "      <td>0</td>\n",
       "      <td>0</td>\n",
       "      <td>1</td>\n",
       "      <td>0</td>\n",
       "      <td>0</td>\n",
       "      <td>0</td>\n",
       "      <td>0</td>\n",
       "    </tr>\n",
       "  </tbody>\n",
       "</table>\n",
       "<p>1 rows × 42 columns</p>\n",
       "</div>"
      ],
      "text/plain": [
       "   Unnamed: 0  age  marital  Region_Code  day_of_week  duration  campaign  \\\n",
       "0           0   56        1            2            1       307         1   \n",
       "\n",
       "   previous  poutcome  cons.price.idx  ...  month_aug  month_dec  month_jul  \\\n",
       "0         0         1          93.994  ...          0          0          0   \n",
       "\n",
       "   month_jun  month_mar  month_may  month_nov  month_oct  month_sep  y_yes  \n",
       "0          0          0          1          0          0          0      0  \n",
       "\n",
       "[1 rows x 42 columns]"
      ]
     },
     "execution_count": 3,
     "metadata": {},
     "output_type": "execute_result"
    }
   ],
   "source": [
    "df.head(1)"
   ]
  },
  {
   "cell_type": "code",
   "execution_count": 4,
   "id": "4bd97f5c",
   "metadata": {},
   "outputs": [],
   "source": [
    "df.drop('Unnamed: 0',axis=1,inplace=True)"
   ]
  },
  {
   "cell_type": "code",
   "execution_count": 5,
   "id": "0636b6fb",
   "metadata": {},
   "outputs": [
    {
     "data": {
      "text/html": [
       "<div>\n",
       "<style scoped>\n",
       "    .dataframe tbody tr th:only-of-type {\n",
       "        vertical-align: middle;\n",
       "    }\n",
       "\n",
       "    .dataframe tbody tr th {\n",
       "        vertical-align: top;\n",
       "    }\n",
       "\n",
       "    .dataframe thead th {\n",
       "        text-align: right;\n",
       "    }\n",
       "</style>\n",
       "<table border=\"1\" class=\"dataframe\">\n",
       "  <thead>\n",
       "    <tr style=\"text-align: right;\">\n",
       "      <th></th>\n",
       "      <th>age</th>\n",
       "      <th>marital</th>\n",
       "      <th>Region_Code</th>\n",
       "      <th>day_of_week</th>\n",
       "      <th>duration</th>\n",
       "      <th>campaign</th>\n",
       "      <th>previous</th>\n",
       "      <th>poutcome</th>\n",
       "      <th>cons.price.idx</th>\n",
       "      <th>cons.conf.idx</th>\n",
       "      <th>...</th>\n",
       "      <th>month_aug</th>\n",
       "      <th>month_dec</th>\n",
       "      <th>month_jul</th>\n",
       "      <th>month_jun</th>\n",
       "      <th>month_mar</th>\n",
       "      <th>month_may</th>\n",
       "      <th>month_nov</th>\n",
       "      <th>month_oct</th>\n",
       "      <th>month_sep</th>\n",
       "      <th>y_yes</th>\n",
       "    </tr>\n",
       "  </thead>\n",
       "  <tbody>\n",
       "    <tr>\n",
       "      <th>0</th>\n",
       "      <td>56</td>\n",
       "      <td>1</td>\n",
       "      <td>2</td>\n",
       "      <td>1</td>\n",
       "      <td>307</td>\n",
       "      <td>1</td>\n",
       "      <td>0</td>\n",
       "      <td>1</td>\n",
       "      <td>93.994</td>\n",
       "      <td>-36.4</td>\n",
       "      <td>...</td>\n",
       "      <td>0</td>\n",
       "      <td>0</td>\n",
       "      <td>0</td>\n",
       "      <td>0</td>\n",
       "      <td>0</td>\n",
       "      <td>1</td>\n",
       "      <td>0</td>\n",
       "      <td>0</td>\n",
       "      <td>0</td>\n",
       "      <td>0</td>\n",
       "    </tr>\n",
       "  </tbody>\n",
       "</table>\n",
       "<p>1 rows × 41 columns</p>\n",
       "</div>"
      ],
      "text/plain": [
       "   age  marital  Region_Code  day_of_week  duration  campaign  previous  \\\n",
       "0   56        1            2            1       307         1         0   \n",
       "\n",
       "   poutcome  cons.price.idx  cons.conf.idx  ...  month_aug  month_dec  \\\n",
       "0         1          93.994          -36.4  ...          0          0   \n",
       "\n",
       "   month_jul  month_jun  month_mar  month_may  month_nov  month_oct  \\\n",
       "0          0          0          0          1          0          0   \n",
       "\n",
       "   month_sep  y_yes  \n",
       "0          0      0  \n",
       "\n",
       "[1 rows x 41 columns]"
      ]
     },
     "execution_count": 5,
     "metadata": {},
     "output_type": "execute_result"
    }
   ],
   "source": [
    "df.head(1)"
   ]
  },
  {
   "cell_type": "code",
   "execution_count": 6,
   "id": "ee85fe3f",
   "metadata": {},
   "outputs": [],
   "source": [
    "x1 = df.iloc[:,0:-1]"
   ]
  },
  {
   "cell_type": "code",
   "execution_count": 7,
   "id": "b0cc703e",
   "metadata": {},
   "outputs": [
    {
     "data": {
      "text/html": [
       "<div>\n",
       "<style scoped>\n",
       "    .dataframe tbody tr th:only-of-type {\n",
       "        vertical-align: middle;\n",
       "    }\n",
       "\n",
       "    .dataframe tbody tr th {\n",
       "        vertical-align: top;\n",
       "    }\n",
       "\n",
       "    .dataframe thead th {\n",
       "        text-align: right;\n",
       "    }\n",
       "</style>\n",
       "<table border=\"1\" class=\"dataframe\">\n",
       "  <thead>\n",
       "    <tr style=\"text-align: right;\">\n",
       "      <th></th>\n",
       "      <th>age</th>\n",
       "      <th>marital</th>\n",
       "      <th>Region_Code</th>\n",
       "      <th>day_of_week</th>\n",
       "      <th>duration</th>\n",
       "      <th>campaign</th>\n",
       "      <th>previous</th>\n",
       "      <th>poutcome</th>\n",
       "      <th>cons.price.idx</th>\n",
       "      <th>cons.conf.idx</th>\n",
       "      <th>...</th>\n",
       "      <th>contact_telephone</th>\n",
       "      <th>month_aug</th>\n",
       "      <th>month_dec</th>\n",
       "      <th>month_jul</th>\n",
       "      <th>month_jun</th>\n",
       "      <th>month_mar</th>\n",
       "      <th>month_may</th>\n",
       "      <th>month_nov</th>\n",
       "      <th>month_oct</th>\n",
       "      <th>month_sep</th>\n",
       "    </tr>\n",
       "  </thead>\n",
       "  <tbody>\n",
       "    <tr>\n",
       "      <th>0</th>\n",
       "      <td>56</td>\n",
       "      <td>1</td>\n",
       "      <td>2</td>\n",
       "      <td>1</td>\n",
       "      <td>307</td>\n",
       "      <td>1</td>\n",
       "      <td>0</td>\n",
       "      <td>1</td>\n",
       "      <td>93.994</td>\n",
       "      <td>-36.4</td>\n",
       "      <td>...</td>\n",
       "      <td>1</td>\n",
       "      <td>0</td>\n",
       "      <td>0</td>\n",
       "      <td>0</td>\n",
       "      <td>0</td>\n",
       "      <td>0</td>\n",
       "      <td>1</td>\n",
       "      <td>0</td>\n",
       "      <td>0</td>\n",
       "      <td>0</td>\n",
       "    </tr>\n",
       "  </tbody>\n",
       "</table>\n",
       "<p>1 rows × 40 columns</p>\n",
       "</div>"
      ],
      "text/plain": [
       "   age  marital  Region_Code  day_of_week  duration  campaign  previous  \\\n",
       "0   56        1            2            1       307         1         0   \n",
       "\n",
       "   poutcome  cons.price.idx  cons.conf.idx  ...  contact_telephone  month_aug  \\\n",
       "0         1          93.994          -36.4  ...                  1          0   \n",
       "\n",
       "   month_dec  month_jul  month_jun  month_mar  month_may  month_nov  \\\n",
       "0          0          0          0          0          1          0   \n",
       "\n",
       "   month_oct  month_sep  \n",
       "0          0          0  \n",
       "\n",
       "[1 rows x 40 columns]"
      ]
     },
     "execution_count": 7,
     "metadata": {},
     "output_type": "execute_result"
    }
   ],
   "source": [
    "x1.head(1)"
   ]
  },
  {
   "cell_type": "code",
   "execution_count": 8,
   "id": "3c5566df",
   "metadata": {},
   "outputs": [],
   "source": [
    "x = pd.DataFrame(x1, columns=x1.columns)"
   ]
  },
  {
   "cell_type": "code",
   "execution_count": 9,
   "id": "0a6a3a4b",
   "metadata": {},
   "outputs": [],
   "source": [
    "y = df['y_yes']"
   ]
  },
  {
   "cell_type": "code",
   "execution_count": 10,
   "id": "dbede05e",
   "metadata": {},
   "outputs": [
    {
     "data": {
      "text/plain": [
       "0.8865278826448064"
      ]
     },
     "execution_count": 10,
     "metadata": {},
     "output_type": "execute_result"
    }
   ],
   "source": [
    "# Baseline Accuracy\n",
    "32876/(32876+4208)"
   ]
  },
  {
   "cell_type": "markdown",
   "id": "e3c6ec15",
   "metadata": {},
   "source": [
    "### Splitting the dataset into the Training set and Test set\n"
   ]
  },
  {
   "cell_type": "code",
   "execution_count": 11,
   "id": "032ab593",
   "metadata": {},
   "outputs": [],
   "source": [
    "from sklearn.model_selection import train_test_split\n",
    "x_train, x_test, y_train, y_test = train_test_split(x, y, test_size = 0.3, random_state = 0)"
   ]
  },
  {
   "cell_type": "markdown",
   "id": "dc39b503",
   "metadata": {},
   "source": [
    "## Data Scaling Using Z-Score Normalisation"
   ]
  },
  {
   "cell_type": "code",
   "execution_count": 12,
   "id": "3582abb6",
   "metadata": {},
   "outputs": [],
   "source": [
    "from sklearn.preprocessing import StandardScaler\n",
    "sc = StandardScaler()\n",
    "x_train = sc.fit_transform(x_train)\n",
    "x_test = sc.transform(x_test)"
   ]
  },
  {
   "cell_type": "code",
   "execution_count": 13,
   "id": "4d5c4cde",
   "metadata": {},
   "outputs": [
    {
     "data": {
      "text/plain": [
       "0    23057\n",
       "1     2901\n",
       "Name: y_yes, dtype: int64"
      ]
     },
     "execution_count": 13,
     "metadata": {},
     "output_type": "execute_result"
    }
   ],
   "source": [
    "y_train.value_counts()"
   ]
  },
  {
   "cell_type": "code",
   "execution_count": 14,
   "id": "0a9c1814",
   "metadata": {},
   "outputs": [
    {
     "data": {
      "text/plain": [
       "0    9819\n",
       "1    1307\n",
       "Name: y_yes, dtype: int64"
      ]
     },
     "execution_count": 14,
     "metadata": {},
     "output_type": "execute_result"
    }
   ],
   "source": [
    "y_test.value_counts()"
   ]
  },
  {
   "cell_type": "markdown",
   "id": "2323b2a0",
   "metadata": {},
   "source": [
    "#### To check whether the  data follow the same base line accuracy or not\n"
   ]
  },
  {
   "cell_type": "code",
   "execution_count": 15,
   "id": "37d82174",
   "metadata": {},
   "outputs": [
    {
     "data": {
      "text/plain": [
       "0.8882425456506665"
      ]
     },
     "execution_count": 15,
     "metadata": {},
     "output_type": "execute_result"
    }
   ],
   "source": [
    "23057/(2901+23057)"
   ]
  },
  {
   "cell_type": "code",
   "execution_count": 16,
   "id": "983c4a14",
   "metadata": {},
   "outputs": [
    {
     "data": {
      "text/plain": [
       "0.8825274132662233"
      ]
     },
     "execution_count": 16,
     "metadata": {},
     "output_type": "execute_result"
    }
   ],
   "source": [
    "9819/(1307+9819)"
   ]
  },
  {
   "cell_type": "markdown",
   "id": "40417150",
   "metadata": {},
   "source": [
    "## Q1)\tBuild appropriate ML model/s on the data."
   ]
  },
  {
   "cell_type": "markdown",
   "id": "a07b3a23",
   "metadata": {},
   "source": [
    "### a) Logistic Regression"
   ]
  },
  {
   "cell_type": "code",
   "execution_count": 17,
   "id": "1bb593fa",
   "metadata": {},
   "outputs": [],
   "source": [
    "from sklearn.linear_model import LogisticRegression\n",
    "import sklearn.metrics as metrics\n",
    "from sklearn.metrics import confusion_matrix, classification_report, accuracy_score"
   ]
  },
  {
   "cell_type": "code",
   "execution_count": 18,
   "id": "1445a1ec",
   "metadata": {},
   "outputs": [
    {
     "data": {
      "text/plain": [
       "LogisticRegression()"
      ]
     },
     "execution_count": 18,
     "metadata": {},
     "output_type": "execute_result"
    }
   ],
   "source": [
    "lr = LogisticRegression()\n",
    "lr"
   ]
  },
  {
   "cell_type": "code",
   "execution_count": 19,
   "id": "97c33afe",
   "metadata": {},
   "outputs": [],
   "source": [
    "l1 = lr.fit(x_train,y_train)"
   ]
  },
  {
   "cell_type": "markdown",
   "id": "981c0dcd",
   "metadata": {},
   "source": [
    "### The right metric to evaluate the performance of the logistic regression."
   ]
  },
  {
   "cell_type": "code",
   "execution_count": 20,
   "id": "4abf2f08",
   "metadata": {},
   "outputs": [
    {
     "data": {
      "image/png": "[encoded data removed]",
      "text/plain": [
       "<Figure size 432x288 with 1 Axes>"
      ]
     },
     "metadata": {
      "needs_background": "light"
     },
     "output_type": "display_data"
    }
   ],
   "source": [
    "y_pred = l1.predict_proba(x_test)[:,1]\n",
    "fpr,tpr,a = metrics.roc_curve(y_test,y_pred)\n",
    "auc = metrics.roc_auc_score(y_test,y_pred)\n",
    "plt.plot(fpr,tpr,label = 'Curve, Auc ='+str(auc))\n",
    "plt.legend(loc=4)\n",
    "plt.show()"
   ]
  },
  {
   "cell_type": "markdown",
   "id": "daf50612",
   "metadata": {},
   "source": [
    "### As AUROC is good enough hence we are evaluating the performance of model\n",
    "\n",
    "### Evaluate the performance of logistic regression."
   ]
  },
  {
   "cell_type": "code",
   "execution_count": 21,
   "id": "5334278d",
   "metadata": {},
   "outputs": [
    {
     "name": "stdout",
     "output_type": "stream",
     "text": [
      "For Test data\n",
      "              precision    recall  f1-score   support\n",
      "\n",
      "           0       0.92      0.97      0.95      9819\n",
      "           1       0.65      0.37      0.47      1307\n",
      "\n",
      "    accuracy                           0.90     11126\n",
      "   macro avg       0.78      0.67      0.71     11126\n",
      "weighted avg       0.89      0.90      0.89     11126\n",
      "\n",
      "For Train data\n",
      "              precision    recall  f1-score   support\n",
      "\n",
      "           0       0.93      0.97      0.95     23057\n",
      "           1       0.67      0.40      0.50      2901\n",
      "\n",
      "    accuracy                           0.91     25958\n",
      "   macro avg       0.80      0.69      0.73     25958\n",
      "weighted avg       0.90      0.91      0.90     25958\n",
      "\n"
     ]
    },
    {
     "data": {
      "text/plain": [
       "<AxesSubplot:>"
      ]
     },
     "execution_count": 21,
     "metadata": {},
     "output_type": "execute_result"
    },
    {
     "data": {
      "image/png": "[encoded data removed]",
      "text/plain": [
       "<Figure size 432x288 with 2 Axes>"
      ]
     },
     "metadata": {
      "needs_background": "light"
     },
     "output_type": "display_data"
    }
   ],
   "source": [
    "pred_res_lg = l1.predict(x_test)\n",
    "print(\"For Test data\")\n",
    "print(classification_report(y_test,pred_res_lg))\n",
    "pred_res_train = l1.predict(x_train)\n",
    "print(\"For Train data\")\n",
    "print(classification_report(y_train,pred_res_train))\n",
    "p=confusion_matrix(y_test,pred_res_lg)\n",
    "sns.heatmap(p,annot=True,cmap='Blues')"
   ]
  },
  {
   "cell_type": "markdown",
   "id": "a9fd0025",
   "metadata": {},
   "source": [
    "### Appropriate hyper-parameter tuning for logistic regression"
   ]
  },
  {
   "cell_type": "code",
   "execution_count": 22,
   "id": "225b670a",
   "metadata": {},
   "outputs": [
    {
     "name": "stdout",
     "output_type": "stream",
     "text": [
      "LogisticRegression(C=0.02811768697974228, random_state=0)\n",
      "The mean accuracy of the model is: 0.9028401941398526\n"
     ]
    }
   ],
   "source": [
    "from sklearn.model_selection import GridSearchCV\n",
    "param_grid = {'C': np.logspace(-4, 4, 50),\n",
    "             'penalty':['l1', 'l2']}\n",
    "clf = GridSearchCV(LogisticRegression(random_state=0), param_grid,cv=5, verbose=0,n_jobs=5)\n",
    "best_model = clf.fit(x_train,y_train)\n",
    "print(best_model.best_estimator_)\n",
    "print(\"The mean accuracy of the model is:\",best_model.score(x_test,y_test))"
   ]
  },
  {
   "cell_type": "markdown",
   "id": "64ee58dc",
   "metadata": {},
   "source": [
    "#### Accuracy remains the same even after hyper-parameter tuning"
   ]
  },
  {
   "cell_type": "markdown",
   "id": "a3902202",
   "metadata": {},
   "source": [
    "### b) Decision Tree"
   ]
  },
  {
   "cell_type": "code",
   "execution_count": 23,
   "id": "a0e50778",
   "metadata": {},
   "outputs": [],
   "source": [
    "from sklearn.tree import DecisionTreeClassifier\n",
    "d1 = DecisionTreeClassifier()\n",
    "d2 = d1.fit(x_train,y_train)"
   ]
  },
  {
   "cell_type": "markdown",
   "id": "e37dc240",
   "metadata": {},
   "source": [
    "### The right metric to evaluate the performance of the decision tree."
   ]
  },
  {
   "cell_type": "code",
   "execution_count": 24,
   "id": "6a5cde90",
   "metadata": {},
   "outputs": [
    {
     "data": {
      "image/png": "[encoded data removed]",
      "text/plain": [
       "<Figure size 432x288 with 1 Axes>"
      ]
     },
     "metadata": {
      "needs_background": "light"
     },
     "output_type": "display_data"
    }
   ],
   "source": [
    "y_pred = d2.predict_proba(x_test)[:,1]\n",
    "fpr,tpr,a = metrics.roc_curve(y_test,y_pred)\n",
    "auc = metrics.roc_auc_score(y_test,y_pred)\n",
    "plt.plot(fpr,tpr,label = 'Curve, Auc ='+str(auc))\n",
    "plt.legend(loc=4)\n",
    "plt.show()"
   ]
  },
  {
   "cell_type": "markdown",
   "id": "ce471616",
   "metadata": {},
   "source": [
    "##### As 'AUC' is very less means this model is not good and there is no need of further evaluation hence we are opting for hyper-parameter tuning"
   ]
  },
  {
   "cell_type": "markdown",
   "id": "590b27ef",
   "metadata": {},
   "source": [
    "## Appropriate hyper-parameter tuning for decision tree"
   ]
  },
  {
   "cell_type": "markdown",
   "id": "0c17ed59",
   "metadata": {},
   "source": [
    "### i) Making model using Decision tree by taking random value fo the parameters"
   ]
  },
  {
   "cell_type": "code",
   "execution_count": 25,
   "id": "97396268",
   "metadata": {},
   "outputs": [],
   "source": [
    "dtree = DecisionTreeClassifier(max_leaf_nodes=10, max_depth=5, min_samples_leaf=5)\n",
    "model_tree = dtree.fit(x_train,y_train)"
   ]
  },
  {
   "cell_type": "markdown",
   "id": "7171d91a",
   "metadata": {},
   "source": [
    "### The right metric to evaluate the performance of the decision tree."
   ]
  },
  {
   "cell_type": "code",
   "execution_count": 26,
   "id": "70aacfce",
   "metadata": {},
   "outputs": [
    {
     "data": {
      "image/png": "[encoded data removed]",
      "text/plain": [
       "<Figure size 432x288 with 1 Axes>"
      ]
     },
     "metadata": {
      "needs_background": "light"
     },
     "output_type": "display_data"
    }
   ],
   "source": [
    "y_pred = model_tree.predict_proba(x_test)[:,1]\n",
    "fpr,tpr,a = metrics.roc_curve(y_test,y_pred)\n",
    "auc = metrics.roc_auc_score(y_test,y_pred)\n",
    "plt.plot(fpr,tpr,label = 'Curve, Auc ='+str(auc))\n",
    "plt.legend(loc=4)\n",
    "plt.show()"
   ]
  },
  {
   "cell_type": "markdown",
   "id": "c6179009",
   "metadata": {},
   "source": [
    "### As AUROC is good enough hence we are evaluating the performance of model\n",
    "\n",
    "### Evaluate the performance of decision tree."
   ]
  },
  {
   "cell_type": "code",
   "execution_count": 27,
   "id": "0ab23605",
   "metadata": {},
   "outputs": [
    {
     "name": "stdout",
     "output_type": "stream",
     "text": [
      "For Test data\n",
      "              precision    recall  f1-score   support\n",
      "\n",
      "           0       0.91      0.98      0.95      9819\n",
      "           1       0.69      0.27      0.39      1307\n",
      "\n",
      "    accuracy                           0.90     11126\n",
      "   macro avg       0.80      0.63      0.67     11126\n",
      "weighted avg       0.88      0.90      0.88     11126\n",
      "\n",
      "For Train data\n",
      "              precision    recall  f1-score   support\n",
      "\n",
      "           0       0.92      0.99      0.95     23057\n",
      "           1       0.74      0.30      0.43      2901\n",
      "\n",
      "    accuracy                           0.91     25958\n",
      "   macro avg       0.83      0.64      0.69     25958\n",
      "weighted avg       0.90      0.91      0.89     25958\n",
      "\n"
     ]
    },
    {
     "data": {
      "text/plain": [
       "<AxesSubplot:>"
      ]
     },
     "execution_count": 27,
     "metadata": {},
     "output_type": "execute_result"
    },
    {
     "data": {
      "image/png": "[encoded data removed]",
      "text/plain": [
       "<Figure size 432x288 with 2 Axes>"
      ]
     },
     "metadata": {
      "needs_background": "light"
     },
     "output_type": "display_data"
    }
   ],
   "source": [
    "pred_res_test = model_tree.predict(x_test)\n",
    "print(\"For Test data\")\n",
    "print(classification_report(y_test,pred_res_test))\n",
    "pred_res_train = model_tree.predict(x_train)\n",
    "print(\"For Train data\")\n",
    "print(classification_report(y_train,pred_res_train))\n",
    "p=confusion_matrix(y_test,pred_res_test)\n",
    "sns.heatmap(p,annot=True,cmap='Blues')"
   ]
  },
  {
   "cell_type": "markdown",
   "id": "cd96b951",
   "metadata": {},
   "source": [
    "### ii) Pruning using GridSearchCV"
   ]
  },
  {
   "cell_type": "code",
   "execution_count": 28,
   "id": "76fe8b98",
   "metadata": {},
   "outputs": [],
   "source": [
    "from sklearn.model_selection import GridSearchCV, KFold, cross_val_score"
   ]
  },
  {
   "cell_type": "code",
   "execution_count": 29,
   "id": "c7e05b51",
   "metadata": {},
   "outputs": [
    {
     "data": {
      "text/plain": [
       "GridSearchCV(estimator=DecisionTreeClassifier(),\n",
       "             param_grid={'max_depth': [2, 4, 6, 8, 10],\n",
       "                         'max_leaf_nodes': [5, 8, 10, 12],\n",
       "                         'min_samples_leaf': [1, 2, 3, 4]})"
      ]
     },
     "execution_count": 29,
     "metadata": {},
     "output_type": "execute_result"
    }
   ],
   "source": [
    "params = {'max_depth' : [2,4,6,8,10],\n",
    "         'max_leaf_nodes' : [5,8,10,12],\n",
    "         'min_samples_leaf' : [1,2,3,4]}\n",
    "\n",
    "clf = DecisionTreeClassifier()\n",
    "gcv = GridSearchCV(estimator=clf, param_grid=params)\n",
    "gcv.fit(x_train,y_train)"
   ]
  },
  {
   "cell_type": "code",
   "execution_count": 30,
   "id": "c609ee96",
   "metadata": {},
   "outputs": [
    {
     "data": {
      "text/plain": [
       "DecisionTreeClassifier(max_depth=4, max_leaf_nodes=12)"
      ]
     },
     "execution_count": 30,
     "metadata": {},
     "output_type": "execute_result"
    }
   ],
   "source": [
    "gcv.best_estimator_"
   ]
  },
  {
   "cell_type": "code",
   "execution_count": 31,
   "id": "76888572",
   "metadata": {},
   "outputs": [],
   "source": [
    "new_model = gcv.best_estimator_\n",
    "new_model.fit(x_train,y_train)\n",
    "y_train_pred = new_model.predict(x_train)\n",
    "y_test_pred = new_model.predict(x_test)"
   ]
  },
  {
   "cell_type": "markdown",
   "id": "19fc2b42",
   "metadata": {},
   "source": [
    "### The right metric to evaluate the performance."
   ]
  },
  {
   "cell_type": "code",
   "execution_count": 32,
   "id": "7991fd02",
   "metadata": {},
   "outputs": [
    {
     "data": {
      "image/png": "[encoded data removed]",
      "text/plain": [
       "<Figure size 432x288 with 1 Axes>"
      ]
     },
     "metadata": {
      "needs_background": "light"
     },
     "output_type": "display_data"
    }
   ],
   "source": [
    "y_pred = new_model.predict_proba(x_test)[:,1]\n",
    "fpr,tpr,a = metrics.roc_curve(y_test,y_pred)\n",
    "auc = metrics.roc_auc_score(y_test,y_pred)\n",
    "plt.plot(fpr,tpr,label = 'Curve, Auc ='+str(auc))\n",
    "plt.legend(loc=4)\n",
    "plt.show()"
   ]
  },
  {
   "cell_type": "markdown",
   "id": "818b0c17",
   "metadata": {},
   "source": [
    "### As AUROC is good enough hence we are evaluating the performance of model\n",
    "\n",
    "### Evaluate the performance of decision tree."
   ]
  },
  {
   "cell_type": "code",
   "execution_count": 33,
   "id": "f7a521dc",
   "metadata": {},
   "outputs": [
    {
     "name": "stdout",
     "output_type": "stream",
     "text": [
      "For Test data\n",
      "              precision    recall  f1-score   support\n",
      "\n",
      "           0       0.91      0.98      0.95      9819\n",
      "           1       0.69      0.27      0.39      1307\n",
      "\n",
      "    accuracy                           0.90     11126\n",
      "   macro avg       0.80      0.63      0.67     11126\n",
      "weighted avg       0.88      0.90      0.88     11126\n",
      "\n",
      "For Train data\n",
      "              precision    recall  f1-score   support\n",
      "\n",
      "           0       0.92      0.99      0.95     23057\n",
      "           1       0.74      0.30      0.43      2901\n",
      "\n",
      "    accuracy                           0.91     25958\n",
      "   macro avg       0.83      0.64      0.69     25958\n",
      "weighted avg       0.90      0.91      0.89     25958\n",
      "\n"
     ]
    },
    {
     "data": {
      "text/plain": [
       "<AxesSubplot:>"
      ]
     },
     "execution_count": 33,
     "metadata": {},
     "output_type": "execute_result"
    },
    {
     "data": {
      "image/png": "[encoded data removed]",
      "text/plain": [
       "<Figure size 432x288 with 2 Axes>"
      ]
     },
     "metadata": {
      "needs_background": "light"
     },
     "output_type": "display_data"
    }
   ],
   "source": [
    "pred_res_test = new_model.predict(x_test)\n",
    "print(\"For Test data\")\n",
    "print(classification_report(y_test,pred_res_test))\n",
    "print(\"For Train data\")\n",
    "pred_res_train = new_model.predict(x_train)\n",
    "print(classification_report(y_train,pred_res_train))\n",
    "p=confusion_matrix(y_test,pred_res_test)\n",
    "sns.heatmap(p,annot=True,cmap='Blues')"
   ]
  },
  {
   "cell_type": "markdown",
   "id": "70edcb33",
   "metadata": {},
   "source": [
    "## c) Random Forest"
   ]
  },
  {
   "cell_type": "code",
   "execution_count": 34,
   "id": "4e50da5b",
   "metadata": {},
   "outputs": [],
   "source": [
    "from sklearn.ensemble import RandomForestClassifier\n",
    "rf = RandomForestClassifier(n_estimators=120)\n",
    "rf1 = rf.fit(x_train,y_train)"
   ]
  },
  {
   "cell_type": "markdown",
   "id": "1ae6d19e",
   "metadata": {},
   "source": [
    "### The right metric to evaluate the performance of the random forest."
   ]
  },
  {
   "cell_type": "code",
   "execution_count": 35,
   "id": "65fe853d",
   "metadata": {},
   "outputs": [
    {
     "data": {
      "image/png": "[encoded data removed]",
      "text/plain": [
       "<Figure size 432x288 with 1 Axes>"
      ]
     },
     "metadata": {
      "needs_background": "light"
     },
     "output_type": "display_data"
    }
   ],
   "source": [
    "y_pred = rf1.predict_proba(x_test)[:,1]\n",
    "fpr,tpr,a = metrics.roc_curve(y_test,y_pred)\n",
    "auc = metrics.roc_auc_score(y_test,y_pred)\n",
    "plt.plot(fpr,tpr,label = 'Curve, Auc ='+str(auc))\n",
    "plt.legend(loc=4)\n",
    "plt.show()"
   ]
  },
  {
   "cell_type": "markdown",
   "id": "90517f42",
   "metadata": {},
   "source": [
    "### As AUROC is good enough hence we are evaluating the performance of model\n",
    "\n",
    "### Evaluate the performance of random forest."
   ]
  },
  {
   "cell_type": "code",
   "execution_count": 36,
   "id": "4d1447c7",
   "metadata": {},
   "outputs": [
    {
     "name": "stdout",
     "output_type": "stream",
     "text": [
      "For Test data\n",
      "              precision    recall  f1-score   support\n",
      "\n",
      "           0       0.93      0.97      0.95      9819\n",
      "           1       0.65      0.45      0.53      1307\n",
      "\n",
      "    accuracy                           0.91     11126\n",
      "   macro avg       0.79      0.71      0.74     11126\n",
      "weighted avg       0.90      0.91      0.90     11126\n",
      "\n",
      "For Train data\n",
      "              precision    recall  f1-score   support\n",
      "\n",
      "           0       1.00      1.00      1.00     23057\n",
      "           1       1.00      1.00      1.00      2901\n",
      "\n",
      "    accuracy                           1.00     25958\n",
      "   macro avg       1.00      1.00      1.00     25958\n",
      "weighted avg       1.00      1.00      1.00     25958\n",
      "\n"
     ]
    },
    {
     "data": {
      "text/plain": [
       "<AxesSubplot:>"
      ]
     },
     "execution_count": 36,
     "metadata": {},
     "output_type": "execute_result"
    },
    {
     "data": {
      "image/png": "[encoded data removed]",
      "text/plain": [
       "<Figure size 432x288 with 2 Axes>"
      ]
     },
     "metadata": {
      "needs_background": "light"
     },
     "output_type": "display_data"
    }
   ],
   "source": [
    "pred_res_test = rf1.predict(x_test)\n",
    "print(\"For Test data\")\n",
    "print(classification_report(y_test,pred_res_test))\n",
    "pred_res_train = rf1.predict(x_train)\n",
    "print(\"For Train data\")\n",
    "print(classification_report(y_train,pred_res_train))\n",
    "p=confusion_matrix(y_test,pred_res_test)\n",
    "sns.heatmap(p,annot=True,cmap='Blues')"
   ]
  },
  {
   "cell_type": "markdown",
   "id": "b2f52765",
   "metadata": {},
   "source": [
    "## Appropriate hyper-parameter tuning for Random Forest"
   ]
  },
  {
   "cell_type": "code",
   "execution_count": 37,
   "id": "64b19810",
   "metadata": {},
   "outputs": [],
   "source": [
    "rf = RandomForestClassifier(n_estimators=8,min_samples_leaf=4,min_samples_split=9,criterion='entropy',max_features=4)\n",
    "rf1 = rf.fit(x_train,y_train)"
   ]
  },
  {
   "cell_type": "markdown",
   "id": "91949c67",
   "metadata": {},
   "source": [
    "### The right metric to evaluate the performance of the random forest."
   ]
  },
  {
   "cell_type": "code",
   "execution_count": 38,
   "id": "455695e4",
   "metadata": {},
   "outputs": [
    {
     "data": {
      "image/png": "[encoded data removed]",
      "text/plain": [
       "<Figure size 432x288 with 1 Axes>"
      ]
     },
     "metadata": {
      "needs_background": "light"
     },
     "output_type": "display_data"
    }
   ],
   "source": [
    "y_pred = rf1.predict_proba(x_test)[:,1]\n",
    "fpr,tpr,a = metrics.roc_curve(y_test,y_pred)\n",
    "auc = metrics.roc_auc_score(y_test,y_pred)\n",
    "plt.plot(fpr,tpr,label = 'Curve, Auc ='+str(auc))\n",
    "plt.legend(loc=4)\n",
    "plt.show()"
   ]
  },
  {
   "cell_type": "markdown",
   "id": "4f234f2b",
   "metadata": {},
   "source": [
    "### As AUROC is good enough hence we are evaluating the performance of model\n",
    "\n",
    "### Evaluate the performance of random forest."
   ]
  },
  {
   "cell_type": "code",
   "execution_count": 39,
   "id": "f910d29e",
   "metadata": {},
   "outputs": [
    {
     "name": "stdout",
     "output_type": "stream",
     "text": [
      "For Test data\n",
      "              precision    recall  f1-score   support\n",
      "\n",
      "           0       0.92      0.98      0.95      9819\n",
      "           1       0.67      0.36      0.46      1307\n",
      "\n",
      "    accuracy                           0.90     11126\n",
      "   macro avg       0.80      0.67      0.71     11126\n",
      "weighted avg       0.89      0.90      0.89     11126\n",
      "\n",
      "For Train data\n",
      "              precision    recall  f1-score   support\n",
      "\n",
      "           0       0.94      0.99      0.96     23057\n",
      "           1       0.83      0.53      0.65      2901\n",
      "\n",
      "    accuracy                           0.94     25958\n",
      "   macro avg       0.89      0.76      0.81     25958\n",
      "weighted avg       0.93      0.94      0.93     25958\n",
      "\n"
     ]
    },
    {
     "data": {
      "text/plain": [
       "<AxesSubplot:>"
      ]
     },
     "execution_count": 39,
     "metadata": {},
     "output_type": "execute_result"
    },
    {
     "data": {
      "image/png": "[encoded data removed]",
      "text/plain": [
       "<Figure size 432x288 with 2 Axes>"
      ]
     },
     "metadata": {
      "needs_background": "light"
     },
     "output_type": "display_data"
    }
   ],
   "source": [
    "pred_res_test = rf1.predict(x_test)\n",
    "print(\"For Test data\")\n",
    "print(classification_report(y_test,pred_res_test))\n",
    "pred_res_train = rf1.predict(x_train)\n",
    "print(\"For Train data\")\n",
    "print(classification_report(y_train,pred_res_train))\n",
    "p=confusion_matrix(y_test,pred_res_test)\n",
    "sns.heatmap(p,annot=True,cmap='Blues')"
   ]
  },
  {
   "cell_type": "markdown",
   "id": "0c187127",
   "metadata": {},
   "source": [
    "## d) XG Boost"
   ]
  },
  {
   "cell_type": "code",
   "execution_count": 40,
   "id": "6e54fe15",
   "metadata": {},
   "outputs": [
    {
     "name": "stdout",
     "output_type": "stream",
     "text": [
      "[18:34:11] WARNING: C:/Users/Administrator/workspace/xgboost-win64_release_1.5.1/src/learner.cc:1115: Starting in XGBoost 1.3.0, the default evaluation metric used with the objective 'binary:logistic' was changed from 'error' to 'logloss'. Explicitly set eval_metric if you'd like to restore the old behavior.\n"
     ]
    },
    {
     "data": {
      "text/plain": [
       "XGBClassifier(base_score=0.5, booster='gbtree', colsample_bylevel=1,\n",
       "              colsample_bynode=1, colsample_bytree=1, enable_categorical=False,\n",
       "              gamma=0, gpu_id=-1, importance_type=None,\n",
       "              interaction_constraints='', learning_rate=0.08, max_delta_step=0,\n",
       "              max_depth=7, min_child_weight=1, missing=nan,\n",
       "              monotone_constraints='()', n_estimators=100, n_jobs=8,\n",
       "              num_parallel_tree=1, predictor='auto', random_state=0,\n",
       "              reg_alpha=0, reg_lambda=1, scale_pos_weight=1, subsample=0.75,\n",
       "              tree_method='exact', validate_parameters=1, verbosity=None)"
      ]
     },
     "execution_count": 40,
     "metadata": {},
     "output_type": "execute_result"
    }
   ],
   "source": [
    "import xgboost\n",
    "#train XGBoost model\n",
    "xgb = xgboost.XGBClassifier(n_estimators=100, learning_rate=0.08, gamma=0, subsample=0.75, colsample_bytree=1, max_depth=7)\n",
    "xgb.fit(x_train, y_train.squeeze().values)"
   ]
  },
  {
   "cell_type": "markdown",
   "id": "93ee9e9d",
   "metadata": {},
   "source": [
    "### The right metric to evaluate the performance of the XGBoost."
   ]
  },
  {
   "cell_type": "code",
   "execution_count": 41,
   "id": "13a7ca26",
   "metadata": {},
   "outputs": [
    {
     "data": {
      "image/png": "[encoded data removed]",
      "text/plain": [
       "<Figure size 432x288 with 1 Axes>"
      ]
     },
     "metadata": {
      "needs_background": "light"
     },
     "output_type": "display_data"
    }
   ],
   "source": [
    "y_test_preds=xgb.predict_proba(x_test)[:,1]\n",
    "fpr,tpr,a=metrics.roc_curve(y_test,y_test_preds)\n",
    "auc=metrics.roc_auc_score(y_test,y_test_preds)\n",
    "plt.plot(fpr,tpr,label=\"curve,auc=\"+str(auc))\n",
    "plt.legend(loc=4)\n",
    "plt.show()"
   ]
  },
  {
   "cell_type": "markdown",
   "id": "db92ccc4",
   "metadata": {},
   "source": [
    "### As AUROC is good enough hence we are evaluating the performance of model\n",
    "\n",
    "### Evaluate the performance of XGBoost."
   ]
  },
  {
   "cell_type": "code",
   "execution_count": 42,
   "id": "69c83f9b",
   "metadata": {},
   "outputs": [
    {
     "name": "stdout",
     "output_type": "stream",
     "text": [
      "For Test data\n",
      "              precision    recall  f1-score   support\n",
      "\n",
      "           0       0.94      0.96      0.95      9819\n",
      "           1       0.64      0.50      0.56      1307\n",
      "\n",
      "    accuracy                           0.91     11126\n",
      "   macro avg       0.79      0.73      0.76     11126\n",
      "weighted avg       0.90      0.91      0.90     11126\n",
      "\n",
      "For Train data\n",
      "              precision    recall  f1-score   support\n",
      "\n",
      "           0       0.96      0.98      0.97     23057\n",
      "           1       0.83      0.68      0.74      2901\n",
      "\n",
      "    accuracy                           0.95     25958\n",
      "   macro avg       0.89      0.83      0.86     25958\n",
      "weighted avg       0.95      0.95      0.95     25958\n",
      "\n"
     ]
    },
    {
     "data": {
      "text/plain": [
       "<AxesSubplot:>"
      ]
     },
     "execution_count": 42,
     "metadata": {},
     "output_type": "execute_result"
    },
    {
     "data": {
      "image/png": "[encoded data removed]",
      "text/plain": [
       "<Figure size 432x288 with 2 Axes>"
      ]
     },
     "metadata": {
      "needs_background": "light"
     },
     "output_type": "display_data"
    }
   ],
   "source": [
    "y_test_preds = xgb.predict(x_test)\n",
    "print(\"For Test data\")\n",
    "print(classification_report(y_test,y_test_preds))\n",
    "y_train_preds = xgb.predict(x_train)\n",
    "print(\"For Train data\")\n",
    "print(classification_report(y_train,y_train_preds))\n",
    "p=confusion_matrix(y_test,y_test_preds)\n",
    "sns.heatmap(p,annot=True,cmap='Blues')"
   ]
  },
  {
   "cell_type": "markdown",
   "id": "fa480e78",
   "metadata": {},
   "source": [
    "## Evaluation of algorithms "
   ]
  },
  {
   "cell_type": "code",
   "execution_count": 43,
   "id": "231e4dd3",
   "metadata": {},
   "outputs": [],
   "source": [
    "from sklearn.linear_model import LogisticRegression\n",
    "from sklearn.tree import DecisionTreeClassifier\n",
    "from sklearn.ensemble import RandomForestClassifier\n",
    "from xgboost import XGBClassifier"
   ]
  },
  {
   "cell_type": "code",
   "execution_count": 44,
   "id": "408a8aab",
   "metadata": {},
   "outputs": [],
   "source": [
    "models = []\n",
    "models.append((\"XGB\", XGBClassifier()))\n",
    "models.append((\"LR\", LogisticRegression()))\n",
    "models.append((\"Tree\", DecisionTreeClassifier(max_depth=6,max_leaf_nodes=10)))\n",
    "models.append((\"RF\", RandomForestClassifier()))"
   ]
  },
  {
   "cell_type": "code",
   "execution_count": 45,
   "id": "78011b3b",
   "metadata": {},
   "outputs": [],
   "source": [
    "from sklearn.model_selection import KFold"
   ]
  },
  {
   "cell_type": "code",
   "execution_count": 46,
   "id": "ee5842a6",
   "metadata": {},
   "outputs": [
    {
     "name": "stdout",
     "output_type": "stream",
     "text": [
      "[18:34:16] WARNING: C:/Users/Administrator/workspace/xgboost-win64_release_1.5.1/src/learner.cc:1115: Starting in XGBoost 1.3.0, the default evaluation metric used with the objective 'binary:logistic' was changed from 'error' to 'logloss'. Explicitly set eval_metric if you'd like to restore the old behavior.\n",
      "[18:34:17] WARNING: C:/Users/Administrator/workspace/xgboost-win64_release_1.5.1/src/learner.cc:1115: Starting in XGBoost 1.3.0, the default evaluation metric used with the objective 'binary:logistic' was changed from 'error' to 'logloss'. Explicitly set eval_metric if you'd like to restore the old behavior.\n",
      "[18:34:18] WARNING: C:/Users/Administrator/workspace/xgboost-win64_release_1.5.1/src/learner.cc:1115: Starting in XGBoost 1.3.0, the default evaluation metric used with the objective 'binary:logistic' was changed from 'error' to 'logloss'. Explicitly set eval_metric if you'd like to restore the old behavior.\n",
      "XGB: 91.131802 (0.504454)\n",
      "LR: 90.946894 (0.375265)\n",
      "Tree: 90.788949 (0.451833)\n",
      "RF: 91.131813 (0.342236)\n"
     ]
    }
   ],
   "source": [
    "results = []\n",
    "names = []\n",
    "for name,model in models:\n",
    "    kfold = KFold(n_splits=3)\n",
    "    cv_results = cross_val_score(model, x_train,y_train,cv=kfold, scoring=\"accuracy\")\n",
    "    results.append(cv_results)\n",
    "    names.append(name)\n",
    "    \n",
    "    outcome = \"%s: %f (%f)\" % (name,cv_results.mean()*100, cv_results.std()*100)\n",
    "    print(outcome)"
   ]
  },
  {
   "cell_type": "code",
   "execution_count": 47,
   "id": "59450bd4",
   "metadata": {},
   "outputs": [
    {
     "data": {
      "image/png": "[encoded data removed]",
      "text/plain": [
       "<Figure size 432x288 with 1 Axes>"
      ]
     },
     "metadata": {
      "needs_background": "light"
     },
     "output_type": "display_data"
    }
   ],
   "source": [
    "fig = plt.figure()\n",
    "axis = fig.add_subplot(111)\n",
    "plt.boxplot(results)\n",
    "axis.set_xticklabels(names)\n",
    "plt.show()"
   ]
  },
  {
   "cell_type": "markdown",
   "id": "7a771146",
   "metadata": {},
   "source": [
    "### Q5) Identify issues and concerns on the given data and suggest the best technique/s to overcome the issues."
   ]
  },
  {
   "cell_type": "code",
   "execution_count": 48,
   "id": "390c0767",
   "metadata": {},
   "outputs": [],
   "source": [
    "#!pip install imbalanced-learn"
   ]
  },
  {
   "cell_type": "code",
   "execution_count": 49,
   "id": "4bff1282",
   "metadata": {},
   "outputs": [],
   "source": [
    "from imblearn.over_sampling import SMOTE"
   ]
  },
  {
   "cell_type": "code",
   "execution_count": 50,
   "id": "06555126",
   "metadata": {},
   "outputs": [
    {
     "data": {
      "text/plain": [
       "0    32876\n",
       "1     4208\n",
       "Name: y_yes, dtype: int64"
      ]
     },
     "execution_count": 50,
     "metadata": {},
     "output_type": "execute_result"
    }
   ],
   "source": [
    "y.value_counts()"
   ]
  },
  {
   "cell_type": "markdown",
   "id": "b8da808a",
   "metadata": {},
   "source": [
    "##### Our target column suffers from class imbalance hence we are doing SMOTING"
   ]
  },
  {
   "cell_type": "code",
   "execution_count": 51,
   "id": "dc78b1e4",
   "metadata": {},
   "outputs": [],
   "source": [
    "smote = SMOTE(sampling_strategy='auto',random_state=12)\n",
    "x_resam,y_resam = smote.fit_resample(x_train,y_train)"
   ]
  },
  {
   "cell_type": "code",
   "execution_count": 52,
   "id": "542487b3",
   "metadata": {},
   "outputs": [
    {
     "data": {
      "text/plain": [
       "0    23057\n",
       "1    23057\n",
       "Name: y_yes, dtype: int64"
      ]
     },
     "execution_count": 52,
     "metadata": {},
     "output_type": "execute_result"
    }
   ],
   "source": [
    "y_resam.value_counts()"
   ]
  },
  {
   "cell_type": "code",
   "execution_count": 53,
   "id": "a66017b0",
   "metadata": {},
   "outputs": [
    {
     "data": {
      "text/plain": [
       "(46114, 40)"
      ]
     },
     "execution_count": 53,
     "metadata": {},
     "output_type": "execute_result"
    }
   ],
   "source": [
    "x_resam.shape"
   ]
  },
  {
   "cell_type": "markdown",
   "id": "25080685",
   "metadata": {},
   "source": [
    "### Logistic Regression"
   ]
  },
  {
   "cell_type": "code",
   "execution_count": 54,
   "id": "d7b9a10c",
   "metadata": {},
   "outputs": [],
   "source": [
    "lr = LogisticRegression()\n",
    "l1 = lr.fit(x_resam,y_resam)"
   ]
  },
  {
   "cell_type": "markdown",
   "id": "8fc405fb",
   "metadata": {},
   "source": [
    "### The right metric to evaluate the performance"
   ]
  },
  {
   "cell_type": "code",
   "execution_count": 55,
   "id": "d211930c",
   "metadata": {},
   "outputs": [
    {
     "data": {
      "image/png": "[encoded data removed]",
      "text/plain": [
       "<Figure size 432x288 with 1 Axes>"
      ]
     },
     "metadata": {
      "needs_background": "light"
     },
     "output_type": "display_data"
    }
   ],
   "source": [
    "y_pred = l1.predict_proba(x_test)[:,1]\n",
    "fpr,tpr,a = metrics.roc_curve(y_test,y_pred)\n",
    "auc = metrics.roc_auc_score(y_test,y_pred)\n",
    "plt.plot(fpr,tpr,label = 'Curve, Auc ='+str(auc))\n",
    "plt.legend(loc=4)\n",
    "plt.show()"
   ]
  },
  {
   "cell_type": "markdown",
   "id": "bb05cea7",
   "metadata": {},
   "source": [
    "### As AUROC is good enough hence we are evaluating the performance of model\n",
    "\n",
    "### Evaluate the performance of logistic regression"
   ]
  },
  {
   "cell_type": "code",
   "execution_count": 56,
   "id": "a25272e9",
   "metadata": {},
   "outputs": [
    {
     "name": "stdout",
     "output_type": "stream",
     "text": [
      "For Test data\n",
      "              precision    recall  f1-score   support\n",
      "\n",
      "           0       0.98      0.86      0.92      9819\n",
      "           1       0.45      0.89      0.60      1307\n",
      "\n",
      "    accuracy                           0.86     11126\n",
      "   macro avg       0.72      0.87      0.76     11126\n",
      "weighted avg       0.92      0.86      0.88     11126\n",
      "\n",
      "For Train data\n",
      "              precision    recall  f1-score   support\n",
      "\n",
      "           0       0.91      0.85      0.88     23057\n",
      "           1       0.86      0.92      0.89     23057\n",
      "\n",
      "    accuracy                           0.89     46114\n",
      "   macro avg       0.89      0.89      0.89     46114\n",
      "weighted avg       0.89      0.89      0.89     46114\n",
      "\n"
     ]
    },
    {
     "data": {
      "text/plain": [
       "<AxesSubplot:>"
      ]
     },
     "execution_count": 56,
     "metadata": {},
     "output_type": "execute_result"
    },
    {
     "data": {
      "image/png": "[encoded data removed]",
      "text/plain": [
       "<Figure size 432x288 with 2 Axes>"
      ]
     },
     "metadata": {
      "needs_background": "light"
     },
     "output_type": "display_data"
    }
   ],
   "source": [
    "pred_res_lg = l1.predict(x_test)\n",
    "print(\"For Test data\")\n",
    "print(classification_report(y_test,pred_res_lg))\n",
    "pred_res_train = l1.predict(x_resam)\n",
    "print(\"For Train data\")\n",
    "print(classification_report(y_resam,pred_res_train))\n",
    "p=confusion_matrix(y_test,pred_res_lg)\n",
    "sns.heatmap(p,annot=True,cmap='Blues')"
   ]
  },
  {
   "cell_type": "markdown",
   "id": "e9f23683",
   "metadata": {},
   "source": [
    "### Decision Tree"
   ]
  },
  {
   "cell_type": "code",
   "execution_count": 57,
   "id": "b2e4b6c6",
   "metadata": {},
   "outputs": [],
   "source": [
    "d1 = DecisionTreeClassifier()\n",
    "d2 = d1.fit(x_resam,y_resam)"
   ]
  },
  {
   "cell_type": "markdown",
   "id": "e21b14b9",
   "metadata": {},
   "source": [
    "### The right metric to evaluate the performance"
   ]
  },
  {
   "cell_type": "code",
   "execution_count": 58,
   "id": "3a5d4a3e",
   "metadata": {},
   "outputs": [
    {
     "data": {
      "image/png": "[encoded data removed]",
      "text/plain": [
       "<Figure size 432x288 with 1 Axes>"
      ]
     },
     "metadata": {
      "needs_background": "light"
     },
     "output_type": "display_data"
    }
   ],
   "source": [
    "y_pred = d2.predict_proba(x_test)[:,1]\n",
    "fpr,tpr,a = metrics.roc_curve(y_test,y_pred)\n",
    "auc = metrics.roc_auc_score(y_test,y_pred)\n",
    "plt.plot(fpr,tpr,label = 'Curve, Auc ='+str(auc))\n",
    "plt.legend(loc=4)\n",
    "plt.show()"
   ]
  },
  {
   "cell_type": "markdown",
   "id": "94692ca5",
   "metadata": {},
   "source": [
    "##### As 'AUC' is very less means this model is not good hence there is no need of further evaluation\n"
   ]
  },
  {
   "cell_type": "markdown",
   "id": "4790612b",
   "metadata": {},
   "source": [
    "### Decision Tree with random values of parameters"
   ]
  },
  {
   "cell_type": "code",
   "execution_count": 59,
   "id": "7adc6f7f",
   "metadata": {},
   "outputs": [],
   "source": [
    "dtree = DecisionTreeClassifier(max_leaf_nodes=10, max_depth=5, min_samples_leaf=5)\n",
    "model_tree = dtree.fit(x_resam,y_resam)"
   ]
  },
  {
   "cell_type": "markdown",
   "id": "e02e8296",
   "metadata": {},
   "source": [
    "### The right metric to evaluate the performance"
   ]
  },
  {
   "cell_type": "code",
   "execution_count": 60,
   "id": "1cc787ae",
   "metadata": {},
   "outputs": [
    {
     "data": {
      "image/png": "[encoded data removed]",
      "text/plain": [
       "<Figure size 432x288 with 1 Axes>"
      ]
     },
     "metadata": {
      "needs_background": "light"
     },
     "output_type": "display_data"
    }
   ],
   "source": [
    "y_pred = model_tree.predict_proba(x_test)[:,1]\n",
    "fpr,tpr,a = metrics.roc_curve(y_test,y_pred)\n",
    "auc = metrics.roc_auc_score(y_test,y_pred)\n",
    "plt.plot(fpr,tpr,label = 'Curve, Auc ='+str(auc))\n",
    "plt.legend(loc=4)\n",
    "plt.show()"
   ]
  },
  {
   "cell_type": "markdown",
   "id": "b0161ea3",
   "metadata": {},
   "source": [
    "### As AUROC is good enough hence we are evaluating the performance of model\n",
    "\n",
    "### Evaluate the performance of decision tree."
   ]
  },
  {
   "cell_type": "code",
   "execution_count": 61,
   "id": "ae549936",
   "metadata": {},
   "outputs": [
    {
     "name": "stdout",
     "output_type": "stream",
     "text": [
      "For Test data\n",
      "              precision    recall  f1-score   support\n",
      "\n",
      "           0       0.98      0.85      0.91      9819\n",
      "           1       0.44      0.87      0.59      1307\n",
      "\n",
      "    accuracy                           0.86     11126\n",
      "   macro avg       0.71      0.86      0.75     11126\n",
      "weighted avg       0.92      0.86      0.87     11126\n",
      "\n",
      "For Train data\n",
      "              precision    recall  f1-score   support\n",
      "\n",
      "           0       0.91      0.85      0.88     23057\n",
      "           1       0.86      0.91      0.89     23057\n",
      "\n",
      "    accuracy                           0.88     46114\n",
      "   macro avg       0.89      0.88      0.88     46114\n",
      "weighted avg       0.89      0.88      0.88     46114\n",
      "\n"
     ]
    },
    {
     "data": {
      "text/plain": [
       "<AxesSubplot:>"
      ]
     },
     "execution_count": 61,
     "metadata": {},
     "output_type": "execute_result"
    },
    {
     "data": {
      "image/png": "[encoded data removed]",
      "text/plain": [
       "<Figure size 432x288 with 2 Axes>"
      ]
     },
     "metadata": {
      "needs_background": "light"
     },
     "output_type": "display_data"
    }
   ],
   "source": [
    "pred_res_test = model_tree.predict(x_test)\n",
    "print(\"For Test data\")\n",
    "print(classification_report(y_test,pred_res_test))\n",
    "pred_res_train = model_tree.predict(x_resam)\n",
    "print(\"For Train data\")\n",
    "print(classification_report(y_resam,pred_res_train))\n",
    "p=confusion_matrix(y_test,pred_res_test)\n",
    "sns.heatmap(p,annot=True,cmap='Blues')"
   ]
  },
  {
   "cell_type": "markdown",
   "id": "66ce927f",
   "metadata": {},
   "source": [
    "### Decision Tree using 'gridsearch'"
   ]
  },
  {
   "cell_type": "code",
   "execution_count": 62,
   "id": "6a44e02c",
   "metadata": {},
   "outputs": [
    {
     "data": {
      "text/plain": [
       "GridSearchCV(estimator=DecisionTreeClassifier(),\n",
       "             param_grid={'max_depth': [2, 4, 6, 8, 10],\n",
       "                         'max_leaf_nodes': [5, 10],\n",
       "                         'min_samples_leaf': [1, 2]})"
      ]
     },
     "execution_count": 62,
     "metadata": {},
     "output_type": "execute_result"
    }
   ],
   "source": [
    "params = {'max_depth' : [2,4,6,8,10],\n",
    "         'max_leaf_nodes' : [5,10],\n",
    "         'min_samples_leaf' : [1,2]}\n",
    "\n",
    "clf = DecisionTreeClassifier()\n",
    "gcv = GridSearchCV(estimator=clf, param_grid=params)\n",
    "gcv.fit(x_resam,y_resam)"
   ]
  },
  {
   "cell_type": "code",
   "execution_count": 63,
   "id": "3d0bca10",
   "metadata": {},
   "outputs": [],
   "source": [
    "new_model = gcv.best_estimator_\n",
    "new_model.fit(x_resam,y_resam)\n",
    "y_train_pred = new_model.predict(x_resam)\n",
    "y_test_pred = new_model.predict(x_test)"
   ]
  },
  {
   "cell_type": "markdown",
   "id": "f4ced4a0",
   "metadata": {},
   "source": [
    "### The right metric to evaluate the performance"
   ]
  },
  {
   "cell_type": "code",
   "execution_count": 64,
   "id": "a5e4ef31",
   "metadata": {},
   "outputs": [
    {
     "data": {
      "image/png": "[encoded data removed]",
      "text/plain": [
       "<Figure size 432x288 with 1 Axes>"
      ]
     },
     "metadata": {
      "needs_background": "light"
     },
     "output_type": "display_data"
    }
   ],
   "source": [
    "y_pred = new_model.predict_proba(x_test)[:,1]\n",
    "fpr,tpr,a = metrics.roc_curve(y_test,y_pred)\n",
    "auc = metrics.roc_auc_score(y_test,y_pred)\n",
    "plt.plot(fpr,tpr,label = 'Curve, Auc ='+str(auc))\n",
    "plt.legend(loc=4)\n",
    "plt.show()"
   ]
  },
  {
   "cell_type": "markdown",
   "id": "c58e78d3",
   "metadata": {},
   "source": [
    "### As AUROC is good enough hence we are evaluating the performance of model\n",
    "\n",
    "### Evaluate the performance of decision tree using grid search"
   ]
  },
  {
   "cell_type": "code",
   "execution_count": 65,
   "id": "9e1a6cf9",
   "metadata": {},
   "outputs": [
    {
     "name": "stdout",
     "output_type": "stream",
     "text": [
      "For Test data\n",
      "              precision    recall  f1-score   support\n",
      "\n",
      "           0       0.98      0.85      0.91      9819\n",
      "           1       0.44      0.87      0.59      1307\n",
      "\n",
      "    accuracy                           0.86     11126\n",
      "   macro avg       0.71      0.86      0.75     11126\n",
      "weighted avg       0.92      0.86      0.87     11126\n",
      "\n",
      "For Train data\n",
      "              precision    recall  f1-score   support\n",
      "\n",
      "           0       0.91      0.85      0.88     23057\n",
      "           1       0.86      0.91      0.89     23057\n",
      "\n",
      "    accuracy                           0.88     46114\n",
      "   macro avg       0.89      0.88      0.88     46114\n",
      "weighted avg       0.89      0.88      0.88     46114\n",
      "\n"
     ]
    },
    {
     "data": {
      "text/plain": [
       "<AxesSubplot:>"
      ]
     },
     "execution_count": 65,
     "metadata": {},
     "output_type": "execute_result"
    },
    {
     "data": {
      "image/png": "[encoded data removed]",
      "text/plain": [
       "<Figure size 432x288 with 2 Axes>"
      ]
     },
     "metadata": {
      "needs_background": "light"
     },
     "output_type": "display_data"
    }
   ],
   "source": [
    "pred_res_test = new_model.predict(x_test)\n",
    "print(\"For Test data\")\n",
    "print(classification_report(y_test,pred_res_test))\n",
    "print(\"For Train data\")\n",
    "pred_res_train = new_model.predict(x_resam)\n",
    "print(classification_report(y_resam,pred_res_train))\n",
    "p=confusion_matrix(y_test,pred_res_test)\n",
    "sns.heatmap(p,annot=True,cmap='Blues')"
   ]
  },
  {
   "cell_type": "markdown",
   "id": "4719e453",
   "metadata": {},
   "source": [
    "### c) Random Forest"
   ]
  },
  {
   "cell_type": "code",
   "execution_count": 66,
   "id": "5be7c370",
   "metadata": {},
   "outputs": [],
   "source": [
    "from sklearn.ensemble import RandomForestClassifier\n",
    "rf = RandomForestClassifier(n_estimators=120)\n",
    "rf1 = rf.fit(x_resam,y_resam)"
   ]
  },
  {
   "cell_type": "markdown",
   "id": "6cf31020",
   "metadata": {},
   "source": [
    "### The right metric to evaluate the performance."
   ]
  },
  {
   "cell_type": "code",
   "execution_count": 67,
   "id": "58dbc580",
   "metadata": {},
   "outputs": [
    {
     "data": {
      "image/png": "[encoded data removed]",
      "text/plain": [
       "<Figure size 432x288 with 1 Axes>"
      ]
     },
     "metadata": {
      "needs_background": "light"
     },
     "output_type": "display_data"
    }
   ],
   "source": [
    "y_pred = rf1.predict_proba(x_test)[:,1]\n",
    "fpr,tpr,a = metrics.roc_curve(y_test,y_pred)\n",
    "auc = metrics.roc_auc_score(y_test,y_pred)\n",
    "plt.plot(fpr,tpr,label = 'Curve, Auc ='+str(auc))\n",
    "plt.legend(loc=4)\n",
    "plt.show()"
   ]
  },
  {
   "cell_type": "markdown",
   "id": "51d44325",
   "metadata": {},
   "source": [
    "### As AUROC is good enough hence we are evaluating the performance of model\n",
    "\n",
    "### Evaluate the performance of random forest."
   ]
  },
  {
   "cell_type": "code",
   "execution_count": 68,
   "id": "83354c05",
   "metadata": {},
   "outputs": [
    {
     "name": "stdout",
     "output_type": "stream",
     "text": [
      "For Test data\n",
      "              precision    recall  f1-score   support\n",
      "\n",
      "           0       0.94      0.94      0.94      9819\n",
      "           1       0.58      0.58      0.58      1307\n",
      "\n",
      "    accuracy                           0.90     11126\n",
      "   macro avg       0.76      0.76      0.76     11126\n",
      "weighted avg       0.90      0.90      0.90     11126\n",
      "\n",
      "For Train data\n",
      "              precision    recall  f1-score   support\n",
      "\n",
      "           0       1.00      1.00      1.00     23057\n",
      "           1       1.00      1.00      1.00     23057\n",
      "\n",
      "    accuracy                           1.00     46114\n",
      "   macro avg       1.00      1.00      1.00     46114\n",
      "weighted avg       1.00      1.00      1.00     46114\n",
      "\n"
     ]
    },
    {
     "data": {
      "text/plain": [
       "<AxesSubplot:>"
      ]
     },
     "execution_count": 68,
     "metadata": {},
     "output_type": "execute_result"
    },
    {
     "data": {
      "image/png": "[encoded data removed]",
      "text/plain": [
       "<Figure size 432x288 with 2 Axes>"
      ]
     },
     "metadata": {
      "needs_background": "light"
     },
     "output_type": "display_data"
    }
   ],
   "source": [
    "pred_res_test = rf1.predict(x_test)\n",
    "print(\"For Test data\")\n",
    "print(classification_report(y_test,pred_res_test))\n",
    "pred_res_train = rf1.predict(x_resam)\n",
    "print(\"For Train data\")\n",
    "print(classification_report(y_resam,pred_res_train))\n",
    "p=confusion_matrix(y_test,pred_res_test)\n",
    "sns.heatmap(p,annot=True,cmap='Blues')"
   ]
  },
  {
   "cell_type": "markdown",
   "id": "fe2f42ea",
   "metadata": {},
   "source": [
    "#### Model suffer from over-fitting hence we are going for hyper-parameter tuning"
   ]
  },
  {
   "cell_type": "markdown",
   "id": "b68ba0b9",
   "metadata": {},
   "source": [
    "### Appropriate hyper-parameter tuning for Random Forest"
   ]
  },
  {
   "cell_type": "code",
   "execution_count": 69,
   "id": "7c7d4dea",
   "metadata": {},
   "outputs": [],
   "source": [
    "rf = RandomForestClassifier(n_estimators=8,min_samples_leaf=4,min_samples_split=9,criterion='entropy',max_features=4)\n",
    "rf1 = rf.fit(x_resam,y_resam)"
   ]
  },
  {
   "cell_type": "markdown",
   "id": "6820baba",
   "metadata": {},
   "source": [
    "### The right metric to evaluate the performance."
   ]
  },
  {
   "cell_type": "code",
   "execution_count": 70,
   "id": "e6171db5",
   "metadata": {},
   "outputs": [
    {
     "data": {
      "image/png": "[encoded data removed]",
      "text/plain": [
       "<Figure size 432x288 with 1 Axes>"
      ]
     },
     "metadata": {
      "needs_background": "light"
     },
     "output_type": "display_data"
    }
   ],
   "source": [
    "y_pred = rf1.predict_proba(x_test)[:,1]\n",
    "fpr,tpr,a = metrics.roc_curve(y_test,y_pred)\n",
    "auc = metrics.roc_auc_score(y_test,y_pred)\n",
    "plt.plot(fpr,tpr,label = 'Curve, Auc ='+str(auc))\n",
    "plt.legend(loc=4)\n",
    "plt.show()"
   ]
  },
  {
   "cell_type": "markdown",
   "id": "9553ef43",
   "metadata": {},
   "source": [
    "### As AUROC is good enough hence we are evaluating the performance of model\n",
    "\n",
    "### Evaluate the performance of random forest with hyper-parameter tuning"
   ]
  },
  {
   "cell_type": "code",
   "execution_count": 71,
   "id": "2561e684",
   "metadata": {},
   "outputs": [
    {
     "name": "stdout",
     "output_type": "stream",
     "text": [
      "For Test data\n",
      "              precision    recall  f1-score   support\n",
      "\n",
      "           0       0.96      0.92      0.94      9819\n",
      "           1       0.53      0.71      0.61      1307\n",
      "\n",
      "    accuracy                           0.89     11126\n",
      "   macro avg       0.74      0.81      0.77     11126\n",
      "weighted avg       0.91      0.89      0.90     11126\n",
      "\n",
      "For Train data\n",
      "              precision    recall  f1-score   support\n",
      "\n",
      "           0       0.98      0.94      0.96     23057\n",
      "           1       0.95      0.98      0.96     23057\n",
      "\n",
      "    accuracy                           0.96     46114\n",
      "   macro avg       0.96      0.96      0.96     46114\n",
      "weighted avg       0.96      0.96      0.96     46114\n",
      "\n"
     ]
    },
    {
     "data": {
      "text/plain": [
       "<AxesSubplot:>"
      ]
     },
     "execution_count": 71,
     "metadata": {},
     "output_type": "execute_result"
    },
    {
     "data": {
      "image/png": "[encoded data removed]",
      "text/plain": [
       "<Figure size 432x288 with 2 Axes>"
      ]
     },
     "metadata": {
      "needs_background": "light"
     },
     "output_type": "display_data"
    }
   ],
   "source": [
    "pred_res_test = rf1.predict(x_test)\n",
    "print(\"For Test data\")\n",
    "print(classification_report(y_test,pred_res_test))\n",
    "pred_res_train = rf1.predict(x_resam)\n",
    "print(\"For Train data\")\n",
    "print(classification_report(y_resam,pred_res_train))\n",
    "p=confusion_matrix(y_test,pred_res_test)\n",
    "sns.heatmap(p,annot=True,cmap='Blues')"
   ]
  },
  {
   "cell_type": "markdown",
   "id": "e7394068",
   "metadata": {},
   "source": [
    "## d) XG Boost"
   ]
  },
  {
   "cell_type": "code",
   "execution_count": 72,
   "id": "d4ae3041",
   "metadata": {},
   "outputs": [
    {
     "name": "stdout",
     "output_type": "stream",
     "text": [
      "[18:35:18] WARNING: C:/Users/Administrator/workspace/xgboost-win64_release_1.5.1/src/learner.cc:1115: Starting in XGBoost 1.3.0, the default evaluation metric used with the objective 'binary:logistic' was changed from 'error' to 'logloss'. Explicitly set eval_metric if you'd like to restore the old behavior.\n"
     ]
    },
    {
     "data": {
      "text/plain": [
       "XGBClassifier(base_score=0.5, booster='gbtree', colsample_bylevel=1,\n",
       "              colsample_bynode=1, colsample_bytree=1, enable_categorical=False,\n",
       "              gamma=0, gpu_id=-1, importance_type=None,\n",
       "              interaction_constraints='', learning_rate=0.08, max_delta_step=0,\n",
       "              max_depth=7, min_child_weight=1, missing=nan,\n",
       "              monotone_constraints='()', n_estimators=100, n_jobs=8,\n",
       "              num_parallel_tree=1, predictor='auto', random_state=0,\n",
       "              reg_alpha=0, reg_lambda=1, scale_pos_weight=1, subsample=0.75,\n",
       "              tree_method='exact', validate_parameters=1, verbosity=None)"
      ]
     },
     "execution_count": 72,
     "metadata": {},
     "output_type": "execute_result"
    }
   ],
   "source": [
    "import xgboost\n",
    "#train XGBoost model\n",
    "xgb = xgboost.XGBClassifier(n_estimators=100, learning_rate=0.08, gamma=0, subsample=0.75, colsample_bytree=1, max_depth=7)\n",
    "xgb.fit(x_resam, y_resam.squeeze().values)"
   ]
  },
  {
   "cell_type": "markdown",
   "id": "dcdf7866",
   "metadata": {},
   "source": [
    "### The right metric to evaluate the performance of the XGBoost."
   ]
  },
  {
   "cell_type": "code",
   "execution_count": 73,
   "id": "a2f4eebf",
   "metadata": {},
   "outputs": [
    {
     "data": {
      "image/png": "[encoded data removed]",
      "text/plain": [
       "<Figure size 432x288 with 1 Axes>"
      ]
     },
     "metadata": {
      "needs_background": "light"
     },
     "output_type": "display_data"
    }
   ],
   "source": [
    "y_test_preds=xgb.predict_proba(x_test)[:,1]\n",
    "fpr,tpr,a=metrics.roc_curve(y_test,y_test_preds)\n",
    "auc=metrics.roc_auc_score(y_test,y_test_preds)\n",
    "plt.plot(fpr,tpr,label=\"curve,auc=\"+str(auc))\n",
    "plt.legend(loc=4)\n",
    "plt.show()"
   ]
  },
  {
   "cell_type": "markdown",
   "id": "e6b06f81",
   "metadata": {},
   "source": [
    "### As AUROC is good enough hence we are evaluating the performance of model\n",
    "\n",
    "### Evaluate the performance of XG-Boost"
   ]
  },
  {
   "cell_type": "code",
   "execution_count": 74,
   "id": "afea38e0",
   "metadata": {},
   "outputs": [
    {
     "name": "stdout",
     "output_type": "stream",
     "text": [
      "For Test data\n",
      "              precision    recall  f1-score   support\n",
      "\n",
      "           0       0.95      0.95      0.95      9819\n",
      "           1       0.61      0.59      0.60      1307\n",
      "\n",
      "    accuracy                           0.91     11126\n",
      "   macro avg       0.78      0.77      0.77     11126\n",
      "weighted avg       0.91      0.91      0.91     11126\n",
      "\n",
      "For Train data\n",
      "              precision    recall  f1-score   support\n",
      "\n",
      "           0       0.97      0.97      0.97     23057\n",
      "           1       0.97      0.97      0.97     23057\n",
      "\n",
      "    accuracy                           0.97     46114\n",
      "   macro avg       0.97      0.97      0.97     46114\n",
      "weighted avg       0.97      0.97      0.97     46114\n",
      "\n"
     ]
    },
    {
     "data": {
      "text/plain": [
       "<AxesSubplot:>"
      ]
     },
     "execution_count": 74,
     "metadata": {},
     "output_type": "execute_result"
    },
    {
     "data": {
      "image/png": "[encoded data removed]",
      "text/plain": [
       "<Figure size 432x288 with 2 Axes>"
      ]
     },
     "metadata": {
      "needs_background": "light"
     },
     "output_type": "display_data"
    }
   ],
   "source": [
    "y_test_preds = xgb.predict(x_test)\n",
    "print(\"For Test data\")\n",
    "print(classification_report(y_test,y_test_preds))\n",
    "y_train_preds = xgb.predict(x_resam)\n",
    "print(\"For Train data\")\n",
    "print(classification_report(y_resam,y_train_preds))\n",
    "p=confusion_matrix(y_test,y_test_preds)\n",
    "sns.heatmap(p,annot=True,cmap='Blues')"
   ]
  },
  {
   "cell_type": "markdown",
   "id": "74aaa96b",
   "metadata": {},
   "source": [
    "## Evaluation of algorithms after SMOTE"
   ]
  },
  {
   "cell_type": "code",
   "execution_count": 75,
   "id": "eeed07ca",
   "metadata": {},
   "outputs": [],
   "source": [
    "models = []\n",
    "models.append((\"XGB\", XGBClassifier()))\n",
    "models.append((\"LR\", LogisticRegression()))\n",
    "models.append((\"Tree\", DecisionTreeClassifier(max_depth=6,max_leaf_nodes=10)))\n",
    "models.append((\"RF\", RandomForestClassifier()))"
   ]
  },
  {
   "cell_type": "code",
   "execution_count": 76,
   "id": "2dd2f4c3",
   "metadata": {},
   "outputs": [
    {
     "name": "stdout",
     "output_type": "stream",
     "text": [
      "[18:35:22] WARNING: C:/Users/Administrator/workspace/xgboost-win64_release_1.5.1/src/learner.cc:1115: Starting in XGBoost 1.3.0, the default evaluation metric used with the objective 'binary:logistic' was changed from 'error' to 'logloss'. Explicitly set eval_metric if you'd like to restore the old behavior.\n",
      "[18:35:24] WARNING: C:/Users/Administrator/workspace/xgboost-win64_release_1.5.1/src/learner.cc:1115: Starting in XGBoost 1.3.0, the default evaluation metric used with the objective 'binary:logistic' was changed from 'error' to 'logloss'. Explicitly set eval_metric if you'd like to restore the old behavior.\n",
      "[18:35:26] WARNING: C:/Users/Administrator/workspace/xgboost-win64_release_1.5.1/src/learner.cc:1115: Starting in XGBoost 1.3.0, the default evaluation metric used with the objective 'binary:logistic' was changed from 'error' to 'logloss'. Explicitly set eval_metric if you'd like to restore the old behavior.\n",
      "XGB: 94.897508 (3.577947)\n",
      "LR: 81.432955 (5.312675)\n",
      "Tree: 82.009946 (5.011780)\n",
      "RF: 94.331528 (3.503116)\n"
     ]
    }
   ],
   "source": [
    "results = []\n",
    "names = []\n",
    "for name,model in models:\n",
    "    kfold = KFold(n_splits=3)\n",
    "    cv_results = cross_val_score(model, x_resam,y_resam,cv=kfold, scoring=\"accuracy\")\n",
    "    results.append(cv_results)\n",
    "    names.append(name)\n",
    "    \n",
    "    outcome = \"%s: %f (%f)\" % (name,cv_results.mean()*100, cv_results.std()*100)\n",
    "    print(outcome)"
   ]
  },
  {
   "cell_type": "code",
   "execution_count": 77,
   "id": "cb313171",
   "metadata": {},
   "outputs": [
    {
     "data": {
      "image/png": "[encoded data removed]",
      "text/plain": [
       "<Figure size 432x288 with 1 Axes>"
      ]
     },
     "metadata": {
      "needs_background": "light"
     },
     "output_type": "display_data"
    }
   ],
   "source": [
    "fig = plt.figure()\n",
    "axis = fig.add_subplot(111)\n",
    "plt.boxplot(results)\n",
    "axis.set_xticklabels(names)\n",
    "plt.show()"
   ]
  },
  {
   "cell_type": "markdown",
   "id": "e4d369d0",
   "metadata": {},
   "source": [
    "## Among all the models which we made Decision Tree is best model as it is giving us best accuracy also the difference between the accuracy for train and test data is minimum."
   ]
  },
  {
   "cell_type": "markdown",
   "id": "840f6abd",
   "metadata": {},
   "source": [
    "### Team members:\n",
    "##### Aman kumar singh, Shagufta Anjum Azad, Anwesha Patnaik, Sirla Bapuji and Sidhi Agarwal"
   ]
  },
  {
   "cell_type": "code",
   "execution_count": null,
   "id": "70c1e7a1",
   "metadata": {},
   "outputs": [],
   "source": []
  },
  {
   "cell_type": "code",
   "execution_count": null,
   "id": "c1a729eb",
   "metadata": {},
   "outputs": [],
   "source": []
  },
  {
   "cell_type": "code",
   "execution_count": null,
   "id": "613cc800",
   "metadata": {},
   "outputs": [],
   "source": []
  }
 ],
 "metadata": {
  "kernelspec": {
   "display_name": "Python 3 (ipykernel)",
   "language": "python",
   "name": "python3"
  },
  "language_info": {
   "codemirror_mode": {
    "name": "ipython",
    "version": 3
   },
   "file_extension": ".py",
   "mimetype": "text/x-python",
   "name": "python",
   "nbconvert_exporter": "python",
   "pygments_lexer": "ipython3",
   "version": "3.9.7"
  }
 },
 "nbformat": 4,
 "nbformat_minor": 5
}
